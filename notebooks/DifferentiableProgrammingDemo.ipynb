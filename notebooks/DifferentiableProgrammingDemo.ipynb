{
 "cells": [
  {
   "cell_type": "markdown",
   "metadata": {},
   "source": [
    "# Demo notebook: Differentiable programming for flexible gradient-based optimisation of statistical models: An exemplary modelling challenge\n",
    "\n",
    "#### Maren Hackenberg \n",
    "#### Talk at the Workshop Statistical Computing, Reisensburg Castle\n",
    "#### July 27, 2022"
   ]
  },
  {
   "cell_type": "markdown",
   "metadata": {},
   "source": [
    "More extensive code, including scripts and a tutorial notebook, can be found in the [Github repository](https://github.com/maren-ha/DifferentiableProgrammingForStatisticalModeling) accompanying the TAS paper Hackenberg et al. (2021) ([journal version](https://doi.org/10.1080/00031305.2021.2002189), [arXiv:2021.05722](https://arxiv.org/abs/2012.05722)). \n",
    "\n",
    "The following notebook assumes you have downloaded the Github repo and [downloaded](https://julialang.org/downloads/) and installed Julia v1.6+. The required packages and their versions are specified in the `Project.toml` and `Manifest.toml` files in the main folder and automatically loaded/installed in the following commands. "
   ]
  },
  {
   "cell_type": "markdown",
   "metadata": {},
   "source": [
    "## Setup"
   ]
  },
  {
   "cell_type": "code",
   "execution_count": 7,
   "metadata": {},
   "outputs": [
    {
     "name": "stderr",
     "output_type": "stream",
     "text": [
      "\u001b[32m\u001b[1m  Activating\u001b[22m\u001b[39m environment at `~/Desktop/TalkReisensburg/DifferentiableProgrammingForStatisticalModeling-main/Project.toml`\n"
     ]
    },
    {
     "name": "stdout",
     "output_type": "stream",
     "text": [
      "\u001b[32m\u001b[1m      Status\u001b[22m\u001b[39m `~/Desktop/TalkReisensburg/DifferentiableProgrammingForStatisticalModeling-main/Project.toml`\n",
      " \u001b[90m [336ed68f] \u001b[39mCSV v0.8.5\n",
      " \u001b[90m [a93c6f00] \u001b[39mDataFrames v1.1.1\n",
      " \u001b[90m [5789e2e9] \u001b[39mFileIO v1.9.0\n",
      " \u001b[90m [38e38edf] \u001b[39mGLM v1.4.2\n",
      " \u001b[90m [033835bb] \u001b[39mJLD2 v0.4.3\n",
      " \u001b[90m [91a5bcdd] \u001b[39mPlots v1.15.3\n",
      " \u001b[90m [92933f4c] \u001b[39mProgressMeter v1.7.1\n",
      " \u001b[90m [2913bbd2] \u001b[39mStatsBase v0.33.8\n",
      " \u001b[90m [f3b207a7] \u001b[39mStatsPlots v0.14.21\n",
      " \u001b[90m [112f6efa] \u001b[39mVegaLite v2.6.0\n",
      " \u001b[90m [e88e6eb3] \u001b[39mZygote v0.6.12\n",
      " \u001b[90m [37e2e46d] \u001b[39mLinearAlgebra\n",
      " \u001b[90m [9a3f8284] \u001b[39mRandom\n",
      " \u001b[90m [10745b16] \u001b[39mStatistics\n"
     ]
    }
   ],
   "source": [
    "path_to_repo = string(@__DIR__, \"/../\")\n",
    "\n",
    "using Pkg;\n",
    "# activate environment \n",
    "Pkg.activate(path_to_repo)\n",
    "\n",
    "# install packages in versions specified in the Project.toml file \n",
    "Pkg.instantiate() \n",
    "\n",
    "# check that required package versions are there \n",
    "Pkg.status()"
   ]
  },
  {
   "cell_type": "code",
   "execution_count": 8,
   "metadata": {},
   "outputs": [],
   "source": [
    "# import packages\n",
    "using CSV \n",
    "using DataFrames\n",
    "using FileIO\n",
    "using GLM \n",
    "using JLD2\n",
    "using LinearAlgebra\n",
    "using ProgressMeter\n",
    "using Random\n",
    "using Statistics\n",
    "using StatsBase\n",
    "using StatsPlots\n",
    "using VegaLite\n",
    "using Zygote "
   ]
  },
  {
   "cell_type": "markdown",
   "metadata": {},
   "source": [
    "## Load data\n",
    "\n",
    "We use data from the DIVI registry from April - June 2020 as an example. We load data from all hospitals in the registry in that time, specifically the current cases on each day, the information whether or not a report has been made on each day, and predicted incidences in the county of the hospital according to an SEIR model (for details, see [Refisch et al, 2022](https://bmcmedresmethodol.biomedcentral.com/articles/10.1186/s12874-022-01579-9))"
   ]
  },
  {
   "cell_type": "code",
   "execution_count": 12,
   "metadata": {},
   "outputs": [
    {
     "data": {
      "text/plain": [
       "1281-element Vector{Any}:\n",
       " \u001b[1m70×5 DataFrame\u001b[0m\n",
       "\u001b[1m Row \u001b[0m│\u001b[1m date       \u001b[0m\u001b[1m currentcases \u001b[0m\u001b[1m notreported \u001b[0m\u001b[1m reported \u001b[0m\u001b[1m incidences \u001b[0m\n",
       "\u001b[1m     \u001b[0m│\u001b[90m Date…      \u001b[0m\u001b[90m Float64      \u001b[0m\u001b[90m Bool        \u001b[0m\u001b[90m Bool     \u001b[0m\u001b[90m Float64    \u001b[0m\n",
       "─────┼─────────────────────────────────────────────────────────────\n",
       "   1 │ 2020-04-16           0.0         true     false    11.5195\n",
       "   2 │ 2020-04-17           0.0         true     false    11.0398\n",
       "   3 │ 2020-04-18           0.0         true     false    10.5509\n",
       "   4 │ 2020-04-19           0.0         true     false    10.0588\n",
       "   5 │ 2020-04-20           0.0         true     false     9.5685\n",
       "   6 │ 2020-04-21           0.0         true     false     9.0838\n",
       "   7 │ 2020-04-22           0.0         true     false     8.60755\n",
       "   8 │ 2020-04-23           0.0         true     false     8.1421\n",
       "  ⋮  │     ⋮            ⋮             ⋮          ⋮          ⋮\n",
       "  64 │ 2020-06-18           0.0        false      true     1.5568\n",
       "  65 │ 2020-06-19           0.0        false      true     1.58805\n",
       "  66 │ 2020-06-20           0.0        false      true     1.62365\n",
       "  67 │ 2020-06-21           0.0        false      true     1.66385\n",
       "  68 │ 2020-06-22           0.0        false      true     1.7089\n",
       "  69 │ 2020-06-23           0.0        false      true     1.75905\n",
       "  70 │ 2020-06-24           0.0        false      true     1.8146\n",
       "\u001b[36m                                                    55 rows omitted\u001b[0m\n",
       " \u001b[1m70×5 DataFrame\u001b[0m\n",
       "\u001b[1m Row \u001b[0m│\u001b[1m date       \u001b[0m\u001b[1m currentcases \u001b[0m\u001b[1m notreported \u001b[0m\u001b[1m reported \u001b[0m\u001b[1m incidences \u001b[0m\n",
       "\u001b[1m     \u001b[0m│\u001b[90m Date…      \u001b[0m\u001b[90m Float64      \u001b[0m\u001b[90m Bool        \u001b[0m\u001b[90m Bool     \u001b[0m\u001b[90m Float64    \u001b[0m\n",
       "─────┼─────────────────────────────────────────────────────────────\n",
       "   1 │ 2020-04-16           0.0        false      true     1.96915\n",
       "   2 │ 2020-04-17           0.0        false      true     1.85795\n",
       "   3 │ 2020-04-18           0.0        false      true     1.7508\n",
       "   4 │ 2020-04-19           0.0        false      true     1.64825\n",
       "   5 │ 2020-04-20           0.0        false      true     1.55065\n",
       "   6 │ 2020-04-21           0.0        false      true     1.458\n",
       "   7 │ 2020-04-22           0.0        false      true     1.3702\n",
       "   8 │ 2020-04-23           0.0        false      true     1.2871\n",
       "  ⋮  │     ⋮            ⋮             ⋮          ⋮          ⋮\n",
       "  64 │ 2020-06-18           1.0        false      true     0.1863\n",
       "  65 │ 2020-06-19           1.0        false      true     0.18995\n",
       "  66 │ 2020-06-20           1.0        false      true     0.19465\n",
       "  67 │ 2020-06-21           1.0        false      true     0.20035\n",
       "  68 │ 2020-06-22           1.0        false      true     0.20725\n",
       "  69 │ 2020-06-23           1.0        false      true     0.2154\n",
       "  70 │ 2020-06-24           1.0        false      true     0.22495\n",
       "\u001b[36m                                                    55 rows omitted\u001b[0m\n",
       " \u001b[1m70×5 DataFrame\u001b[0m\n",
       "\u001b[1m Row \u001b[0m│\u001b[1m date       \u001b[0m\u001b[1m currentcases \u001b[0m\u001b[1m notreported \u001b[0m\u001b[1m reported \u001b[0m\u001b[1m incidences \u001b[0m\n",
       "\u001b[1m     \u001b[0m│\u001b[90m Date…      \u001b[0m\u001b[90m Float64      \u001b[0m\u001b[90m Bool        \u001b[0m\u001b[90m Bool     \u001b[0m\u001b[90m Float64    \u001b[0m\n",
       "─────┼─────────────────────────────────────────────────────────────\n",
       "   1 │ 2020-04-16           2.0        false      true     6.11995\n",
       "   2 │ 2020-04-17           2.0         true     false     5.84895\n",
       "   3 │ 2020-04-18           0.0        false      true     5.57195\n",
       "   4 │ 2020-04-19           0.0        false      true     5.2932\n",
       "   5 │ 2020-04-20           0.0        false      true     5.01595\n",
       "   6 │ 2020-04-21           0.0        false      true     4.7428\n",
       "   7 │ 2020-04-22           0.0        false      true     4.4756\n",
       "   8 │ 2020-04-23           0.0        false      true     4.2159\n",
       "  ⋮  │     ⋮            ⋮             ⋮          ⋮          ⋮\n",
       "  64 │ 2020-06-18           0.0        false      true     0.7222\n",
       "  65 │ 2020-06-19           0.0        false      true     0.7397\n",
       "  66 │ 2020-06-20           0.0        false      true     0.75995\n",
       "  67 │ 2020-06-21           0.0        false      true     0.78315\n",
       "  68 │ 2020-06-22           0.0        false      true     0.80945\n",
       "  69 │ 2020-06-23           0.0        false      true     0.83915\n",
       "  70 │ 2020-06-24           0.0        false      true     0.87245\n",
       "\u001b[36m                                                    55 rows omitted\u001b[0m\n",
       " \u001b[1m70×5 DataFrame\u001b[0m\n",
       "\u001b[1m Row \u001b[0m│\u001b[1m date       \u001b[0m\u001b[1m currentcases \u001b[0m\u001b[1m notreported \u001b[0m\u001b[1m reported \u001b[0m\u001b[1m incidences \u001b[0m\n",
       "\u001b[1m     \u001b[0m│\u001b[90m Date…      \u001b[0m\u001b[90m Float64      \u001b[0m\u001b[90m Bool        \u001b[0m\u001b[90m Bool     \u001b[0m\u001b[90m Float64    \u001b[0m\n",
       "─────┼─────────────────────────────────────────────────────────────\n",
       "   1 │ 2020-04-16           0.0         true     false     6.11995\n",
       "   2 │ 2020-04-17           0.0         true     false     5.84895\n",
       "   3 │ 2020-04-18           0.0         true     false     5.57195\n",
       "   4 │ 2020-04-19           0.0         true     false     5.2932\n",
       "   5 │ 2020-04-20           0.0         true     false     5.01595\n",
       "   6 │ 2020-04-21           0.0         true     false     4.7428\n",
       "   7 │ 2020-04-22           0.0         true     false     4.4756\n",
       "   8 │ 2020-04-23           0.0        false      true     4.2159\n",
       "  ⋮  │     ⋮            ⋮             ⋮          ⋮          ⋮\n",
       "  64 │ 2020-06-18           0.0        false      true     0.7222\n",
       "  65 │ 2020-06-19           0.0        false      true     0.7397\n",
       "  66 │ 2020-06-20           0.0        false      true     0.75995\n",
       "  67 │ 2020-06-21           0.0        false      true     0.78315\n",
       "  68 │ 2020-06-22           0.0        false      true     0.80945\n",
       "  69 │ 2020-06-23           0.0        false      true     0.83915\n",
       "  70 │ 2020-06-24           0.0        false      true     0.87245\n",
       "\u001b[36m                                                    55 rows omitted\u001b[0m\n",
       " \u001b[1m70×5 DataFrame\u001b[0m\n",
       "\u001b[1m Row \u001b[0m│\u001b[1m date       \u001b[0m\u001b[1m currentcases \u001b[0m\u001b[1m notreported \u001b[0m\u001b[1m reported \u001b[0m\u001b[1m incidences \u001b[0m\n",
       "\u001b[1m     \u001b[0m│\u001b[90m Date…      \u001b[0m\u001b[90m Float64      \u001b[0m\u001b[90m Bool        \u001b[0m\u001b[90m Bool     \u001b[0m\u001b[90m Float64    \u001b[0m\n",
       "─────┼─────────────────────────────────────────────────────────────\n",
       "   1 │ 2020-04-16           0.0        false      true     10.0352\n",
       "   2 │ 2020-04-17           0.0        false      true      9.5283\n",
       "   3 │ 2020-04-18           0.0        false      true      9.0219\n",
       "   4 │ 2020-04-19           0.0        false      true      8.523\n",
       "   5 │ 2020-04-20           0.0        false      true      8.0371\n",
       "   6 │ 2020-04-21           0.0        false      true      7.5678\n",
       "   7 │ 2020-04-22           0.0        false      true      7.1173\n",
       "   8 │ 2020-04-23           0.0        false      true      6.6871\n",
       "  ⋮  │     ⋮            ⋮             ⋮          ⋮          ⋮\n",
       "  64 │ 2020-06-18           0.0        false      true      0.8386\n",
       "  65 │ 2020-06-19           0.0        false      true      0.8449\n",
       "  66 │ 2020-06-20           0.0        false      true      0.8548\n",
       "  67 │ 2020-06-21           0.0        false      true      0.8684\n",
       "  68 │ 2020-06-22           0.0        false      true      0.8861\n",
       "  69 │ 2020-06-23           0.0        false      true      0.9081\n",
       "  70 │ 2020-06-24           0.0        false      true      0.9347\n",
       "\u001b[36m                                                    55 rows omitted\u001b[0m\n",
       " \u001b[1m70×5 DataFrame\u001b[0m\n",
       "\u001b[1m Row \u001b[0m│\u001b[1m date       \u001b[0m\u001b[1m currentcases \u001b[0m\u001b[1m notreported \u001b[0m\u001b[1m reported \u001b[0m\u001b[1m incidences \u001b[0m\n",
       "\u001b[1m     \u001b[0m│\u001b[90m Date…      \u001b[0m\u001b[90m Float64      \u001b[0m\u001b[90m Bool        \u001b[0m\u001b[90m Bool     \u001b[0m\u001b[90m Float64    \u001b[0m\n",
       "─────┼─────────────────────────────────────────────────────────────\n",
       "   1 │ 2020-04-16           0.0        false      true     1.8895\n",
       "   2 │ 2020-04-17           0.0        false      true     1.7754\n",
       "   3 │ 2020-04-18           0.0        false      true     1.6662\n",
       "   4 │ 2020-04-19           0.0        false      true     1.5623\n",
       "   5 │ 2020-04-20           0.0        false      true     1.4641\n",
       "   6 │ 2020-04-21           0.0        false      true     1.37155\n",
       "   7 │ 2020-04-22           0.0        false      true     1.2845\n",
       "   8 │ 2020-04-23           0.0        false      true     1.2028\n",
       "  ⋮  │     ⋮            ⋮             ⋮          ⋮          ⋮\n",
       "  64 │ 2020-06-18           0.0        false      true     0.1644\n",
       "  65 │ 2020-06-19           0.0        false      true     0.1671\n",
       "  66 │ 2020-06-20           0.0        false      true     0.17065\n",
       "  67 │ 2020-06-21           0.0         true     false     0.1751\n",
       "  68 │ 2020-06-22           0.0        false      true     0.18045\n",
       "  69 │ 2020-06-23           0.0        false      true     0.1869\n",
       "  70 │ 2020-06-24           0.0        false      true     0.1945\n",
       "\u001b[36m                                                    55 rows omitted\u001b[0m\n",
       " \u001b[1m70×5 DataFrame\u001b[0m\n",
       "\u001b[1m Row \u001b[0m│\u001b[1m date       \u001b[0m\u001b[1m currentcases \u001b[0m\u001b[1m notreported \u001b[0m\u001b[1m reported \u001b[0m\u001b[1m incidences \u001b[0m\n",
       "\u001b[1m     \u001b[0m│\u001b[90m Date…      \u001b[0m\u001b[90m Float64      \u001b[0m\u001b[90m Bool        \u001b[0m\u001b[90m Bool     \u001b[0m\u001b[90m Float64    \u001b[0m\n",
       "─────┼─────────────────────────────────────────────────────────────\n",
       "   1 │ 2020-04-16           0.0        false      true     8.12295\n",
       "   2 │ 2020-04-17           0.0        false      true     7.9102\n",
       "   3 │ 2020-04-18           0.0        false      true     7.6775\n",
       "   4 │ 2020-04-19           0.0        false      true     7.42815\n",
       "   5 │ 2020-04-20           0.0        false      true     7.16525\n",
       "   6 │ 2020-04-21           0.0        false      true     6.89165\n",
       "   7 │ 2020-04-22           0.0        false      true     6.6097\n",
       "   8 │ 2020-04-23           0.0        false      true     6.32175\n",
       "  ⋮  │     ⋮            ⋮             ⋮          ⋮          ⋮\n",
       "  64 │ 2020-06-18           0.0        false      true     0.6176\n",
       "  65 │ 2020-06-19           0.0        false      true     0.6254\n",
       "  66 │ 2020-06-20           0.0        false      true     0.63585\n",
       "  67 │ 2020-06-21           0.0        false      true     0.64905\n",
       "  68 │ 2020-06-22           0.0        false      true     0.6652\n",
       "  69 │ 2020-06-23           0.0        false      true     0.68455\n",
       "  70 │ 2020-06-24           0.0        false      true     0.70725\n",
       "\u001b[36m                                                    55 rows omitted\u001b[0m\n",
       " \u001b[1m70×5 DataFrame\u001b[0m\n",
       "\u001b[1m Row \u001b[0m│\u001b[1m date       \u001b[0m\u001b[1m currentcases \u001b[0m\u001b[1m notreported \u001b[0m\u001b[1m reported \u001b[0m\u001b[1m incidences \u001b[0m\n",
       "\u001b[1m     \u001b[0m│\u001b[90m Date…      \u001b[0m\u001b[90m Float64      \u001b[0m\u001b[90m Bool        \u001b[0m\u001b[90m Bool     \u001b[0m\u001b[90m Float64    \u001b[0m\n",
       "─────┼─────────────────────────────────────────────────────────────\n",
       "   1 │ 2020-04-16           0.0        false      true     8.12295\n",
       "   2 │ 2020-04-17           0.0        false      true     7.9102\n",
       "   3 │ 2020-04-18           0.0        false      true     7.6775\n",
       "   4 │ 2020-04-19           0.0        false      true     7.42815\n",
       "   5 │ 2020-04-20           0.0        false      true     7.16525\n",
       "   6 │ 2020-04-21           0.0        false      true     6.89165\n",
       "   7 │ 2020-04-22           0.0        false      true     6.6097\n",
       "   8 │ 2020-04-23           1.0        false      true     6.32175\n",
       "  ⋮  │     ⋮            ⋮             ⋮          ⋮          ⋮\n",
       "  64 │ 2020-06-18           1.0        false      true     0.6176\n",
       "  65 │ 2020-06-19           1.0        false      true     0.6254\n",
       "  66 │ 2020-06-20           1.0        false      true     0.63585\n",
       "  67 │ 2020-06-21           1.0        false      true     0.64905\n",
       "  68 │ 2020-06-22           1.0        false      true     0.6652\n",
       "  69 │ 2020-06-23           0.0        false      true     0.68455\n",
       "  70 │ 2020-06-24           0.0        false      true     0.70725\n",
       "\u001b[36m                                                    55 rows omitted\u001b[0m\n",
       " \u001b[1m70×5 DataFrame\u001b[0m\n",
       "\u001b[1m Row \u001b[0m│\u001b[1m date       \u001b[0m\u001b[1m currentcases \u001b[0m\u001b[1m notreported \u001b[0m\u001b[1m reported \u001b[0m\u001b[1m incidences \u001b[0m\n",
       "\u001b[1m     \u001b[0m│\u001b[90m Date…      \u001b[0m\u001b[90m Float64      \u001b[0m\u001b[90m Bool        \u001b[0m\u001b[90m Bool     \u001b[0m\u001b[90m Float64    \u001b[0m\n",
       "─────┼─────────────────────────────────────────────────────────────\n",
       "   1 │ 2020-04-16           1.0        false      true     5.245\n",
       "   2 │ 2020-04-17           1.0        false      true     4.9807\n",
       "   3 │ 2020-04-18           1.0         true     false     4.71665\n",
       "   4 │ 2020-04-19           1.0        false      true     4.4565\n",
       "   5 │ 2020-04-20           1.0         true     false     4.203\n",
       "   6 │ 2020-04-21           1.0        false      true     3.9581\n",
       "   7 │ 2020-04-22           1.0        false      true     3.72295\n",
       "   8 │ 2020-04-23           1.0        false      true     3.4983\n",
       "  ⋮  │     ⋮            ⋮             ⋮          ⋮          ⋮\n",
       "  64 │ 2020-06-18           0.0        false      true     0.43995\n",
       "  65 │ 2020-06-19           0.0        false      true     0.4434\n",
       "  66 │ 2020-06-20           0.0        false      true     0.4487\n",
       "  67 │ 2020-06-21           0.0        false      true     0.456\n",
       "  68 │ 2020-06-22           0.0        false      true     0.4654\n",
       "  69 │ 2020-06-23           0.0        false      true     0.4771\n",
       "  70 │ 2020-06-24           0.0        false      true     0.49125\n",
       "\u001b[36m                                                    55 rows omitted\u001b[0m\n",
       " \u001b[1m70×5 DataFrame\u001b[0m\n",
       "\u001b[1m Row \u001b[0m│\u001b[1m date       \u001b[0m\u001b[1m currentcases \u001b[0m\u001b[1m notreported \u001b[0m\u001b[1m reported \u001b[0m\u001b[1m incidences \u001b[0m\n",
       "\u001b[1m     \u001b[0m│\u001b[90m Date…      \u001b[0m\u001b[90m Float64      \u001b[0m\u001b[90m Bool        \u001b[0m\u001b[90m Bool     \u001b[0m\u001b[90m Float64    \u001b[0m\n",
       "─────┼─────────────────────────────────────────────────────────────\n",
       "   1 │ 2020-04-16           1.0        false      true    20.8074\n",
       "   2 │ 2020-04-17           1.0        false      true    19.7584\n",
       "   3 │ 2020-04-18           1.0         true     false    18.7101\n",
       "   4 │ 2020-04-19           1.0        false      true    17.6774\n",
       "   5 │ 2020-04-20           1.0        false      true    16.6713\n",
       "   6 │ 2020-04-21           1.0         true     false    15.6991\n",
       "   7 │ 2020-04-22           1.0        false      true    14.766\n",
       "   8 │ 2020-04-23           1.0        false      true    13.8745\n",
       "  ⋮  │     ⋮            ⋮             ⋮          ⋮          ⋮\n",
       "  64 │ 2020-06-18           0.0        false      true     1.7437\n",
       "  65 │ 2020-06-19           0.0        false      true     1.75715\n",
       "  66 │ 2020-06-20           0.0        false      true     1.77805\n",
       "  67 │ 2020-06-21           0.0        false      true     1.8068\n",
       "  68 │ 2020-06-22           0.0        false      true     1.84395\n",
       "  69 │ 2020-06-23           0.0        false      true     1.8901\n",
       "  70 │ 2020-06-24           0.0        false      true     1.9461\n",
       "\u001b[36m                                                    55 rows omitted\u001b[0m\n",
       " ⋮\n",
       " \u001b[1m70×5 DataFrame\u001b[0m\n",
       "\u001b[1m Row \u001b[0m│\u001b[1m date       \u001b[0m\u001b[1m currentcases \u001b[0m\u001b[1m notreported \u001b[0m\u001b[1m reported \u001b[0m\u001b[1m incidences \u001b[0m\n",
       "\u001b[1m     \u001b[0m│\u001b[90m Date…      \u001b[0m\u001b[90m Float64      \u001b[0m\u001b[90m Bool        \u001b[0m\u001b[90m Bool     \u001b[0m\u001b[90m Float64    \u001b[0m\n",
       "─────┼─────────────────────────────────────────────────────────────\n",
       "   1 │ 2020-04-16           0.0        false      true    160.736\n",
       "   2 │ 2020-04-17           0.0        false      true    152.862\n",
       "   3 │ 2020-04-18           0.0        false      true    144.996\n",
       "   4 │ 2020-04-19           0.0        false      true    137.237\n",
       "   5 │ 2020-04-20           0.0        false      true    129.66\n",
       "   6 │ 2020-04-21           0.0        false      true    122.314\n",
       "   7 │ 2020-04-22           0.0        false      true    115.231\n",
       "   8 │ 2020-04-23           0.0        false      true    108.431\n",
       "  ⋮  │     ⋮            ⋮             ⋮          ⋮          ⋮\n",
       "  64 │ 2020-06-18           0.0        false      true     29.2793\n",
       "  65 │ 2020-06-19           0.0        false      true     30.0434\n",
       "  66 │ 2020-06-20           0.0        false      true     30.8726\n",
       "  67 │ 2020-06-21           0.0        false      true     31.7684\n",
       "  68 │ 2020-06-22           0.0        false      true     32.733\n",
       "  69 │ 2020-06-23           0.0        false      true     33.7695\n",
       "  70 │ 2020-06-24           0.0        false      true     34.8817\n",
       "\u001b[36m                                                    55 rows omitted\u001b[0m\n",
       " \u001b[1m70×5 DataFrame\u001b[0m\n",
       "\u001b[1m Row \u001b[0m│\u001b[1m date       \u001b[0m\u001b[1m currentcases \u001b[0m\u001b[1m notreported \u001b[0m\u001b[1m reported \u001b[0m\u001b[1m incidences \u001b[0m\n",
       "\u001b[1m     \u001b[0m│\u001b[90m Date…      \u001b[0m\u001b[90m Float64      \u001b[0m\u001b[90m Bool        \u001b[0m\u001b[90m Bool     \u001b[0m\u001b[90m Float64    \u001b[0m\n",
       "─────┼─────────────────────────────────────────────────────────────\n",
       "   1 │ 2020-04-16          10.0         true     false    482.209\n",
       "   2 │ 2020-04-17          10.0        false      true    458.585\n",
       "   3 │ 2020-04-18          11.0        false      true    434.987\n",
       "   4 │ 2020-04-19          11.0        false      true    411.711\n",
       "   5 │ 2020-04-20          11.0        false      true    388.979\n",
       "   6 │ 2020-04-21          11.0        false      true    366.941\n",
       "   7 │ 2020-04-22          11.0        false      true    345.692\n",
       "   8 │ 2020-04-23          11.0        false      true    325.294\n",
       "  ⋮  │     ⋮            ⋮             ⋮          ⋮          ⋮\n",
       "  64 │ 2020-06-18           2.0        false      true     87.8379\n",
       "  65 │ 2020-06-19           1.0        false      true     90.1303\n",
       "  66 │ 2020-06-20           1.0        false      true     92.6178\n",
       "  67 │ 2020-06-21           1.0        false      true     95.3051\n",
       "  68 │ 2020-06-22           2.0        false      true     98.1989\n",
       "  69 │ 2020-06-23           1.0        false      true    101.309\n",
       "  70 │ 2020-06-24           1.0        false      true    104.645\n",
       "\u001b[36m                                                    55 rows omitted\u001b[0m\n",
       " \u001b[1m70×5 DataFrame\u001b[0m\n",
       "\u001b[1m Row \u001b[0m│\u001b[1m date       \u001b[0m\u001b[1m currentcases \u001b[0m\u001b[1m notreported \u001b[0m\u001b[1m reported \u001b[0m\u001b[1m incidences \u001b[0m\n",
       "\u001b[1m     \u001b[0m│\u001b[90m Date…      \u001b[0m\u001b[90m Float64      \u001b[0m\u001b[90m Bool        \u001b[0m\u001b[90m Bool     \u001b[0m\u001b[90m Float64    \u001b[0m\n",
       "─────┼─────────────────────────────────────────────────────────────\n",
       "   1 │ 2020-04-16          42.0        false      true    1285.89\n",
       "   2 │ 2020-04-17          42.0        false      true    1222.89\n",
       "   3 │ 2020-04-18          43.0        false      true    1159.97\n",
       "   4 │ 2020-04-19          48.0        false      true    1097.9\n",
       "   5 │ 2020-04-20          48.0        false      true    1037.28\n",
       "   6 │ 2020-04-21          51.0        false      true     978.508\n",
       "   7 │ 2020-04-22          48.0        false      true     921.844\n",
       "   8 │ 2020-04-23          48.0        false      true     867.452\n",
       "  ⋮  │     ⋮            ⋮             ⋮          ⋮          ⋮\n",
       "  64 │ 2020-06-18          22.0        false      true     234.234\n",
       "  65 │ 2020-06-19          23.0        false      true     240.348\n",
       "  66 │ 2020-06-20          24.0        false      true     246.981\n",
       "  67 │ 2020-06-21          23.0        false      true     254.147\n",
       "  68 │ 2020-06-22          23.0        false      true     261.864\n",
       "  69 │ 2020-06-23          19.0        false      true     270.156\n",
       "  70 │ 2020-06-24          18.0        false      true     279.053\n",
       "\u001b[36m                                                    55 rows omitted\u001b[0m\n",
       " \u001b[1m70×5 DataFrame\u001b[0m\n",
       "\u001b[1m Row \u001b[0m│\u001b[1m date       \u001b[0m\u001b[1m currentcases \u001b[0m\u001b[1m notreported \u001b[0m\u001b[1m reported \u001b[0m\u001b[1m incidences \u001b[0m\n",
       "\u001b[1m     \u001b[0m│\u001b[90m Date…      \u001b[0m\u001b[90m Float64      \u001b[0m\u001b[90m Bool        \u001b[0m\u001b[90m Bool     \u001b[0m\u001b[90m Float64    \u001b[0m\n",
       "─────┼─────────────────────────────────────────────────────────────\n",
       "   1 │ 2020-04-16           6.0        false      true     4.1249\n",
       "   2 │ 2020-04-17           7.0        false      true     4.02345\n",
       "   3 │ 2020-04-18           6.0        false      true     3.9197\n",
       "   4 │ 2020-04-19           6.0        false      true     3.81435\n",
       "   5 │ 2020-04-20           6.0        false      true     3.708\n",
       "   6 │ 2020-04-21           6.0        false      true     3.60095\n",
       "   7 │ 2020-04-22           5.0        false      true     3.49345\n",
       "   8 │ 2020-04-23           6.0        false      true     3.38565\n",
       "  ⋮  │     ⋮            ⋮             ⋮          ⋮          ⋮\n",
       "  64 │ 2020-06-18           1.0        false      true     0.59595\n",
       "  65 │ 2020-06-19           0.0        false      true     0.58965\n",
       "  66 │ 2020-06-20           0.0        false      true     0.5852\n",
       "  67 │ 2020-06-21           0.0        false      true     0.58275\n",
       "  68 │ 2020-06-22           0.0        false      true     0.5824\n",
       "  69 │ 2020-06-23           1.0        false      true     0.5843\n",
       "  70 │ 2020-06-24           0.0        false      true     0.58855\n",
       "\u001b[36m                                                    55 rows omitted\u001b[0m\n",
       " \u001b[1m70×5 DataFrame\u001b[0m\n",
       "\u001b[1m Row \u001b[0m│\u001b[1m date       \u001b[0m\u001b[1m currentcases \u001b[0m\u001b[1m notreported \u001b[0m\u001b[1m reported \u001b[0m\u001b[1m incidences \u001b[0m\n",
       "\u001b[1m     \u001b[0m│\u001b[90m Date…      \u001b[0m\u001b[90m Float64      \u001b[0m\u001b[90m Bool        \u001b[0m\u001b[90m Bool     \u001b[0m\u001b[90m Float64    \u001b[0m\n",
       "─────┼─────────────────────────────────────────────────────────────\n",
       "   1 │ 2020-04-16           0.0        false      true   124.488\n",
       "   2 │ 2020-04-17           0.0        false      true   118.791\n",
       "   3 │ 2020-04-18           0.0        false      true   113.056\n",
       "   4 │ 2020-04-19           0.0        false      true   107.333\n",
       "   5 │ 2020-04-20           0.0        false      true   101.665\n",
       "   6 │ 2020-04-21           0.0        false      true    96.0837\n",
       "   7 │ 2020-04-22           0.0        false      true    90.6116\n",
       "   8 │ 2020-04-23           0.0        false      true    85.2695\n",
       "  ⋮  │     ⋮            ⋮             ⋮          ⋮          ⋮\n",
       "  64 │ 2020-06-18           0.0        false      true     6.1222\n",
       "  65 │ 2020-06-19           0.0        false      true     6.2019\n",
       "  66 │ 2020-06-20           0.0        false      true     6.31175\n",
       "  67 │ 2020-06-21           0.0        false      true     6.4529\n",
       "  68 │ 2020-06-22           0.0        false      true     6.6269\n",
       "  69 │ 2020-06-23           0.0        false      true     6.83595\n",
       "  70 │ 2020-06-24           0.0        false      true     7.08255\n",
       "\u001b[36m                                                    55 rows omitted\u001b[0m\n",
       " \u001b[1m70×5 DataFrame\u001b[0m\n",
       "\u001b[1m Row \u001b[0m│\u001b[1m date       \u001b[0m\u001b[1m currentcases \u001b[0m\u001b[1m notreported \u001b[0m\u001b[1m reported \u001b[0m\u001b[1m incidences \u001b[0m\n",
       "\u001b[1m     \u001b[0m│\u001b[90m Date…      \u001b[0m\u001b[90m Float64      \u001b[0m\u001b[90m Bool        \u001b[0m\u001b[90m Bool     \u001b[0m\u001b[90m Float64    \u001b[0m\n",
       "─────┼─────────────────────────────────────────────────────────────\n",
       "   1 │ 2020-04-16           1.0        false      true     3.2763\n",
       "   2 │ 2020-04-17           1.0        false      true     3.1357\n",
       "   3 │ 2020-04-18           1.0        false      true     2.99395\n",
       "   4 │ 2020-04-19           2.0        false      true     2.85265\n",
       "   5 │ 2020-04-20           2.0        false      true     2.71295\n",
       "   6 │ 2020-04-21           2.0        false      true     2.57585\n",
       "   7 │ 2020-04-22           2.0        false      true     2.44185\n",
       "   8 │ 2020-04-23           3.0        false      true     2.3116\n",
       "  ⋮  │     ⋮            ⋮             ⋮          ⋮          ⋮\n",
       "  64 │ 2020-06-18           0.0        false      true     0.48035\n",
       "  65 │ 2020-06-19           0.0        false      true     0.4843\n",
       "  66 │ 2020-06-20           0.0        false      true     0.48925\n",
       "  67 │ 2020-06-21           0.0        false      true     0.4954\n",
       "  68 │ 2020-06-22           0.0        false      true     0.5028\n",
       "  69 │ 2020-06-23           0.0        false      true     0.5115\n",
       "  70 │ 2020-06-24           0.0        false      true     0.5216\n",
       "\u001b[36m                                                    55 rows omitted\u001b[0m\n",
       " \u001b[1m70×5 DataFrame\u001b[0m\n",
       "\u001b[1m Row \u001b[0m│\u001b[1m date       \u001b[0m\u001b[1m currentcases \u001b[0m\u001b[1m notreported \u001b[0m\u001b[1m reported \u001b[0m\u001b[1m incidences \u001b[0m\n",
       "\u001b[1m     \u001b[0m│\u001b[90m Date…      \u001b[0m\u001b[90m Float64      \u001b[0m\u001b[90m Bool        \u001b[0m\u001b[90m Bool     \u001b[0m\u001b[90m Float64    \u001b[0m\n",
       "─────┼─────────────────────────────────────────────────────────────\n",
       "   1 │ 2020-04-16           9.0        false      true     6.84305\n",
       "   2 │ 2020-04-17           8.0        false      true     6.5333\n",
       "   3 │ 2020-04-18          12.0        false      true     6.2213\n",
       "   4 │ 2020-04-19          12.0        false      true     5.9104\n",
       "   5 │ 2020-04-20          11.0        false      true     5.6032\n",
       "   6 │ 2020-04-21          12.0        false      true     5.30155\n",
       "   7 │ 2020-04-22           8.0        false      true     5.00675\n",
       "   8 │ 2020-04-23          14.0        false      true     4.7199\n",
       "  ⋮  │     ⋮            ⋮             ⋮          ⋮          ⋮\n",
       "  64 │ 2020-06-18           1.0        false      true     0.33505\n",
       "  65 │ 2020-06-19           0.0        false      true     0.33705\n",
       "  66 │ 2020-06-20           0.0        false      true     0.3407\n",
       "  67 │ 2020-06-21           0.0        false      true     0.346\n",
       "  68 │ 2020-06-22           0.0        false      true     0.353\n",
       "  69 │ 2020-06-23           0.0        false      true     0.3618\n",
       "  70 │ 2020-06-24           0.0        false      true     0.37255\n",
       "\u001b[36m                                                    55 rows omitted\u001b[0m\n",
       " \u001b[1m70×5 DataFrame\u001b[0m\n",
       "\u001b[1m Row \u001b[0m│\u001b[1m date       \u001b[0m\u001b[1m currentcases \u001b[0m\u001b[1m notreported \u001b[0m\u001b[1m reported \u001b[0m\u001b[1m incidences \u001b[0m\n",
       "\u001b[1m     \u001b[0m│\u001b[90m Date…      \u001b[0m\u001b[90m Float64      \u001b[0m\u001b[90m Bool        \u001b[0m\u001b[90m Bool     \u001b[0m\u001b[90m Float64    \u001b[0m\n",
       "─────┼─────────────────────────────────────────────────────────────\n",
       "   1 │ 2020-04-16           1.0         true     false     3.5625\n",
       "   2 │ 2020-04-17           1.0        false      true     3.38675\n",
       "   3 │ 2020-04-18           1.0         true     false     3.209\n",
       "   4 │ 2020-04-19           1.0         true     false     3.032\n",
       "   5 │ 2020-04-20           1.0        false      true     2.8577\n",
       "   6 │ 2020-04-21           1.0        false      true     2.68775\n",
       "   7 │ 2020-04-22           1.0        false      true     2.52325\n",
       "   8 │ 2020-04-23           1.0        false      true     2.36495\n",
       "  ⋮  │     ⋮            ⋮             ⋮          ⋮          ⋮\n",
       "  64 │ 2020-06-18           0.0        false      true     0.1672\n",
       "  65 │ 2020-06-19           0.0        false      true     0.1667\n",
       "  66 │ 2020-06-20           0.0        false      true     0.1669\n",
       "  67 │ 2020-06-21           0.0        false      true     0.1679\n",
       "  68 │ 2020-06-22           0.0        false      true     0.1696\n",
       "  69 │ 2020-06-23           0.0        false      true     0.1722\n",
       "  70 │ 2020-06-24           0.0        false      true     0.17565\n",
       "\u001b[36m                                                    55 rows omitted\u001b[0m\n",
       " \u001b[1m70×5 DataFrame\u001b[0m\n",
       "\u001b[1m Row \u001b[0m│\u001b[1m date       \u001b[0m\u001b[1m currentcases \u001b[0m\u001b[1m notreported \u001b[0m\u001b[1m reported \u001b[0m\u001b[1m incidences \u001b[0m\n",
       "\u001b[1m     \u001b[0m│\u001b[90m Date…      \u001b[0m\u001b[90m Float64      \u001b[0m\u001b[90m Bool        \u001b[0m\u001b[90m Bool     \u001b[0m\u001b[90m Float64    \u001b[0m\n",
       "─────┼─────────────────────────────────────────────────────────────\n",
       "   1 │ 2020-04-16           0.0        false      true     3.90655\n",
       "   2 │ 2020-04-17           0.0        false      true     3.7367\n",
       "   3 │ 2020-04-18           0.0        false      true     3.5672\n",
       "   4 │ 2020-04-19           0.0        false      true     3.39945\n",
       "   5 │ 2020-04-20           0.0        false      true     3.23445\n",
       "   6 │ 2020-04-21           0.0        false      true     3.0728\n",
       "   7 │ 2020-04-22           0.0        false      true     2.9149\n",
       "   8 │ 2020-04-23           0.0        false      true     2.7612\n",
       "  ⋮  │     ⋮            ⋮             ⋮          ⋮          ⋮\n",
       "  64 │ 2020-06-18           0.0        false      true     0.331\n",
       "  65 │ 2020-06-19           0.0        false      true     0.3336\n",
       "  66 │ 2020-06-20           0.0         true     false     0.3376\n",
       "  67 │ 2020-06-21           0.0        false      true     0.343\n",
       "  68 │ 2020-06-22           0.0        false      true     0.3498\n",
       "  69 │ 2020-06-23           0.0        false      true     0.3582\n",
       "  70 │ 2020-06-24           0.0        false      true     0.36835\n",
       "\u001b[36m                                                    55 rows omitted\u001b[0m"
      ]
     },
     "metadata": {},
     "output_type": "display_data"
    }
   ],
   "source": [
    "#load data  \n",
    "datadict = load(string(@__DIR__,\"/../data/data_allhospitals.jld2\"))\n",
    "hospital_list = datadict[\"hospital_dfs\"]"
   ]
  },
  {
   "cell_type": "markdown",
   "metadata": {},
   "source": [
    "## Visualize the number of reported cases over time \n",
    "\n",
    "In the following, we will take a look at an exemplary hospital (the one used to create the first figure in the talk and figures 1 and 2 in the manuscript), which can be found at index 40 in our dataset. \n",
    "\n",
    "Let's first look at the data. Note that the values shown in `:currentcases` have been imputed based on last-observation-carried-forward whenever a report has been missing, as indicated by a $0$ in the `:reported`column. "
   ]
  },
  {
   "cell_type": "code",
   "execution_count": 14,
   "metadata": {},
   "outputs": [
    {
     "data": {
      "text/html": [
       "<table class=\"data-frame\"><thead><tr><th></th><th>date</th><th>currentcases</th><th>reported</th></tr><tr><th></th><th>Date…</th><th>Float64</th><th>Bool</th></tr></thead><tbody><p>10 rows × 3 columns</p><tr><th>1</th><td>2020-04-16</td><td>0.0</td><td>0</td></tr><tr><th>2</th><td>2020-04-17</td><td>0.0</td><td>1</td></tr><tr><th>3</th><td>2020-04-18</td><td>0.0</td><td>1</td></tr><tr><th>4</th><td>2020-04-19</td><td>0.0</td><td>1</td></tr><tr><th>5</th><td>2020-04-20</td><td>2.0</td><td>1</td></tr><tr><th>6</th><td>2020-04-21</td><td>0.0</td><td>1</td></tr><tr><th>7</th><td>2020-04-22</td><td>1.0</td><td>1</td></tr><tr><th>8</th><td>2020-04-23</td><td>2.0</td><td>1</td></tr><tr><th>9</th><td>2020-04-24</td><td>2.0</td><td>1</td></tr><tr><th>10</th><td>2020-04-25</td><td>2.0</td><td>0</td></tr></tbody></table>"
      ],
      "text/latex": [
       "\\begin{tabular}{r|ccc}\n",
       "\t& date & currentcases & reported\\\\\n",
       "\t\\hline\n",
       "\t& Date… & Float64 & Bool\\\\\n",
       "\t\\hline\n",
       "\t1 & 2020-04-16 & 0.0 & 0 \\\\\n",
       "\t2 & 2020-04-17 & 0.0 & 1 \\\\\n",
       "\t3 & 2020-04-18 & 0.0 & 1 \\\\\n",
       "\t4 & 2020-04-19 & 0.0 & 1 \\\\\n",
       "\t5 & 2020-04-20 & 2.0 & 1 \\\\\n",
       "\t6 & 2020-04-21 & 0.0 & 1 \\\\\n",
       "\t7 & 2020-04-22 & 1.0 & 1 \\\\\n",
       "\t8 & 2020-04-23 & 2.0 & 1 \\\\\n",
       "\t9 & 2020-04-24 & 2.0 & 1 \\\\\n",
       "\t10 & 2020-04-25 & 2.0 & 0 \\\\\n",
       "\\end{tabular}\n"
      ],
      "text/plain": [
       "\u001b[1m10×3 DataFrame\u001b[0m\n",
       "\u001b[1m Row \u001b[0m│\u001b[1m date       \u001b[0m\u001b[1m currentcases \u001b[0m\u001b[1m reported \u001b[0m\n",
       "\u001b[1m     \u001b[0m│\u001b[90m Date…      \u001b[0m\u001b[90m Float64      \u001b[0m\u001b[90m Bool     \u001b[0m\n",
       "─────┼────────────────────────────────────\n",
       "   1 │ 2020-04-16           0.0     false\n",
       "   2 │ 2020-04-17           0.0      true\n",
       "   3 │ 2020-04-18           0.0      true\n",
       "   4 │ 2020-04-19           0.0      true\n",
       "   5 │ 2020-04-20           2.0      true\n",
       "   6 │ 2020-04-21           0.0      true\n",
       "   7 │ 2020-04-22           1.0      true\n",
       "   8 │ 2020-04-23           2.0      true\n",
       "   9 │ 2020-04-24           2.0      true\n",
       "  10 │ 2020-04-25           2.0     false"
      ]
     },
     "metadata": {},
     "output_type": "display_data"
    }
   ],
   "source": [
    "myhospital = hospital_list[40][:,[:date, :currentcases, :reported]]\n",
    "first(myhospital, 10)"
   ]
  },
  {
   "cell_type": "markdown",
   "metadata": {},
   "source": [
    "We replace all numbers in `:currentcases` that have been imputed by last-observation-carried-forward with `NaN`, i.e., all values in rows where `:reported` is equal to $0$, before plotting the number of current cases over time to visualize the missingness pattern. "
   ]
  },
  {
   "cell_type": "code",
   "execution_count": 15,
   "metadata": {},
   "outputs": [
    {
     "data": {
      "application/vnd.vegalite.v4+json": {
       "data": {
        "values": [
         {
          "currentcases": 0,
          "date": "2020-04-16",
          "reported": false
         },
         {
          "currentcases": 0,
          "date": "2020-04-17",
          "reported": true
         },
         {
          "currentcases": 0,
          "date": "2020-04-18",
          "reported": true
         },
         {
          "currentcases": 0,
          "date": "2020-04-19",
          "reported": true
         },
         {
          "currentcases": 2,
          "date": "2020-04-20",
          "reported": true
         },
         {
          "currentcases": 0,
          "date": "2020-04-21",
          "reported": true
         },
         {
          "currentcases": 1,
          "date": "2020-04-22",
          "reported": true
         },
         {
          "currentcases": 2,
          "date": "2020-04-23",
          "reported": true
         },
         {
          "currentcases": 2,
          "date": "2020-04-24",
          "reported": true
         },
         {
          "currentcases": 2,
          "date": "2020-04-25",
          "reported": false
         },
         {
          "currentcases": 3,
          "date": "2020-04-26",
          "reported": true
         },
         {
          "currentcases": 3,
          "date": "2020-04-27",
          "reported": false
         },
         {
          "currentcases": 4,
          "date": "2020-04-28",
          "reported": true
         },
         {
          "currentcases": 4,
          "date": "2020-04-29",
          "reported": false
         },
         {
          "currentcases": 5,
          "date": "2020-04-30",
          "reported": true
         },
         {
          "currentcases": 5,
          "date": "2020-05-01",
          "reported": false
         },
         {
          "currentcases": 5,
          "date": "2020-05-02",
          "reported": false
         },
         {
          "currentcases": 5,
          "date": "2020-05-03",
          "reported": false
         },
         {
          "currentcases": 4,
          "date": "2020-05-04",
          "reported": true
         },
         {
          "currentcases": 3,
          "date": "2020-05-05",
          "reported": true
         },
         {
          "currentcases": 2,
          "date": "2020-05-06",
          "reported": true
         },
         {
          "currentcases": 3,
          "date": "2020-05-07",
          "reported": true
         },
         {
          "currentcases": 3,
          "date": "2020-05-08",
          "reported": false
         },
         {
          "currentcases": 3,
          "date": "2020-05-09",
          "reported": false
         },
         {
          "currentcases": 3,
          "date": "2020-05-10",
          "reported": false
         },
         {
          "currentcases": 5,
          "date": "2020-05-11",
          "reported": true
         },
         {
          "currentcases": 5,
          "date": "2020-05-12",
          "reported": false
         },
         {
          "currentcases": 5,
          "date": "2020-05-13",
          "reported": false
         },
         {
          "currentcases": 5,
          "date": "2020-05-14",
          "reported": false
         },
         {
          "currentcases": 5,
          "date": "2020-05-15",
          "reported": false
         },
         {
          "currentcases": 5,
          "date": "2020-05-16",
          "reported": false
         },
         {
          "currentcases": 5,
          "date": "2020-05-17",
          "reported": false
         },
         {
          "currentcases": 1,
          "date": "2020-05-18",
          "reported": true
         },
         {
          "currentcases": 1,
          "date": "2020-05-19",
          "reported": true
         },
         {
          "currentcases": 1,
          "date": "2020-05-20",
          "reported": false
         },
         {
          "currentcases": 1,
          "date": "2020-05-21",
          "reported": false
         },
         {
          "currentcases": 1,
          "date": "2020-05-22",
          "reported": false
         },
         {
          "currentcases": 1,
          "date": "2020-05-23",
          "reported": false
         },
         {
          "currentcases": 1,
          "date": "2020-05-24",
          "reported": false
         },
         {
          "currentcases": 1,
          "date": "2020-05-25",
          "reported": false
         },
         {
          "currentcases": 2,
          "date": "2020-05-26",
          "reported": true
         },
         {
          "currentcases": 2,
          "date": "2020-05-27",
          "reported": false
         },
         {
          "currentcases": 3,
          "date": "2020-05-28",
          "reported": true
         },
         {
          "currentcases": 3,
          "date": "2020-05-29",
          "reported": false
         },
         {
          "currentcases": 3,
          "date": "2020-05-30",
          "reported": false
         },
         {
          "currentcases": 3,
          "date": "2020-05-31",
          "reported": false
         },
         {
          "currentcases": 3,
          "date": "2020-06-01",
          "reported": false
         },
         {
          "currentcases": 3,
          "date": "2020-06-02",
          "reported": false
         },
         {
          "currentcases": 3,
          "date": "2020-06-03",
          "reported": false
         },
         {
          "currentcases": 3,
          "date": "2020-06-04",
          "reported": false
         },
         {
          "currentcases": 3,
          "date": "2020-06-05",
          "reported": false
         },
         {
          "currentcases": 3,
          "date": "2020-06-06",
          "reported": false
         },
         {
          "currentcases": 3,
          "date": "2020-06-07",
          "reported": false
         },
         {
          "currentcases": 2,
          "date": "2020-06-08",
          "reported": true
         },
         {
          "currentcases": 2,
          "date": "2020-06-09",
          "reported": true
         },
         {
          "currentcases": 1,
          "date": "2020-06-10",
          "reported": true
         },
         {
          "currentcases": 3,
          "date": "2020-06-11",
          "reported": true
         },
         {
          "currentcases": 3,
          "date": "2020-06-12",
          "reported": false
         },
         {
          "currentcases": 3,
          "date": "2020-06-13",
          "reported": false
         },
         {
          "currentcases": 3,
          "date": "2020-06-14",
          "reported": false
         },
         {
          "currentcases": 2,
          "date": "2020-06-15",
          "reported": true
         },
         {
          "currentcases": 2,
          "date": "2020-06-16",
          "reported": false
         },
         {
          "currentcases": 2,
          "date": "2020-06-17",
          "reported": false
         },
         {
          "currentcases": 2,
          "date": "2020-06-18",
          "reported": true
         },
         {
          "currentcases": 3,
          "date": "2020-06-19",
          "reported": true
         },
         {
          "currentcases": 3,
          "date": "2020-06-20",
          "reported": false
         },
         {
          "currentcases": 3,
          "date": "2020-06-21",
          "reported": false
         },
         {
          "currentcases": 3,
          "date": "2020-06-22",
          "reported": false
         },
         {
          "currentcases": 3,
          "date": "2020-06-23",
          "reported": false
         },
         {
          "currentcases": 3,
          "date": "2020-06-24",
          "reported": false
         }
        ]
       },
       "encoding": {
        "x": {
         "axis": {
          "title": "Date"
         },
         "field": "date",
         "type": "temporal"
        },
        "y": {
         "axis": {
          "title": "Number of prevalent COVID-19 cases"
         },
         "field": "currentcases",
         "type": "quantitative"
        }
       },
       "height": 150,
       "mark": {
        "color": "#004b96",
        "opacity": 0.8,
        "point": {
         "color": "#004b96",
         "filled": true,
         "opacity": 0.6,
         "size": 100
        },
        "type": "line"
       },
       "width": 700
      },
      "image/png": "[encoded data removed]",
      "image/svg+xml": "<?xml version=\"1.0\" encoding=\"utf-8\"?>\n<!DOCTYPE svg PUBLIC \"-//W3C//DTD SVG 1.1//EN\" \"http://www.w3.org/Graphics/SVG/1.1/DTD/svg11.dtd\">\n<svg xmlns=\"http://www.w3.org/2000/svg\" xmlns:xlink=\"http://www.w3.org/1999/xlink\" version=\"1.1\" class=\"marks\" width=\"744\" height=\"215\" viewBox=\"0 0 744 215\"><rect width=\"744\" height=\"215\" fill=\"white\"/><g fill=\"none\" stroke-miterlimit=\"10\" transform=\"translate(34,28)\"><g class=\"mark-group role-frame root\" role=\"graphics-object\" aria-roledescription=\"group mark container\"><g transform=\"translate(0,0)\"><path class=\"background\" aria-hidden=\"true\" d=\"M0.5,0.5h700v150h-700Z\" stroke=\"#ddd\"/><g><g class=\"mark-group role-axis\" aria-hidden=\"true\"><g transform=\"translate(0.5,150.5)\"><path class=\"background\" aria-hidden=\"true\" d=\"M0,0h0v0h0Z\" pointer-events=\"none\"/><g><g class=\"mark-rule role-axis-grid\" pointer-events=\"none\"><line transform=\"translate(30,-150)\" x2=\"0\" y2=\"150\" stroke=\"#ddd\" stroke-width=\"1\" opacity=\"1\"/><line transform=\"translate(101,-150)\" x2=\"0\" y2=\"150\" stroke=\"#ddd\" stroke-width=\"1\" opacity=\"1\"/><line transform=\"translate(172,-150)\" x2=\"0\" y2=\"150\" stroke=\"#ddd\" stroke-width=\"1\" opacity=\"1\"/><line transform=\"translate(243,-150)\" x2=\"0\" y2=\"150\" stroke=\"#ddd\" stroke-width=\"1\" opacity=\"1\"/><line transform=\"translate(314,-150)\" x2=\"0\" y2=\"150\" stroke=\"#ddd\" stroke-width=\"1\" opacity=\"1\"/><line transform=\"translate(385,-150)\" x2=\"0\" y2=\"150\" stroke=\"#ddd\" stroke-width=\"1\" opacity=\"1\"/><line transform=\"translate(456,-150)\" x2=\"0\" y2=\"150\" stroke=\"#ddd\" stroke-width=\"1\" opacity=\"1\"/><line transform=\"translate(527,-150)\" x2=\"0\" y2=\"150\" stroke=\"#ddd\" stroke-width=\"1\" opacity=\"1\"/><line transform=\"translate(598,-150)\" x2=\"0\" y2=\"150\" stroke=\"#ddd\" stroke-width=\"1\" opacity=\"1\"/><line transform=\"translate(669,-150)\" x2=\"0\" y2=\"150\" stroke=\"#ddd\" stroke-width=\"1\" opacity=\"1\"/></g></g><path class=\"foreground\" aria-hidden=\"true\" d=\"\" pointer-events=\"none\" display=\"none\"/></g></g><g class=\"mark-group role-axis\" aria-hidden=\"true\"><g transform=\"translate(0.5,0.5)\"><path class=\"background\" aria-hidden=\"true\" d=\"M0,0h0v0h0Z\" pointer-events=\"none\"/><g><g class=\"mark-rule role-axis-grid\" pointer-events=\"none\"><line transform=\"translate(0,150)\" x2=\"700\" y2=\"0\" stroke=\"#ddd\" stroke-width=\"1\" opacity=\"1\"/><line transform=\"translate(0,120)\" x2=\"700\" y2=\"0\" stroke=\"#ddd\" stroke-width=\"1\" opacity=\"1\"/><line transform=\"translate(0,90)\" x2=\"700\" y2=\"0\" stroke=\"#ddd\" stroke-width=\"1\" opacity=\"1\"/><line transform=\"translate(0,60)\" x2=\"700\" y2=\"0\" stroke=\"#ddd\" stroke-width=\"1\" opacity=\"1\"/><line transform=\"translate(0,30)\" x2=\"700\" y2=\"0\" stroke=\"#ddd\" stroke-width=\"1\" opacity=\"1\"/><line transform=\"translate(0,0)\" x2=\"700\" y2=\"0\" stroke=\"#ddd\" stroke-width=\"1\" opacity=\"1\"/></g></g><path class=\"foreground\" aria-hidden=\"true\" d=\"\" pointer-events=\"none\" display=\"none\"/></g></g><g class=\"mark-group role-axis\" role=\"graphics-symbol\" aria-roledescription=\"axis\" aria-label=\"X-axis titled 'Date' for a time scale with values from Thursday, 16 April 2020, 2:00:00 AM to Wednesday, 24 June 2020, 2:00:00 AM\"><g transform=\"translate(0.5,150.5)\"><path class=\"background\" aria-hidden=\"true\" d=\"M0,0h0v0h0Z\" pointer-events=\"none\"/><g><g class=\"mark-rule role-axis-tick\" pointer-events=\"none\"><line transform=\"translate(30,0)\" x2=\"0\" y2=\"5\" stroke=\"#888\" stroke-width=\"1\" opacity=\"1\"/><line transform=\"translate(101,0)\" x2=\"0\" y2=\"5\" stroke=\"#888\" stroke-width=\"1\" opacity=\"1\"/><line transform=\"translate(172,0)\" x2=\"0\" y2=\"5\" stroke=\"#888\" stroke-width=\"1\" opacity=\"1\"/><line transform=\"translate(243,0)\" x2=\"0\" y2=\"5\" stroke=\"#888\" stroke-width=\"1\" opacity=\"1\"/><line transform=\"translate(314,0)\" x2=\"0\" y2=\"5\" stroke=\"#888\" stroke-width=\"1\" opacity=\"1\"/><line transform=\"translate(385,0)\" x2=\"0\" y2=\"5\" stroke=\"#888\" stroke-width=\"1\" opacity=\"1\"/><line transform=\"translate(456,0)\" x2=\"0\" y2=\"5\" stroke=\"#888\" stroke-width=\"1\" opacity=\"1\"/><line transform=\"translate(527,0)\" x2=\"0\" y2=\"5\" stroke=\"#888\" stroke-width=\"1\" opacity=\"1\"/><line transform=\"translate(598,0)\" x2=\"0\" y2=\"5\" stroke=\"#888\" stroke-width=\"1\" opacity=\"1\"/><line transform=\"translate(669,0)\" x2=\"0\" y2=\"5\" stroke=\"#888\" stroke-width=\"1\" opacity=\"1\"/></g><g class=\"mark-text role-axis-label\" pointer-events=\"none\"><text text-anchor=\"middle\" transform=\"translate(29.58937198067633,15)\" font-family=\"sans-serif\" font-size=\"10px\" fill=\"#000\" opacity=\"1\">Apr 19</text><text text-anchor=\"middle\" transform=\"translate(100.60386473429952,15)\" font-family=\"sans-serif\" font-size=\"10px\" fill=\"#000\" opacity=\"1\">Apr 26</text><text text-anchor=\"middle\" transform=\"translate(171.6183574879227,15)\" font-family=\"sans-serif\" font-size=\"10px\" fill=\"#000\" opacity=\"1\">May 03</text><text text-anchor=\"middle\" transform=\"translate(242.6328502415459,15)\" font-family=\"sans-serif\" font-size=\"10px\" fill=\"#000\" opacity=\"1\">May 10</text><text text-anchor=\"middle\" transform=\"translate(313.6473429951691,15)\" font-family=\"sans-serif\" font-size=\"10px\" fill=\"#000\" opacity=\"1\">May 17</text><text text-anchor=\"middle\" transform=\"translate(384.66183574879227,15)\" font-family=\"sans-serif\" font-size=\"10px\" fill=\"#000\" opacity=\"1\">May 24</text><text text-anchor=\"middle\" transform=\"translate(455.67632850241546,15)\" font-family=\"sans-serif\" font-size=\"10px\" fill=\"#000\" opacity=\"1\">May 31</text><text text-anchor=\"middle\" transform=\"translate(526.6908212560387,15)\" font-family=\"sans-serif\" font-size=\"10px\" fill=\"#000\" opacity=\"1\">Jun 07</text><text text-anchor=\"middle\" transform=\"translate(597.7053140096618,15)\" font-family=\"sans-serif\" font-size=\"10px\" fill=\"#000\" opacity=\"1\">Jun 14</text><text text-anchor=\"middle\" transform=\"translate(668.7198067632851,15)\" font-family=\"sans-serif\" font-size=\"10px\" fill=\"#000\" opacity=\"1\">Jun 21</text></g><g class=\"mark-rule role-axis-domain\" pointer-events=\"none\"><line transform=\"translate(0,0)\" x2=\"700\" y2=\"0\" stroke=\"#888\" stroke-width=\"1\" opacity=\"1\"/></g><g class=\"mark-text role-axis-title\" pointer-events=\"none\"><text text-anchor=\"middle\" transform=\"translate(350,30)\" font-family=\"sans-serif\" font-size=\"11px\" font-weight=\"bold\" fill=\"#000\" opacity=\"1\">Date</text></g></g><path class=\"foreground\" aria-hidden=\"true\" d=\"\" pointer-events=\"none\" display=\"none\"/></g></g><g class=\"mark-group role-axis\" role=\"graphics-symbol\" aria-roledescription=\"axis\" aria-label=\"Y-axis titled 'Number of prevalent COVID-19 cases' for a linear scale with values from 0 to 5\"><g transform=\"translate(0.5,0.5)\"><path class=\"background\" aria-hidden=\"true\" d=\"M0,0h0v0h0Z\" pointer-events=\"none\"/><g><g class=\"mark-rule role-axis-tick\" pointer-events=\"none\"><line transform=\"translate(0,150)\" x2=\"-5\" y2=\"0\" stroke=\"#888\" stroke-width=\"1\" opacity=\"1\"/><line transform=\"translate(0,120)\" x2=\"-5\" y2=\"0\" stroke=\"#888\" stroke-width=\"1\" opacity=\"1\"/><line transform=\"translate(0,90)\" x2=\"-5\" y2=\"0\" stroke=\"#888\" stroke-width=\"1\" opacity=\"1\"/><line transform=\"translate(0,60)\" x2=\"-5\" y2=\"0\" stroke=\"#888\" stroke-width=\"1\" opacity=\"1\"/><line transform=\"translate(0,30)\" x2=\"-5\" y2=\"0\" stroke=\"#888\" stroke-width=\"1\" opacity=\"1\"/><line transform=\"translate(0,0)\" x2=\"-5\" y2=\"0\" stroke=\"#888\" stroke-width=\"1\" opacity=\"1\"/></g><g class=\"mark-text role-axis-label\" pointer-events=\"none\"><text text-anchor=\"end\" transform=\"translate(-7,153)\" font-family=\"sans-serif\" font-size=\"10px\" fill=\"#000\" opacity=\"1\">0</text><text text-anchor=\"end\" transform=\"translate(-7,123)\" font-family=\"sans-serif\" font-size=\"10px\" fill=\"#000\" opacity=\"1\">1</text><text text-anchor=\"end\" transform=\"translate(-7,93)\" font-family=\"sans-serif\" font-size=\"10px\" fill=\"#000\" opacity=\"1\">2</text><text text-anchor=\"end\" transform=\"translate(-7,63)\" font-family=\"sans-serif\" font-size=\"10px\" fill=\"#000\" opacity=\"1\">3</text><text text-anchor=\"end\" transform=\"translate(-7,32.99999999999999)\" font-family=\"sans-serif\" font-size=\"10px\" fill=\"#000\" opacity=\"1\">4</text><text text-anchor=\"end\" transform=\"translate(-7,3)\" font-family=\"sans-serif\" font-size=\"10px\" fill=\"#000\" opacity=\"1\">5</text></g><g class=\"mark-rule role-axis-domain\" pointer-events=\"none\"><line transform=\"translate(0,150)\" x2=\"0\" y2=\"-150\" stroke=\"#888\" stroke-width=\"1\" opacity=\"1\"/></g><g class=\"mark-text role-axis-title\" pointer-events=\"none\"><text text-anchor=\"middle\" transform=\"translate(-17,75) rotate(-90) translate(0,-2)\" font-family=\"sans-serif\" font-size=\"11px\" font-weight=\"bold\" fill=\"#000\" opacity=\"1\">Number of prevalent COVID-19 cases</text></g></g><path class=\"foreground\" aria-hidden=\"true\" d=\"\" pointer-events=\"none\" display=\"none\"/></g></g><g class=\"mark-line role-mark layer_0_marks\" role=\"graphics-object\" aria-roledescription=\"line mark container\"><path aria-label=\"date: Apr 16, 2020; currentcases: 0\" role=\"graphics-symbol\" aria-roledescription=\"line mark\" d=\"M0,150L10.144927536231885,150L20.28985507246377,150L30.434782608695652,150L40.57971014492754,90L50.72463768115942,150L60.869565217391305,120L71.01449275362319,90L81.15942028985508,90L91.30434782608695,90L101.44927536231884,60L111.59420289855072,60L121.73913043478261,29.999999999999993L131.8840579710145,29.999999999999993L142.02898550724638,0L152.17391304347825,0L162.31884057971016,0L172.46376811594203,0L182.6086956521739,29.999999999999993L192.7536231884058,60L202.8985507246377,90L213.0434782608696,60L223.18840579710144,60L233.33333333333331,60L243.47826086956522,60L253.6231884057971,0L263.768115942029,0L273.9130434782609,0L284.05797101449275,0L294.2028985507246,0L304.3478260869565,0L314.4927536231884,0L324.6376811594203,120L334.7826086956522,120L344.92753623188406,120L355.07246376811594,120L365.2173913043478,120L375.36231884057975,120L385.5072463768116,120L395.65217391304344,120L405.7971014492754,90L415.94202898550725,90L426.0869565217392,60L436.231884057971,60L446.3768115942029,60L456.5217391304348,60L466.66666666666663,60L476.81159420289856,60L486.95652173913044,60L497.10144927536237,60L507.2463768115942,60L517.391304347826,60L527.536231884058,60L537.6811594202899,90L547.8260869565217,90L557.9710144927536,120L568.1159420289855,60L578.2608695652174,60L588.4057971014493,60L598.5507246376811,60L608.695652173913,90L618.840579710145,90L628.9855072463768,90L639.1304347826086,90L649.2753623188406,60L659.4202898550724,60L669.5652173913044,60L679.7101449275362,60L689.8550724637681,60L700,60\" stroke=\"#004b96\" stroke-width=\"2\" opacity=\"0.8\"/></g><g class=\"mark-symbol role-mark layer_1_marks\" role=\"graphics-object\" aria-roledescription=\"symbol mark container\"><path aria-label=\"date: Apr 16, 2020; currentcases: 0\" role=\"graphics-symbol\" aria-roledescription=\"point\" transform=\"translate(0,150)\" d=\"M5,0A5,5,0,1,1,-5,0A5,5,0,1,1,5,0\" fill=\"#004b96\" stroke-width=\"2\" opacity=\"0.6\"/><path aria-label=\"date: Apr 17, 2020; currentcases: 0\" role=\"graphics-symbol\" aria-roledescription=\"point\" transform=\"translate(10.144927536231885,150)\" d=\"M5,0A5,5,0,1,1,-5,0A5,5,0,1,1,5,0\" fill=\"#004b96\" stroke-width=\"2\" opacity=\"0.6\"/><path aria-label=\"date: Apr 18, 2020; currentcases: 0\" role=\"graphics-symbol\" aria-roledescription=\"point\" transform=\"translate(20.28985507246377,150)\" d=\"M5,0A5,5,0,1,1,-5,0A5,5,0,1,1,5,0\" fill=\"#004b96\" stroke-width=\"2\" opacity=\"0.6\"/><path aria-label=\"date: Apr 19, 2020; currentcases: 0\" role=\"graphics-symbol\" aria-roledescription=\"point\" transform=\"translate(30.434782608695652,150)\" d=\"M5,0A5,5,0,1,1,-5,0A5,5,0,1,1,5,0\" fill=\"#004b96\" stroke-width=\"2\" opacity=\"0.6\"/><path aria-label=\"date: Apr 20, 2020; currentcases: 2\" role=\"graphics-symbol\" aria-roledescription=\"point\" transform=\"translate(40.57971014492754,90)\" d=\"M5,0A5,5,0,1,1,-5,0A5,5,0,1,1,5,0\" fill=\"#004b96\" stroke-width=\"2\" opacity=\"0.6\"/><path aria-label=\"date: Apr 21, 2020; currentcases: 0\" role=\"graphics-symbol\" aria-roledescription=\"point\" transform=\"translate(50.72463768115942,150)\" d=\"M5,0A5,5,0,1,1,-5,0A5,5,0,1,1,5,0\" fill=\"#004b96\" stroke-width=\"2\" opacity=\"0.6\"/><path aria-label=\"date: Apr 22, 2020; currentcases: 1\" role=\"graphics-symbol\" aria-roledescription=\"point\" transform=\"translate(60.869565217391305,120)\" d=\"M5,0A5,5,0,1,1,-5,0A5,5,0,1,1,5,0\" fill=\"#004b96\" stroke-width=\"2\" opacity=\"0.6\"/><path aria-label=\"date: Apr 23, 2020; currentcases: 2\" role=\"graphics-symbol\" aria-roledescription=\"point\" transform=\"translate(71.01449275362319,90)\" d=\"M5,0A5,5,0,1,1,-5,0A5,5,0,1,1,5,0\" fill=\"#004b96\" stroke-width=\"2\" opacity=\"0.6\"/><path aria-label=\"date: Apr 24, 2020; currentcases: 2\" role=\"graphics-symbol\" aria-roledescription=\"point\" transform=\"translate(81.15942028985508,90)\" d=\"M5,0A5,5,0,1,1,-5,0A5,5,0,1,1,5,0\" fill=\"#004b96\" stroke-width=\"2\" opacity=\"0.6\"/><path aria-label=\"date: Apr 25, 2020; currentcases: 2\" role=\"graphics-symbol\" aria-roledescription=\"point\" transform=\"translate(91.30434782608695,90)\" d=\"M5,0A5,5,0,1,1,-5,0A5,5,0,1,1,5,0\" fill=\"#004b96\" stroke-width=\"2\" opacity=\"0.6\"/><path aria-label=\"date: Apr 26, 2020; currentcases: 3\" role=\"graphics-symbol\" aria-roledescription=\"point\" transform=\"translate(101.44927536231884,60)\" d=\"M5,0A5,5,0,1,1,-5,0A5,5,0,1,1,5,0\" fill=\"#004b96\" stroke-width=\"2\" opacity=\"0.6\"/><path aria-label=\"date: Apr 27, 2020; currentcases: 3\" role=\"graphics-symbol\" aria-roledescription=\"point\" transform=\"translate(111.59420289855072,60)\" d=\"M5,0A5,5,0,1,1,-5,0A5,5,0,1,1,5,0\" fill=\"#004b96\" stroke-width=\"2\" opacity=\"0.6\"/><path aria-label=\"date: Apr 28, 2020; currentcases: 4\" role=\"graphics-symbol\" aria-roledescription=\"point\" transform=\"translate(121.73913043478261,29.999999999999993)\" d=\"M5,0A5,5,0,1,1,-5,0A5,5,0,1,1,5,0\" fill=\"#004b96\" stroke-width=\"2\" opacity=\"0.6\"/><path aria-label=\"date: Apr 29, 2020; currentcases: 4\" role=\"graphics-symbol\" aria-roledescription=\"point\" transform=\"translate(131.8840579710145,29.999999999999993)\" d=\"M5,0A5,5,0,1,1,-5,0A5,5,0,1,1,5,0\" fill=\"#004b96\" stroke-width=\"2\" opacity=\"0.6\"/><path aria-label=\"date: Apr 30, 2020; currentcases: 5\" role=\"graphics-symbol\" aria-roledescription=\"point\" transform=\"translate(142.02898550724638,0)\" d=\"M5,0A5,5,0,1,1,-5,0A5,5,0,1,1,5,0\" fill=\"#004b96\" stroke-width=\"2\" opacity=\"0.6\"/><path aria-label=\"date: May 01, 2020; currentcases: 5\" role=\"graphics-symbol\" aria-roledescription=\"point\" transform=\"translate(152.17391304347825,0)\" d=\"M5,0A5,5,0,1,1,-5,0A5,5,0,1,1,5,0\" fill=\"#004b96\" stroke-width=\"2\" opacity=\"0.6\"/><path aria-label=\"date: May 02, 2020; currentcases: 5\" role=\"graphics-symbol\" aria-roledescription=\"point\" transform=\"translate(162.31884057971016,0)\" d=\"M5,0A5,5,0,1,1,-5,0A5,5,0,1,1,5,0\" fill=\"#004b96\" stroke-width=\"2\" opacity=\"0.6\"/><path aria-label=\"date: May 03, 2020; currentcases: 5\" role=\"graphics-symbol\" aria-roledescription=\"point\" transform=\"translate(172.46376811594203,0)\" d=\"M5,0A5,5,0,1,1,-5,0A5,5,0,1,1,5,0\" fill=\"#004b96\" stroke-width=\"2\" opacity=\"0.6\"/><path aria-label=\"date: May 04, 2020; currentcases: 4\" role=\"graphics-symbol\" aria-roledescription=\"point\" transform=\"translate(182.6086956521739,29.999999999999993)\" d=\"M5,0A5,5,0,1,1,-5,0A5,5,0,1,1,5,0\" fill=\"#004b96\" stroke-width=\"2\" opacity=\"0.6\"/><path aria-label=\"date: May 05, 2020; currentcases: 3\" role=\"graphics-symbol\" aria-roledescription=\"point\" transform=\"translate(192.7536231884058,60)\" d=\"M5,0A5,5,0,1,1,-5,0A5,5,0,1,1,5,0\" fill=\"#004b96\" stroke-width=\"2\" opacity=\"0.6\"/><path aria-label=\"date: May 06, 2020; currentcases: 2\" role=\"graphics-symbol\" aria-roledescription=\"point\" transform=\"translate(202.8985507246377,90)\" d=\"M5,0A5,5,0,1,1,-5,0A5,5,0,1,1,5,0\" fill=\"#004b96\" stroke-width=\"2\" opacity=\"0.6\"/><path aria-label=\"date: May 07, 2020; currentcases: 3\" role=\"graphics-symbol\" aria-roledescription=\"point\" transform=\"translate(213.0434782608696,60)\" d=\"M5,0A5,5,0,1,1,-5,0A5,5,0,1,1,5,0\" fill=\"#004b96\" stroke-width=\"2\" opacity=\"0.6\"/><path aria-label=\"date: May 08, 2020; currentcases: 3\" role=\"graphics-symbol\" aria-roledescription=\"point\" transform=\"translate(223.18840579710144,60)\" d=\"M5,0A5,5,0,1,1,-5,0A5,5,0,1,1,5,0\" fill=\"#004b96\" stroke-width=\"2\" opacity=\"0.6\"/><path aria-label=\"date: May 09, 2020; currentcases: 3\" role=\"graphics-symbol\" aria-roledescription=\"point\" transform=\"translate(233.33333333333331,60)\" d=\"M5,0A5,5,0,1,1,-5,0A5,5,0,1,1,5,0\" fill=\"#004b96\" stroke-width=\"2\" opacity=\"0.6\"/><path aria-label=\"date: May 10, 2020; currentcases: 3\" role=\"graphics-symbol\" aria-roledescription=\"point\" transform=\"translate(243.47826086956522,60)\" d=\"M5,0A5,5,0,1,1,-5,0A5,5,0,1,1,5,0\" fill=\"#004b96\" stroke-width=\"2\" opacity=\"0.6\"/><path aria-label=\"date: May 11, 2020; currentcases: 5\" role=\"graphics-symbol\" aria-roledescription=\"point\" transform=\"translate(253.6231884057971,0)\" d=\"M5,0A5,5,0,1,1,-5,0A5,5,0,1,1,5,0\" fill=\"#004b96\" stroke-width=\"2\" opacity=\"0.6\"/><path aria-label=\"date: May 12, 2020; currentcases: 5\" role=\"graphics-symbol\" aria-roledescription=\"point\" transform=\"translate(263.768115942029,0)\" d=\"M5,0A5,5,0,1,1,-5,0A5,5,0,1,1,5,0\" fill=\"#004b96\" stroke-width=\"2\" opacity=\"0.6\"/><path aria-label=\"date: May 13, 2020; currentcases: 5\" role=\"graphics-symbol\" aria-roledescription=\"point\" transform=\"translate(273.9130434782609,0)\" d=\"M5,0A5,5,0,1,1,-5,0A5,5,0,1,1,5,0\" fill=\"#004b96\" stroke-width=\"2\" opacity=\"0.6\"/><path aria-label=\"date: May 14, 2020; currentcases: 5\" role=\"graphics-symbol\" aria-roledescription=\"point\" transform=\"translate(284.05797101449275,0)\" d=\"M5,0A5,5,0,1,1,-5,0A5,5,0,1,1,5,0\" fill=\"#004b96\" stroke-width=\"2\" opacity=\"0.6\"/><path aria-label=\"date: May 15, 2020; currentcases: 5\" role=\"graphics-symbol\" aria-roledescription=\"point\" transform=\"translate(294.2028985507246,0)\" d=\"M5,0A5,5,0,1,1,-5,0A5,5,0,1,1,5,0\" fill=\"#004b96\" stroke-width=\"2\" opacity=\"0.6\"/><path aria-label=\"date: May 16, 2020; currentcases: 5\" role=\"graphics-symbol\" aria-roledescription=\"point\" transform=\"translate(304.3478260869565,0)\" d=\"M5,0A5,5,0,1,1,-5,0A5,5,0,1,1,5,0\" fill=\"#004b96\" stroke-width=\"2\" opacity=\"0.6\"/><path aria-label=\"date: May 17, 2020; currentcases: 5\" role=\"graphics-symbol\" aria-roledescription=\"point\" transform=\"translate(314.4927536231884,0)\" d=\"M5,0A5,5,0,1,1,-5,0A5,5,0,1,1,5,0\" fill=\"#004b96\" stroke-width=\"2\" opacity=\"0.6\"/><path aria-label=\"date: May 18, 2020; currentcases: 1\" role=\"graphics-symbol\" aria-roledescription=\"point\" transform=\"translate(324.6376811594203,120)\" d=\"M5,0A5,5,0,1,1,-5,0A5,5,0,1,1,5,0\" fill=\"#004b96\" stroke-width=\"2\" opacity=\"0.6\"/><path aria-label=\"date: May 19, 2020; currentcases: 1\" role=\"graphics-symbol\" aria-roledescription=\"point\" transform=\"translate(334.7826086956522,120)\" d=\"M5,0A5,5,0,1,1,-5,0A5,5,0,1,1,5,0\" fill=\"#004b96\" stroke-width=\"2\" opacity=\"0.6\"/><path aria-label=\"date: May 20, 2020; currentcases: 1\" role=\"graphics-symbol\" aria-roledescription=\"point\" transform=\"translate(344.92753623188406,120)\" d=\"M5,0A5,5,0,1,1,-5,0A5,5,0,1,1,5,0\" fill=\"#004b96\" stroke-width=\"2\" opacity=\"0.6\"/><path aria-label=\"date: May 21, 2020; currentcases: 1\" role=\"graphics-symbol\" aria-roledescription=\"point\" transform=\"translate(355.07246376811594,120)\" d=\"M5,0A5,5,0,1,1,-5,0A5,5,0,1,1,5,0\" fill=\"#004b96\" stroke-width=\"2\" opacity=\"0.6\"/><path aria-label=\"date: May 22, 2020; currentcases: 1\" role=\"graphics-symbol\" aria-roledescription=\"point\" transform=\"translate(365.2173913043478,120)\" d=\"M5,0A5,5,0,1,1,-5,0A5,5,0,1,1,5,0\" fill=\"#004b96\" stroke-width=\"2\" opacity=\"0.6\"/><path aria-label=\"date: May 23, 2020; currentcases: 1\" role=\"graphics-symbol\" aria-roledescription=\"point\" transform=\"translate(375.36231884057975,120)\" d=\"M5,0A5,5,0,1,1,-5,0A5,5,0,1,1,5,0\" fill=\"#004b96\" stroke-width=\"2\" opacity=\"0.6\"/><path aria-label=\"date: May 24, 2020; currentcases: 1\" role=\"graphics-symbol\" aria-roledescription=\"point\" transform=\"translate(385.5072463768116,120)\" d=\"M5,0A5,5,0,1,1,-5,0A5,5,0,1,1,5,0\" fill=\"#004b96\" stroke-width=\"2\" opacity=\"0.6\"/><path aria-label=\"date: May 25, 2020; currentcases: 1\" role=\"graphics-symbol\" aria-roledescription=\"point\" transform=\"translate(395.65217391304344,120)\" d=\"M5,0A5,5,0,1,1,-5,0A5,5,0,1,1,5,0\" fill=\"#004b96\" stroke-width=\"2\" opacity=\"0.6\"/><path aria-label=\"date: May 26, 2020; currentcases: 2\" role=\"graphics-symbol\" aria-roledescription=\"point\" transform=\"translate(405.7971014492754,90)\" d=\"M5,0A5,5,0,1,1,-5,0A5,5,0,1,1,5,0\" fill=\"#004b96\" stroke-width=\"2\" opacity=\"0.6\"/><path aria-label=\"date: May 27, 2020; currentcases: 2\" role=\"graphics-symbol\" aria-roledescription=\"point\" transform=\"translate(415.94202898550725,90)\" d=\"M5,0A5,5,0,1,1,-5,0A5,5,0,1,1,5,0\" fill=\"#004b96\" stroke-width=\"2\" opacity=\"0.6\"/><path aria-label=\"date: May 28, 2020; currentcases: 3\" role=\"graphics-symbol\" aria-roledescription=\"point\" transform=\"translate(426.0869565217392,60)\" d=\"M5,0A5,5,0,1,1,-5,0A5,5,0,1,1,5,0\" fill=\"#004b96\" stroke-width=\"2\" opacity=\"0.6\"/><path aria-label=\"date: May 29, 2020; currentcases: 3\" role=\"graphics-symbol\" aria-roledescription=\"point\" transform=\"translate(436.231884057971,60)\" d=\"M5,0A5,5,0,1,1,-5,0A5,5,0,1,1,5,0\" fill=\"#004b96\" stroke-width=\"2\" opacity=\"0.6\"/><path aria-label=\"date: May 30, 2020; currentcases: 3\" role=\"graphics-symbol\" aria-roledescription=\"point\" transform=\"translate(446.3768115942029,60)\" d=\"M5,0A5,5,0,1,1,-5,0A5,5,0,1,1,5,0\" fill=\"#004b96\" stroke-width=\"2\" opacity=\"0.6\"/><path aria-label=\"date: May 31, 2020; currentcases: 3\" role=\"graphics-symbol\" aria-roledescription=\"point\" transform=\"translate(456.5217391304348,60)\" d=\"M5,0A5,5,0,1,1,-5,0A5,5,0,1,1,5,0\" fill=\"#004b96\" stroke-width=\"2\" opacity=\"0.6\"/><path aria-label=\"date: Jun 01, 2020; currentcases: 3\" role=\"graphics-symbol\" aria-roledescription=\"point\" transform=\"translate(466.66666666666663,60)\" d=\"M5,0A5,5,0,1,1,-5,0A5,5,0,1,1,5,0\" fill=\"#004b96\" stroke-width=\"2\" opacity=\"0.6\"/><path aria-label=\"date: Jun 02, 2020; currentcases: 3\" role=\"graphics-symbol\" aria-roledescription=\"point\" transform=\"translate(476.81159420289856,60)\" d=\"M5,0A5,5,0,1,1,-5,0A5,5,0,1,1,5,0\" fill=\"#004b96\" stroke-width=\"2\" opacity=\"0.6\"/><path aria-label=\"date: Jun 03, 2020; currentcases: 3\" role=\"graphics-symbol\" aria-roledescription=\"point\" transform=\"translate(486.95652173913044,60)\" d=\"M5,0A5,5,0,1,1,-5,0A5,5,0,1,1,5,0\" fill=\"#004b96\" stroke-width=\"2\" opacity=\"0.6\"/><path aria-label=\"date: Jun 04, 2020; currentcases: 3\" role=\"graphics-symbol\" aria-roledescription=\"point\" transform=\"translate(497.10144927536237,60)\" d=\"M5,0A5,5,0,1,1,-5,0A5,5,0,1,1,5,0\" fill=\"#004b96\" stroke-width=\"2\" opacity=\"0.6\"/><path aria-label=\"date: Jun 05, 2020; currentcases: 3\" role=\"graphics-symbol\" aria-roledescription=\"point\" transform=\"translate(507.2463768115942,60)\" d=\"M5,0A5,5,0,1,1,-5,0A5,5,0,1,1,5,0\" fill=\"#004b96\" stroke-width=\"2\" opacity=\"0.6\"/><path aria-label=\"date: Jun 06, 2020; currentcases: 3\" role=\"graphics-symbol\" aria-roledescription=\"point\" transform=\"translate(517.391304347826,60)\" d=\"M5,0A5,5,0,1,1,-5,0A5,5,0,1,1,5,0\" fill=\"#004b96\" stroke-width=\"2\" opacity=\"0.6\"/><path aria-label=\"date: Jun 07, 2020; currentcases: 3\" role=\"graphics-symbol\" aria-roledescription=\"point\" transform=\"translate(527.536231884058,60)\" d=\"M5,0A5,5,0,1,1,-5,0A5,5,0,1,1,5,0\" fill=\"#004b96\" stroke-width=\"2\" opacity=\"0.6\"/><path aria-label=\"date: Jun 08, 2020; currentcases: 2\" role=\"graphics-symbol\" aria-roledescription=\"point\" transform=\"translate(537.6811594202899,90)\" d=\"M5,0A5,5,0,1,1,-5,0A5,5,0,1,1,5,0\" fill=\"#004b96\" stroke-width=\"2\" opacity=\"0.6\"/><path aria-label=\"date: Jun 09, 2020; currentcases: 2\" role=\"graphics-symbol\" aria-roledescription=\"point\" transform=\"translate(547.8260869565217,90)\" d=\"M5,0A5,5,0,1,1,-5,0A5,5,0,1,1,5,0\" fill=\"#004b96\" stroke-width=\"2\" opacity=\"0.6\"/><path aria-label=\"date: Jun 10, 2020; currentcases: 1\" role=\"graphics-symbol\" aria-roledescription=\"point\" transform=\"translate(557.9710144927536,120)\" d=\"M5,0A5,5,0,1,1,-5,0A5,5,0,1,1,5,0\" fill=\"#004b96\" stroke-width=\"2\" opacity=\"0.6\"/><path aria-label=\"date: Jun 11, 2020; currentcases: 3\" role=\"graphics-symbol\" aria-roledescription=\"point\" transform=\"translate(568.1159420289855,60)\" d=\"M5,0A5,5,0,1,1,-5,0A5,5,0,1,1,5,0\" fill=\"#004b96\" stroke-width=\"2\" opacity=\"0.6\"/><path aria-label=\"date: Jun 12, 2020; currentcases: 3\" role=\"graphics-symbol\" aria-roledescription=\"point\" transform=\"translate(578.2608695652174,60)\" d=\"M5,0A5,5,0,1,1,-5,0A5,5,0,1,1,5,0\" fill=\"#004b96\" stroke-width=\"2\" opacity=\"0.6\"/><path aria-label=\"date: Jun 13, 2020; currentcases: 3\" role=\"graphics-symbol\" aria-roledescription=\"point\" transform=\"translate(588.4057971014493,60)\" d=\"M5,0A5,5,0,1,1,-5,0A5,5,0,1,1,5,0\" fill=\"#004b96\" stroke-width=\"2\" opacity=\"0.6\"/><path aria-label=\"date: Jun 14, 2020; currentcases: 3\" role=\"graphics-symbol\" aria-roledescription=\"point\" transform=\"translate(598.5507246376811,60)\" d=\"M5,0A5,5,0,1,1,-5,0A5,5,0,1,1,5,0\" fill=\"#004b96\" stroke-width=\"2\" opacity=\"0.6\"/><path aria-label=\"date: Jun 15, 2020; currentcases: 2\" role=\"graphics-symbol\" aria-roledescription=\"point\" transform=\"translate(608.695652173913,90)\" d=\"M5,0A5,5,0,1,1,-5,0A5,5,0,1,1,5,0\" fill=\"#004b96\" stroke-width=\"2\" opacity=\"0.6\"/><path aria-label=\"date: Jun 16, 2020; currentcases: 2\" role=\"graphics-symbol\" aria-roledescription=\"point\" transform=\"translate(618.840579710145,90)\" d=\"M5,0A5,5,0,1,1,-5,0A5,5,0,1,1,5,0\" fill=\"#004b96\" stroke-width=\"2\" opacity=\"0.6\"/><path aria-label=\"date: Jun 17, 2020; currentcases: 2\" role=\"graphics-symbol\" aria-roledescription=\"point\" transform=\"translate(628.9855072463768,90)\" d=\"M5,0A5,5,0,1,1,-5,0A5,5,0,1,1,5,0\" fill=\"#004b96\" stroke-width=\"2\" opacity=\"0.6\"/><path aria-label=\"date: Jun 18, 2020; currentcases: 2\" role=\"graphics-symbol\" aria-roledescription=\"point\" transform=\"translate(639.1304347826086,90)\" d=\"M5,0A5,5,0,1,1,-5,0A5,5,0,1,1,5,0\" fill=\"#004b96\" stroke-width=\"2\" opacity=\"0.6\"/><path aria-label=\"date: Jun 19, 2020; currentcases: 3\" role=\"graphics-symbol\" aria-roledescription=\"point\" transform=\"translate(649.2753623188406,60)\" d=\"M5,0A5,5,0,1,1,-5,0A5,5,0,1,1,5,0\" fill=\"#004b96\" stroke-width=\"2\" opacity=\"0.6\"/><path aria-label=\"date: Jun 20, 2020; currentcases: 3\" role=\"graphics-symbol\" aria-roledescription=\"point\" transform=\"translate(659.4202898550724,60)\" d=\"M5,0A5,5,0,1,1,-5,0A5,5,0,1,1,5,0\" fill=\"#004b96\" stroke-width=\"2\" opacity=\"0.6\"/><path aria-label=\"date: Jun 21, 2020; currentcases: 3\" role=\"graphics-symbol\" aria-roledescription=\"point\" transform=\"translate(669.5652173913044,60)\" d=\"M5,0A5,5,0,1,1,-5,0A5,5,0,1,1,5,0\" fill=\"#004b96\" stroke-width=\"2\" opacity=\"0.6\"/><path aria-label=\"date: Jun 22, 2020; currentcases: 3\" role=\"graphics-symbol\" aria-roledescription=\"point\" transform=\"translate(679.7101449275362,60)\" d=\"M5,0A5,5,0,1,1,-5,0A5,5,0,1,1,5,0\" fill=\"#004b96\" stroke-width=\"2\" opacity=\"0.6\"/><path aria-label=\"date: Jun 23, 2020; currentcases: 3\" role=\"graphics-symbol\" aria-roledescription=\"point\" transform=\"translate(689.8550724637681,60)\" d=\"M5,0A5,5,0,1,1,-5,0A5,5,0,1,1,5,0\" fill=\"#004b96\" stroke-width=\"2\" opacity=\"0.6\"/><path aria-label=\"date: Jun 24, 2020; currentcases: 3\" role=\"graphics-symbol\" aria-roledescription=\"point\" transform=\"translate(700,60)\" d=\"M5,0A5,5,0,1,1,-5,0A5,5,0,1,1,5,0\" fill=\"#004b96\" stroke-width=\"2\" opacity=\"0.6\"/></g></g><path class=\"foreground\" aria-hidden=\"true\" d=\"\" display=\"none\"/></g></g></g></svg>\n",
      "text/plain": [
       "@vlplot(\n",
       "    width=700,\n",
       "    height=150,\n",
       "    mark={\n",
       "        point={\n",
       "            filled=true,\n",
       "            size=100,\n",
       "            color=\"#004b96\",\n",
       "            opacity=0.6\n",
       "        },\n",
       "        color=\"#004b96\",\n",
       "        opacity=0.8,\n",
       "        type=\"line\"\n",
       "    },\n",
       "    encoding={\n",
       "        x={\n",
       "            field=\"date\",\n",
       "            axis={\n",
       "                title=\"Date\"\n",
       "            }\n",
       "        },\n",
       "        y={\n",
       "            field=\"currentcases\",\n",
       "            axis={\n",
       "                title=\"Number of prevalent COVID-19 cases\"\n",
       "            }\n",
       "        }\n",
       "    },\n",
       "    data={\n",
       "        values=...\n",
       "    }\n",
       ")"
      ]
     },
     "metadata": {},
     "output_type": "display_data"
    }
   ],
   "source": [
    "figure1=myhospital|> @vlplot(\n",
    "        width=700, height=150,\n",
    "        mark={:line, point={filled=true, size=100, color=\"#004b96\", opacity = 0.6}, color=\"#004b96\", opacity=0.8}, \n",
    "        x={field=:date, axis={title=\"Date\"}},\n",
    "        y={field=:currentcases, axis={title=\"Number of prevalent COVID-19 cases\"}}\n",
    ") "
   ]
  },
  {
   "cell_type": "markdown",
   "metadata": {},
   "source": [
    "## Fit the increment model for all hospitals individually\n",
    "\n",
    "Next, we show how to optimize the increment model and all benchmark models discussed in the manuscript for all hospitals.\n",
    "\n",
    "First, let's define the loss function, including a loop and control flow elements to automatically bridge missing reports by carrying the current model prediction forwards in time, until a new observation becomes available. "
   ]
  },
  {
   "cell_type": "code",
   "execution_count": 16,
   "metadata": {},
   "outputs": [
    {
     "data": {
      "text/plain": [
       "loss (generic function with 1 method)"
      ]
     },
     "metadata": {},
     "output_type": "display_data"
    }
   ],
   "source": [
    "function loss(y, z, r, beta)\n",
    "    sqerror = 0.0 # squared error\n",
    "    firstseen = false # set to true after skipping potential missings \n",
    "    last_y = 0.0 # prevalent cases from previous time point\n",
    "    contribno = 0.0 # number of non-missing observations\n",
    "\n",
    "    for t = 1:length(y)\n",
    "        # skip missings at the start until first reported value\n",
    "        if !firstseen \n",
    "            if r[t] == 1\n",
    "                firstseen = true\n",
    "                last_y = y[t]\n",
    "            else\n",
    "                continue\n",
    "            end\n",
    "        else # make a prediction for the current increment\n",
    "            pred_dy = beta[1] + beta[2] * last_y + beta[3] * z[t-1] \n",
    "            if r[t] == 1\n",
    "                dy = y[t] - last_y\n",
    "                sqerror += (dy - pred_dy)^2\n",
    "                contribno += 1.0\n",
    "                last_y = y[t]\n",
    "            else\n",
    "                last_y += pred_dy\n",
    "            end \n",
    "        end\n",
    "    end\n",
    "    return sqerror/contribno # return MSE over all reported time points end\n",
    "end"
   ]
  },
  {
   "cell_type": "markdown",
   "metadata": {},
   "source": [
    "For each hospital, we need to extract the necessary data, i.e., the numbers of prevalent cases and predicted incidences used as covariates and the information on whether or not a report was missing. \n",
    "\n",
    "We set aside the last time point in the data to evaluate our prediction on: \n",
    "\n",
    "Then, we can use differentiable programming to optimize the model parameters by optimizing this loss function via gradient descent!"
   ]
  },
  {
   "cell_type": "code",
   "execution_count": 17,
   "metadata": {},
   "outputs": [
    {
     "data": {
      "text/plain": [
       "(3.0, false)"
      ]
     },
     "metadata": {},
     "output_type": "display_data"
    }
   ],
   "source": [
    "y, z, r = hospital_list[40][1:end-1,:currentcases], hospital_list[40][1:end-1,:incidences], hospital_list[40][1:end-1,:reported]\n",
    "last_currentcases, lastreported = hospital_list[40][end,:currentcases], hospital_list[40][end,:reported]"
   ]
  },
  {
   "cell_type": "code",
   "execution_count": 20,
   "metadata": {},
   "outputs": [
    {
     "name": "stdout",
     "output_type": "stream",
     "text": [
      "  0.853632 seconds (4.81 M allocations: 241.651 MiB, 7.80% gc time, 10.38% compilation time)\n"
     ]
    }
   ],
   "source": [
    "beta = [0.0, 0.0, 0.0]\n",
    "losses = []\n",
    "@time for epoch=1:1000\n",
    "    curgrad = gradient(arg -> loss(y, z, r, arg), beta)\n",
    "    beta .-= [0.001, 0.01, 0.001] .* curgrad[1]\n",
    "    push!(losses, loss(y, z, r, beta))\n",
    "end"
   ]
  },
  {
   "cell_type": "markdown",
   "metadata": {},
   "source": [
    "Let's visualize the loss!"
   ]
  },
  {
   "cell_type": "code",
   "execution_count": 29,
   "metadata": {},
   "outputs": [
    {
     "data": {
      "application/vnd.vegalite.v4+json": {
       "data": {
        "values": [
         {
          "x": 1,
          "y": 1.7804587348273626
         },
         {
          "x": 2,
          "y": 1.5284681238473774
         },
         {
          "x": 3,
          "y": 1.5213312897587425
         },
         {
          "x": 4,
          "y": 1.5172458110455926
         },
         {
          "x": 5,
          "y": 1.5135734062883326
         },
         {
          "x": 6,
          "y": 1.5100518242768475
         },
         {
          "x": 7,
          "y": 1.5065936343532005
         },
         {
          "x": 8,
          "y": 1.5031819154830508
         },
         {
          "x": 9,
          "y": 1.4998121189043703
         },
         {
          "x": 10,
          "y": 1.4964827402930512
         },
         {
          "x": 11,
          "y": 1.4931929129671753
         },
         {
          "x": 12,
          "y": 1.4899419192725551
         },
         {
          "x": 13,
          "y": 1.4867290851017532
         },
         {
          "x": 14,
          "y": 1.4835537572187785
         },
         {
          "x": 15,
          "y": 1.4804152985604835
         },
         {
          "x": 16,
          "y": 1.4773130868320348
         },
         {
          "x": 17,
          "y": 1.47424651394791
         },
         {
          "x": 18,
          "y": 1.471214985579184
         },
         {
          "x": 19,
          "y": 1.4682179207613837
         },
         {
          "x": 20,
          "y": 1.4652547515129817
         },
         {
          "x": 21,
          "y": 1.462324922470798
         },
         {
          "x": 22,
          "y": 1.4594278905367082
         },
         {
          "x": 23,
          "y": 1.4565631245367099
         },
         {
          "x": 24,
          "y": 1.4537301048912172
         },
         {
          "x": 25,
          "y": 1.4509283232963706
         },
         {
          "x": 26,
          "y": 1.4481572824158648
         },
         {
          "x": 27,
          "y": 1.4454164955828928
         },
         {
          "x": 28,
          "y": 1.442705486511837
         },
         {
          "x": 29,
          "y": 1.4400237890193202
         },
         {
          "x": 30,
          "y": 1.4373709467542723
         },
         {
          "x": 31,
          "y": 1.4347465129366692
         },
         {
          "x": 32,
          "y": 1.4321500501046127
         },
         {
          "x": 33,
          "y": 1.429581129869458
         },
         {
          "x": 34,
          "y": 1.42703933267867
         },
         {
          "x": 35,
          "y": 1.424524247586143
         },
         {
          "x": 36,
          "y": 1.4220354720296937
         },
         {
          "x": 37,
          "y": 1.4195726116154777
         },
         {
          "x": 38,
          "y": 1.4171352799090722
         },
         {
          "x": 39,
          "y": 1.4147230982329912
         },
         {
          "x": 40,
          "y": 1.412335695470391
         },
         {
          "x": 41,
          "y": 1.4099727078747577
         },
         {
          "x": 42,
          "y": 1.4076337788853566
         },
         {
          "x": 43,
          "y": 1.405318558948244
         },
         {
          "x": 44,
          "y": 1.4030267053426388
         },
         {
          "x": 45,
          "y": 1.4007578820124815
         },
         {
          "x": 46,
          "y": 1.3985117594029786
         },
         {
          "x": 47,
          "y": 1.3962880143019833
         },
         {
          "x": 48,
          "y": 1.3940863296860269
         },
         {
          "x": 49,
          "y": 1.3919063945708525
         },
         {
          "x": 50,
          "y": 1.3897479038662939
         },
         {
          "x": 51,
          "y": 1.3876105582353533
         },
         {
          "x": 52,
          "y": 1.385494063957334
         },
         {
          "x": 53,
          "y": 1.3833981327948959
         },
         {
          "x": 54,
          "y": 1.3813224818648986
         },
         {
          "x": 55,
          "y": 1.379266833512906
         },
         {
          "x": 56,
          "y": 1.3772309151912412
         },
         {
          "x": 57,
          "y": 1.3752144593404554
         },
         {
          "x": 58,
          "y": 1.3732172032741194
         },
         {
          "x": 59,
          "y": 1.3712388890668152
         },
         {
          "x": 60,
          "y": 1.3692792634452322
         },
         {
          "x": 61,
          "y": 1.367338077682259
         },
         {
          "x": 62,
          "y": 1.3654150874939859
         },
         {
          "x": 63,
          "y": 1.363510052939517
         },
         {
          "x": 64,
          "y": 1.3616227383234987
         },
         {
          "x": 65,
          "y": 1.359752912101295
         },
         {
          "x": 66,
          "y": 1.357900346786702
         },
         {
          "x": 67,
          "y": 1.3560648188621454
         },
         {
          "x": 68,
          "y": 1.3542461086912676
         },
         {
          "x": 69,
          "y": 1.3524440004338365
         },
         {
          "x": 70,
          "y": 1.3506582819629027
         },
         {
          "x": 71,
          "y": 1.3488887447841351
         },
         {
          "x": 72,
          "y": 1.3471351839572696
         },
         {
          "x": 73,
          "y": 1.3453973980196063
         },
         {
          "x": 74,
          "y": 1.343675188911488
         },
         {
          "x": 75,
          "y": 1.3419683619037093
         },
         {
          "x": 76,
          "y": 1.3402767255267896
         },
         {
          "x": 77,
          "y": 1.3386000915020557
         },
         {
          "x": 78,
          "y": 1.3369382746744842
         },
         {
          "x": 79,
          "y": 1.3352910929472506
         },
         {
          "x": 80,
          "y": 1.3336583672179219
         },
         {
          "x": 81,
          "y": 1.3320399213162684
         },
         {
          "x": 82,
          "y": 1.330435581943623
         },
         {
          "x": 83,
          "y": 1.3288451786137592
         },
         {
          "x": 84,
          "y": 1.327268543595232
         },
         {
          "x": 85,
          "y": 1.325705511855149
         },
         {
          "x": 86,
          "y": 1.3241559210043266
         },
         {
          "x": 87,
          "y": 1.3226196112437856
         },
         {
          "x": 88,
          "y": 1.3210964253125566
         },
         {
          "x": 89,
          "y": 1.319586208436758
         },
         {
          "x": 90,
          "y": 1.3180888082798983
         },
         {
          "x": 91,
          "y": 1.3166040748943857
         },
         {
          "x": 92,
          "y": 1.3151318606741935
         },
         {
          "x": 93,
          "y": 1.3136720203086638
         },
         {
          "x": 94,
          "y": 1.312224410737407
         },
         {
          "x": 95,
          "y": 1.3107888911062748
         },
         {
          "x": 96,
          "y": 1.309365322724369
         },
         {
          "x": 97,
          "y": 1.3079535690220614
         },
         {
          "x": 98,
          "y": 1.3065534955100022
         },
         {
          "x": 99,
          "y": 1.3051649697390766
         },
         {
          "x": 100,
          "y": 1.3037878612612999
         },
         {
          "x": 101,
          "y": 1.3024220415916132
         },
         {
          "x": 102,
          "y": 1.3010673841705593
         },
         {
          "x": 103,
          "y": 1.299723764327817
         },
         {
          "x": 104,
          "y": 1.298391059246568
         },
         {
          "x": 105,
          "y": 1.297069147928679
         },
         {
          "x": 106,
          "y": 1.295757911160666
         },
         {
          "x": 107,
          "y": 1.2944572314804375
         },
         {
          "x": 108,
          "y": 1.2931669931447767
         },
         {
          "x": 109,
          "y": 1.291887082097562
         },
         {
          "x": 110,
          "y": 1.2906173859386878
         },
         {
          "x": 111,
          "y": 1.2893577938936835
         },
         {
          "x": 112,
          "y": 1.2881081967840058
         },
         {
          "x": 113,
          "y": 1.2868684869979812
         },
         {
          "x": 114,
          "y": 1.2856385584623935
         },
         {
          "x": 115,
          "y": 1.28441830661469
         },
         {
          "x": 116,
          "y": 1.2832076283757963
         },
         {
          "x": 117,
          "y": 1.282006422123523
         },
         {
          "x": 118,
          "y": 1.280814587666544
         },
         {
          "x": 119,
          "y": 1.2796320262189398
         },
         {
          "x": 120,
          "y": 1.278458640375291
         },
         {
          "x": 121,
          "y": 1.2772943340862974
         },
         {
          "x": 122,
          "y": 1.276139012634925
         },
         {
          "x": 123,
          "y": 1.2749925826130544
         },
         {
          "x": 124,
          "y": 1.2738549518986273
         },
         {
          "x": 125,
          "y": 1.2727260296332747
         },
         {
          "x": 126,
          "y": 1.271605726200415
         },
         {
          "x": 127,
          "y": 1.2704939532038098
         },
         {
          "x": 128,
          "y": 1.26939062344657
         },
         {
          "x": 129,
          "y": 1.268295650910595
         },
         {
          "x": 130,
          "y": 1.2672089507364421
         },
         {
          "x": 131,
          "y": 1.2661304392036081
         },
         {
          "x": 132,
          "y": 1.2650600337112183
         },
         {
          "x": 133,
          "y": 1.2639976527591084
         },
         {
          "x": 134,
          "y": 1.262943215929301
         },
         {
          "x": 135,
          "y": 1.2618966438678485
         },
         {
          "x": 136,
          "y": 1.2608578582670498
         },
         {
          "x": 137,
          "y": 1.2598267818480287
         },
         {
          "x": 138,
          "y": 1.258803338343656
         },
         {
          "x": 139,
          "y": 1.2577874524818236
         },
         {
          "x": 140,
          "y": 1.2567790499690425
         },
         {
          "x": 141,
          "y": 1.2557780574743787
         },
         {
          "x": 142,
          "y": 1.254784402613699
         },
         {
          "x": 143,
          "y": 1.253798013934234
         },
         {
          "x": 144,
          "y": 1.2528188208994435
         },
         {
          "x": 145,
          "y": 1.2518467538741793
         },
         {
          "x": 146,
          "y": 1.250881744110139
         },
         {
          "x": 147,
          "y": 1.2499237237316052
         },
         {
          "x": 148,
          "y": 1.248972625721459
         },
         {
          "x": 149,
          "y": 1.2480283839074677
         },
         {
          "x": 150,
          "y": 1.2470909329488356
         },
         {
          "x": 151,
          "y": 1.2461602083230146
         },
         {
          "x": 152,
          "y": 1.245236146312767
         },
         {
          "x": 153,
          "y": 1.2443186839934781
         },
         {
          "x": 154,
          "y": 1.2434077592207076
         },
         {
          "x": 155,
          "y": 1.24250331061798
         },
         {
          "x": 156,
          "y": 1.2416052775648043
         },
         {
          "x": 157,
          "y": 1.2407136001849222
         },
         {
          "x": 158,
          "y": 1.239828219334775
         },
         {
          "x": 159,
          "y": 1.2389490765921871
         },
         {
          "x": 160,
          "y": 1.2380761142452643
         },
         {
          "x": 161,
          "y": 1.2372092752814936
         },
         {
          "x": 162,
          "y": 1.2363485033770492
         },
         {
          "x": 163,
          "y": 1.2354937428862955
         },
         {
          "x": 164,
          "y": 1.234644938831484
         },
         {
          "x": 165,
          "y": 1.2338020368926363
         },
         {
          "x": 166,
          "y": 1.232964983397621
         },
         {
          "x": 167,
          "y": 1.2321337253124025
         },
         {
          "x": 168,
          "y": 1.2313082102314703
         },
         {
          "x": 169,
          "y": 1.2304883863684473
         },
         {
          "x": 170,
          "y": 1.2296742025468594
         },
         {
          "x": 171,
          "y": 1.2288656081910794
         },
         {
          "x": 172,
          "y": 1.228062553317429
         },
         {
          "x": 173,
          "y": 1.2272649885254414
         },
         {
          "x": 174,
          "y": 1.2264728649892804
         },
         {
          "x": 175,
          "y": 1.2256861344493144
         },
         {
          "x": 176,
          "y": 1.2249047492038339
         },
         {
          "x": 177,
          "y": 1.2241286621009242
         },
         {
          "x": 178,
          "y": 1.223357826530473
         },
         {
          "x": 179,
          "y": 1.222592196416325
         },
         {
          "x": 180,
          "y": 1.2218317262085714
         },
         {
          "x": 181,
          "y": 1.2210763708759749
         },
         {
          "x": 182,
          "y": 1.2203260858985248
         },
         {
          "x": 183,
          "y": 1.2195808272601236
         },
         {
          "x": 184,
          "y": 1.218840551441402
         },
         {
          "x": 185,
          "y": 1.2181052154126524
         },
         {
          "x": 186,
          "y": 1.2173747766268903
         },
         {
          "x": 187,
          "y": 1.2166491930130294
         },
         {
          "x": 188,
          "y": 1.2159284229691791
         },
         {
          "x": 189,
          "y": 1.215212425356051
         },
         {
          "x": 190,
          "y": 1.2145011594904818
         },
         {
          "x": 191,
          "y": 1.213794585139061
         },
         {
          "x": 192,
          "y": 1.2130926625118745
         },
         {
          "x": 193,
          "y": 1.2123953522563449
         },
         {
          "x": 194,
          "y": 1.2117026154511814
         },
         {
          "x": 195,
          "y": 1.2110144136004275
         },
         {
          "x": 196,
          "y": 1.2103307086276114
         },
         {
          "x": 197,
          "y": 1.2096514628699904
         },
         {
          "x": 198,
          "y": 1.208976639072894
         },
         {
          "x": 199,
          "y": 1.2083062003841598
         },
         {
          "x": 200,
          "y": 1.2076401103486583
         },
         {
          "x": 201,
          "y": 1.206978332902914
         },
         {
          "x": 202,
          "y": 1.2063208323698094
         },
         {
          "x": 203,
          "y": 1.2056675734533777
         },
         {
          "x": 204,
          "y": 1.205018521233681
         },
         {
          "x": 205,
          "y": 1.2043736411617714
         },
         {
          "x": 206,
          "y": 1.2037328990547331
         },
         {
          "x": 207,
          "y": 1.2030962610908076
         },
         {
          "x": 208,
          "y": 1.2024636938045927
         },
         {
          "x": 209,
          "y": 1.2018351640823242
         },
         {
          "x": 210,
          "y": 1.2012106391572295
         },
         {
          "x": 211,
          "y": 1.2005900866049566
         },
         {
          "x": 212,
          "y": 1.1999734743390766
         },
         {
          "x": 213,
          "y": 1.199360770606659
         },
         {
          "x": 214,
          "y": 1.1987519439839127
         },
         {
          "x": 215,
          "y": 1.1981469633719006
         },
         {
          "x": 216,
          "y": 1.197545797992322
         },
         {
          "x": 217,
          "y": 1.1969484173833558
         },
         {
          "x": 218,
          "y": 1.1963547913955763
         },
         {
          "x": 219,
          "y": 1.1957648901879256
         },
         {
          "x": 220,
          "y": 1.1951786842237573
         },
         {
          "x": 221,
          "y": 1.1945961442669324
         },
         {
          "x": 222,
          "y": 1.194017241377984
         },
         {
          "x": 223,
          "y": 1.193441946910336
         },
         {
          "x": 224,
          "y": 1.1928702325065825
         },
         {
          "x": 225,
          "y": 1.1923020700948244
         },
         {
          "x": 226,
          "y": 1.1917374318850606
         },
         {
          "x": 227,
          "y": 1.1911762903656375
         },
         {
          "x": 228,
          "y": 1.19061861829975
         },
         {
          "x": 229,
          "y": 1.190064388721996
         },
         {
          "x": 230,
          "y": 1.1895135749349839
         },
         {
          "x": 231,
          "y": 1.188966150505995
         },
         {
          "x": 232,
          "y": 1.1884220892636879
         },
         {
          "x": 233,
          "y": 1.1878813652948597
         },
         {
          "x": 234,
          "y": 1.1873439529412546
         },
         {
          "x": 235,
          "y": 1.1868098267964184
         },
         {
          "x": 236,
          "y": 1.1862789617026004
         },
         {
          "x": 237,
          "y": 1.185751332747703
         },
         {
          "x": 238,
          "y": 1.185226915262276
         },
         {
          "x": 239,
          "y": 1.1847056848165538
         },
         {
          "x": 240,
          "y": 1.1841876172175394
         },
         {
          "x": 241,
          "y": 1.183672688506129
         },
         {
          "x": 242,
          "y": 1.1831608749542792
         },
         {
          "x": 243,
          "y": 1.1826521530622183
         },
         {
          "x": 244,
          "y": 1.1821464995556943
         },
         {
          "x": 245,
          "y": 1.1816438913832656
         },
         {
          "x": 246,
          "y": 1.1811443057136324
         },
         {
          "x": 247,
          "y": 1.1806477199330028
         },
         {
          "x": 248,
          "y": 1.180154111642501
         },
         {
          "x": 249,
          "y": 1.1796634586556114
         },
         {
          "x": 250,
          "y": 1.1791757389956585
         },
         {
          "x": 251,
          "y": 1.1786909308933258
         },
         {
          "x": 252,
          "y": 1.1782090127842055
         },
         {
          "x": 253,
          "y": 1.17772996330639
         },
         {
          "x": 254,
          "y": 1.1772537612980918
         },
         {
          "x": 255,
          "y": 1.1767803857952992
         },
         {
          "x": 256,
          "y": 1.1763098160294665
         },
         {
          "x": 257,
          "y": 1.175842031425237
         },
         {
          "x": 258,
          "y": 1.1753770115981934
         },
         {
          "x": 259,
          "y": 1.1749147363526486
         },
         {
          "x": 260,
          "y": 1.1744551856794583
         },
         {
          "x": 261,
          "y": 1.1739983397538707
         },
         {
          "x": 262,
          "y": 1.173544178933404
         },
         {
          "x": 263,
          "y": 1.1730926837557532
         },
         {
          "x": 264,
          "y": 1.172643834936725
         },
         {
          "x": 265,
          "y": 1.172197613368205
         },
         {
          "x": 266,
          "y": 1.1717540001161508
         },
         {
          "x": 267,
          "y": 1.1713129764186097
         },
         {
          "x": 268,
          "y": 1.1708745236837712
         },
         {
          "x": 269,
          "y": 1.1704386234880382
         },
         {
          "x": 270,
          "y": 1.17000525757413
         },
         {
          "x": 271,
          "y": 1.1695744078492096
         },
         {
          "x": 272,
          "y": 1.1691460563830351
         },
         {
          "x": 273,
          "y": 1.1687201854061413
         },
         {
          "x": 274,
          "y": 1.1682967773080368
         },
         {
          "x": 275,
          "y": 1.167875814635435
         },
         {
          "x": 276,
          "y": 1.1674572800905056
         },
         {
          "x": 277,
          "y": 1.167041156529145
         },
         {
          "x": 278,
          "y": 1.1666274269592785
         },
         {
          "x": 279,
          "y": 1.1662160745391774
         },
         {
          "x": 280,
          "y": 1.165807082575806
         },
         {
          "x": 281,
          "y": 1.165400434523182
         },
         {
          "x": 282,
          "y": 1.1649961139807665
         },
         {
          "x": 283,
          "y": 1.1645941046918724
         },
         {
          "x": 284,
          "y": 1.1641943905420922
         },
         {
          "x": 285,
          "y": 1.1637969555577496
         },
         {
          "x": 286,
          "y": 1.1634017839043698
         },
         {
          "x": 287,
          "y": 1.163008859885169
         },
         {
          "x": 288,
          "y": 1.162618167939568
         },
         {
          "x": 289,
          "y": 1.1622296926417193
         },
         {
          "x": 290,
          "y": 1.1618434186990578
         },
         {
          "x": 291,
          "y": 1.1614593309508692
         },
         {
          "x": 292,
          "y": 1.1610774143668758
         },
         {
          "x": 293,
          "y": 1.160697654045844
         },
         {
          "x": 294,
          "y": 1.1603200352142038
         },
         {
          "x": 295,
          "y": 1.1599445432246935
         },
         {
          "x": 296,
          "y": 1.159571163555017
         },
         {
          "x": 297,
          "y": 1.1591998818065188
         },
         {
          "x": 298,
          "y": 1.1588306837028777
         },
         {
          "x": 299,
          "y": 1.1584635550888152
         },
         {
          "x": 300,
          "y": 1.158098481928824
         },
         {
          "x": 301,
          "y": 1.1577354503059067
         },
         {
          "x": 302,
          "y": 1.1573744464203382
         },
         {
          "x": 303,
          "y": 1.1570154565884359
         },
         {
          "x": 304,
          "y": 1.15665846724135
         },
         {
          "x": 305,
          "y": 1.156303464923871
         },
         {
          "x": 306,
          "y": 1.155950436293247
         },
         {
          "x": 307,
          "y": 1.155599368118017
         },
         {
          "x": 308,
          "y": 1.1552502472768653
         },
         {
          "x": 309,
          "y": 1.1549030607574793
         },
         {
          "x": 310,
          "y": 1.1545577956554316
         },
         {
          "x": 311,
          "y": 1.1542144391730698
         },
         {
          "x": 312,
          "y": 1.1538729786184228
         },
         {
          "x": 313,
          "y": 1.1535334014041196
         },
         {
          "x": 314,
          "y": 1.1531956950463225
         },
         {
          "x": 315,
          "y": 1.1528598471636722
         },
         {
          "x": 316,
          "y": 1.1525258454762473
         },
         {
          "x": 317,
          "y": 1.1521936778045343
         },
         {
          "x": 318,
          "y": 1.1518633320684146
         },
         {
          "x": 319,
          "y": 1.1515347962861584
         },
         {
          "x": 320,
          "y": 1.1512080585734341
         },
         {
          "x": 321,
          "y": 1.1508831071423293
         },
         {
          "x": 322,
          "y": 1.1505599303003857
         },
         {
          "x": 323,
          "y": 1.15023851644964
         },
         {
          "x": 324,
          "y": 1.1499188540856837
         },
         {
          "x": 325,
          "y": 1.149600931796727
         },
         {
          "x": 326,
          "y": 1.149284738262681
         },
         {
          "x": 327,
          "y": 1.1489702622542457
         },
         {
          "x": 328,
          "y": 1.1486574926320094
         },
         {
          "x": 329,
          "y": 1.1483464183455652
         },
         {
          "x": 330,
          "y": 1.148037028432627
         },
         {
          "x": 331,
          "y": 1.1477293120181662
         },
         {
          "x": 332,
          "y": 1.147423258313553
         },
         {
          "x": 333,
          "y": 1.1471188566157113
         },
         {
          "x": 334,
          "y": 1.1468160963062795
         },
         {
          "x": 335,
          "y": 1.1465149668507841
         },
         {
          "x": 336,
          "y": 1.1462154577978252
         },
         {
          "x": 337,
          "y": 1.145917558778264
         },
         {
          "x": 338,
          "y": 1.1456212595044304
         },
         {
          "x": 339,
          "y": 1.1453265497693297
         },
         {
          "x": 340,
          "y": 1.1450334194458653
         },
         {
          "x": 341,
          "y": 1.144741858486068
         },
         {
          "x": 342,
          "y": 1.1444518569203344
         },
         {
          "x": 343,
          "y": 1.1441634048566744
         },
         {
          "x": 344,
          "y": 1.143876492479968
         },
         {
          "x": 345,
          "y": 1.1435911100512284
         },
         {
          "x": 346,
          "y": 1.1433072479068778
         },
         {
          "x": 347,
          "y": 1.143024896458027
         },
         {
          "x": 348,
          "y": 1.142744046189765
         },
         {
          "x": 349,
          "y": 1.1424646876604603
         },
         {
          "x": 350,
          "y": 1.1421868115010638
         },
         {
          "x": 351,
          "y": 1.1419104084144223
         },
         {
          "x": 352,
          "y": 1.1416354691746053
         },
         {
          "x": 353,
          "y": 1.1413619846262286
         },
         {
          "x": 354,
          "y": 1.1410899456837957
         },
         {
          "x": 355,
          "y": 1.1408193433310407
         },
         {
          "x": 356,
          "y": 1.140550168620281
         },
         {
          "x": 357,
          "y": 1.140282412671777
         },
         {
          "x": 358,
          "y": 1.1400160666730978
         },
         {
          "x": 359,
          "y": 1.1397511218784968
         },
         {
          "x": 360,
          "y": 1.139487569608291
         },
         {
          "x": 361,
          "y": 1.139225401248249
         },
         {
          "x": 362,
          "y": 1.138964608248987
         },
         {
          "x": 363,
          "y": 1.138705182125369
         },
         {
          "x": 364,
          "y": 1.1384471144559152
         },
         {
          "x": 365,
          "y": 1.138190396882215
         },
         {
          "x": 366,
          "y": 1.137935021108353
         },
         {
          "x": 367,
          "y": 1.1376809789003306
         },
         {
          "x": 368,
          "y": 1.1374282620855038
         },
         {
          "x": 369,
          "y": 1.137176862552023
         },
         {
          "x": 370,
          "y": 1.1369267722482763
         },
         {
          "x": 371,
          "y": 1.1366779831823466
         },
         {
          "x": 372,
          "y": 1.1364304874214648
         },
         {
          "x": 373,
          "y": 1.136184277091481
         },
         {
          "x": 374,
          "y": 1.1359393443763253
         },
         {
          "x": 375,
          "y": 1.1356956815174928
         },
         {
          "x": 376,
          "y": 1.1354532808135203
         },
         {
          "x": 377,
          "y": 1.1352121346194732
         },
         {
          "x": 378,
          "y": 1.1349722353464429
         },
         {
          "x": 379,
          "y": 1.1347335754610397
         },
         {
          "x": 380,
          "y": 1.1344961474848982
         },
         {
          "x": 381,
          "y": 1.1342599439941898
         },
         {
          "x": 382,
          "y": 1.1340249576191321
         },
         {
          "x": 383,
          "y": 1.1337911810435106
         },
         {
          "x": 384,
          "y": 1.1335586070042056
         },
         {
          "x": 385,
          "y": 1.1333272282907176
         },
         {
          "x": 386,
          "y": 1.1330970377447054
         },
         {
          "x": 387,
          "y": 1.1328680282595245
         },
         {
          "x": 388,
          "y": 1.1326401927797736
         },
         {
          "x": 389,
          "y": 1.1324135243008397
         },
         {
          "x": 390,
          "y": 1.1321880158684587
         },
         {
          "x": 391,
          "y": 1.1319636605782677
         },
         {
          "x": 392,
          "y": 1.1317404515753753
         },
         {
          "x": 393,
          "y": 1.131518382053923
         },
         {
          "x": 394,
          "y": 1.1312974452566644
         },
         {
          "x": 395,
          "y": 1.1310776344745375
         },
         {
          "x": 396,
          "y": 1.130858943046249
         },
         {
          "x": 397,
          "y": 1.1306413643578601
         },
         {
          "x": 398,
          "y": 1.130424891842375
         },
         {
          "x": 399,
          "y": 1.1302095189793386
         },
         {
          "x": 400,
          "y": 1.129995239294433
         },
         {
          "x": 401,
          "y": 1.1297820463590813
         },
         {
          "x": 402,
          "y": 1.129569933790054
         },
         {
          "x": 403,
          "y": 1.1293588952490816
         },
         {
          "x": 404,
          "y": 1.129148924442469
         },
         {
          "x": 405,
          "y": 1.1289400151207143
         },
         {
          "x": 406,
          "y": 1.1287321610781318
         },
         {
          "x": 407,
          "y": 1.12852535615248
         },
         {
          "x": 408,
          "y": 1.1283195942245912
         },
         {
          "x": 409,
          "y": 1.128114869218006
         },
         {
          "x": 410,
          "y": 1.1279111750986137
         },
         {
          "x": 411,
          "y": 1.1277085058742917
         },
         {
          "x": 412,
          "y": 1.127506855594551
         },
         {
          "x": 413,
          "y": 1.127306218350188
         },
         {
          "x": 414,
          "y": 1.127106588272934
         },
         {
          "x": 415,
          "y": 1.1269079595351141
         },
         {
          "x": 416,
          "y": 1.1267103263493052
         },
         {
          "x": 417,
          "y": 1.126513682968
         },
         {
          "x": 418,
          "y": 1.1263180236832737
         },
         {
          "x": 419,
          "y": 1.126123342826452
         },
         {
          "x": 420,
          "y": 1.1259296347677876
         },
         {
          "x": 421,
          "y": 1.1257368939161336
         },
         {
          "x": 422,
          "y": 1.1255451147186242
         },
         {
          "x": 423,
          "y": 1.125354291660358
         },
         {
          "x": 424,
          "y": 1.1251644192640846
         },
         {
          "x": 425,
          "y": 1.1249754920898916
         },
         {
          "x": 426,
          "y": 1.1247875047348983
         },
         {
          "x": 427,
          "y": 1.1246004518329522
         },
         {
          "x": 428,
          "y": 1.1244143280543235
         },
         {
          "x": 429,
          "y": 1.1242291281054109
         },
         {
          "x": 430,
          "y": 1.1240448467284418
         },
         {
          "x": 431,
          "y": 1.1238614787011836
         },
         {
          "x": 432,
          "y": 1.1236790188366483
         },
         {
          "x": 433,
          "y": 1.123497461982811
         },
         {
          "x": 434,
          "y": 1.123316803022321
         },
         {
          "x": 435,
          "y": 1.1231370368722238
         },
         {
          "x": 436,
          "y": 1.1229581584836779
         },
         {
          "x": 437,
          "y": 1.1227801628416838
         },
         {
          "x": 438,
          "y": 1.1226030449648075
         },
         {
          "x": 439,
          "y": 1.1224267999049085
         },
         {
          "x": 440,
          "y": 1.1222514227468752
         },
         {
          "x": 441,
          "y": 1.1220769086083566
         },
         {
          "x": 442,
          "y": 1.1219032526395007
         },
         {
          "x": 443,
          "y": 1.121730450022691
         },
         {
          "x": 444,
          "y": 1.1215584959722944
         },
         {
          "x": 445,
          "y": 1.121387385734399
         },
         {
          "x": 446,
          "y": 1.1212171145865657
         },
         {
          "x": 447,
          "y": 1.1210476778375755
         },
         {
          "x": 448,
          "y": 1.1208790708271819
         },
         {
          "x": 449,
          "y": 1.1207112889258641
         },
         {
          "x": 450,
          "y": 1.1205443275345839
         },
         {
          "x": 451,
          "y": 1.1203781820845466
         },
         {
          "x": 452,
          "y": 1.120212848036958
         },
         {
          "x": 453,
          "y": 1.1200483208827903
         },
         {
          "x": 454,
          "y": 1.1198845961425463
         },
         {
          "x": 455,
          "y": 1.1197216693660297
         },
         {
          "x": 456,
          "y": 1.1195595361321116
         },
         {
          "x": 457,
          "y": 1.1193981920485052
         },
         {
          "x": 458,
          "y": 1.1192376327515379
         },
         {
          "x": 459,
          "y": 1.1190778539059296
         },
         {
          "x": 460,
          "y": 1.1189188512045705
         },
         {
          "x": 461,
          "y": 1.1187606203683
         },
         {
          "x": 462,
          "y": 1.1186031571456923
         },
         {
          "x": 463,
          "y": 1.1184464573128383
         },
         {
          "x": 464,
          "y": 1.1182905166731336
         },
         {
          "x": 465,
          "y": 1.1181353310570654
         },
         {
          "x": 466,
          "y": 1.1179808963220066
         },
         {
          "x": 467,
          "y": 1.117827208352003
         },
         {
          "x": 468,
          "y": 1.1176742630575731
         },
         {
          "x": 469,
          "y": 1.1175220563754995
         },
         {
          "x": 470,
          "y": 1.117370584268631
         },
         {
          "x": 471,
          "y": 1.11721984272568
         },
         {
          "x": 472,
          "y": 1.1170698277610258
         },
         {
          "x": 473,
          "y": 1.1169205354145164
         },
         {
          "x": 474,
          "y": 1.1167719617512772
         },
         {
          "x": 475,
          "y": 1.1166241028615127
         },
         {
          "x": 476,
          "y": 1.1164769548603233
         },
         {
          "x": 477,
          "y": 1.116330513887508
         },
         {
          "x": 478,
          "y": 1.1161847761073824
         },
         {
          "x": 479,
          "y": 1.1160397377085896
         },
         {
          "x": 480,
          "y": 1.1158953949039183
         },
         {
          "x": 481,
          "y": 1.115751743930118
         },
         {
          "x": 482,
          "y": 1.1156087810477202
         },
         {
          "x": 483,
          "y": 1.1154665025408579
         },
         {
          "x": 484,
          "y": 1.1153249047170877
         },
         {
          "x": 485,
          "y": 1.1151839839072153
         },
         {
          "x": 486,
          "y": 1.1150437364651198
         },
         {
          "x": 487,
          "y": 1.1149041587675796
         },
         {
          "x": 488,
          "y": 1.1147652472141052
         },
         {
          "x": 489,
          "y": 1.114626998226764
         },
         {
          "x": 490,
          "y": 1.1144894082500154
         },
         {
          "x": 491,
          "y": 1.114352473750544
         },
         {
          "x": 492,
          "y": 1.1142161912170918
         },
         {
          "x": 493,
          "y": 1.114080557160297
         },
         {
          "x": 494,
          "y": 1.11394556811253
         },
         {
          "x": 495,
          "y": 1.1138112206277335
         },
         {
          "x": 496,
          "y": 1.1136775112812616
         },
         {
          "x": 497,
          "y": 1.1135444366697227
         },
         {
          "x": 498,
          "y": 1.1134119934108218
         },
         {
          "x": 499,
          "y": 1.1132801781432067
         },
         {
          "x": 500,
          "y": 1.113148987526312
         },
         {
          "x": 501,
          "y": 1.1130184182402076
         },
         {
          "x": 502,
          "y": 1.1128884669854466
         },
         {
          "x": 503,
          "y": 1.112759130482917
         },
         {
          "x": 504,
          "y": 1.1126304054736895
         },
         {
          "x": 505,
          "y": 1.1125022887188751
         },
         {
          "x": 506,
          "y": 1.1123747769994738
         },
         {
          "x": 507,
          "y": 1.1122478671162332
         },
         {
          "x": 508,
          "y": 1.112121555889503
         },
         {
          "x": 509,
          "y": 1.1119958401590944
         },
         {
          "x": 510,
          "y": 1.111870716784137
         },
         {
          "x": 511,
          "y": 1.1117461826429393
         },
         {
          "x": 512,
          "y": 1.1116222346328513
         },
         {
          "x": 513,
          "y": 1.1114988696701267
         },
         {
          "x": 514,
          "y": 1.1113760846897835
         },
         {
          "x": 515,
          "y": 1.1112538766454745
         },
         {
          "x": 516,
          "y": 1.1111322425093468
         },
         {
          "x": 517,
          "y": 1.111011179271914
         },
         {
          "x": 518,
          "y": 1.1108906839419224
         },
         {
          "x": 519,
          "y": 1.11077075354622
         },
         {
          "x": 520,
          "y": 1.1106513851296274
         },
         {
          "x": 521,
          "y": 1.1105325757548103
         },
         {
          "x": 522,
          "y": 1.1104143225021506
         },
         {
          "x": 523,
          "y": 1.110296622469621
         },
         {
          "x": 524,
          "y": 1.1101794727726602
         },
         {
          "x": 525,
          "y": 1.110062870544048
         },
         {
          "x": 526,
          "y": 1.109946812933782
         },
         {
          "x": 527,
          "y": 1.1098312971089572
         },
         {
          "x": 528,
          "y": 1.109716320253643
         },
         {
          "x": 529,
          "y": 1.1096018795687645
         },
         {
          "x": 530,
          "y": 1.1094879722719826
         },
         {
          "x": 531,
          "y": 1.1093745955975773
         },
         {
          "x": 532,
          "y": 1.1092617467963286
         },
         {
          "x": 533,
          "y": 1.1091494231354029
         },
         {
          "x": 534,
          "y": 1.1090376218982363
         },
         {
          "x": 535,
          "y": 1.1089263403844205
         },
         {
          "x": 536,
          "y": 1.1088155759095915
         },
         {
          "x": 537,
          "y": 1.1087053258053143
         },
         {
          "x": 538,
          "y": 1.1085955874189743
         },
         {
          "x": 539,
          "y": 1.1084863581136657
         },
         {
          "x": 540,
          "y": 1.108377635268082
         },
         {
          "x": 541,
          "y": 1.1082694162764073
         },
         {
          "x": 542,
          "y": 1.1081616985482112
         },
         {
          "x": 543,
          "y": 1.108054479508337
         },
         {
          "x": 544,
          "y": 1.1079477565967997
         },
         {
          "x": 545,
          "y": 1.1078415272686806
         },
         {
          "x": 546,
          "y": 1.107735788994022
         },
         {
          "x": 547,
          "y": 1.1076305392577246
         },
         {
          "x": 548,
          "y": 1.1075257755594436
         },
         {
          "x": 549,
          "y": 1.1074214954134902
         },
         {
          "x": 550,
          "y": 1.1073176963487268
         },
         {
          "x": 551,
          "y": 1.1072143759084705
         },
         {
          "x": 552,
          "y": 1.1071115316503914
         },
         {
          "x": 553,
          "y": 1.1070091611464163
         },
         {
          "x": 554,
          "y": 1.1069072619826297
         },
         {
          "x": 555,
          "y": 1.106805831759177
         },
         {
          "x": 556,
          "y": 1.1067048680901688
         },
         {
          "x": 557,
          "y": 1.1066043686035862
         },
         {
          "x": 558,
          "y": 1.106504330941187
         },
         {
          "x": 559,
          "y": 1.1064047527584089
         },
         {
          "x": 560,
          "y": 1.1063056317242792
         },
         {
          "x": 561,
          "y": 1.1062069655213231
         },
         {
          "x": 562,
          "y": 1.10610875184547
         },
         {
          "x": 563,
          "y": 1.1060109884059637
         },
         {
          "x": 564,
          "y": 1.105913672925273
         },
         {
          "x": 565,
          "y": 1.1058168031390017
         },
         {
          "x": 566,
          "y": 1.105720376795801
         },
         {
          "x": 567,
          "y": 1.1056243916572797
         },
         {
          "x": 568,
          "y": 1.1055288454979197
         },
         {
          "x": 569,
          "y": 1.1054337361049864
         },
         {
          "x": 570,
          "y": 1.1053390612784453
         },
         {
          "x": 571,
          "y": 1.1052448188308763
         },
         {
          "x": 572,
          "y": 1.105151006587389
         },
         {
          "x": 573,
          "y": 1.1050576223855393
         },
         {
          "x": 574,
          "y": 1.1049646640752442
         },
         {
          "x": 575,
          "y": 1.1048721295187036
         },
         {
          "x": 576,
          "y": 1.1047800165903137
         },
         {
          "x": 577,
          "y": 1.10468832317659
         },
         {
          "x": 578,
          "y": 1.104597047176083
         },
         {
          "x": 579,
          "y": 1.1045061864993022
         },
         {
          "x": 580,
          "y": 1.1044157390686329
         },
         {
          "x": 581,
          "y": 1.10432570281826
         },
         {
          "x": 582,
          "y": 1.1042360756940899
         },
         {
          "x": 583,
          "y": 1.1041468556536709
         },
         {
          "x": 584,
          "y": 1.10405804066612
         },
         {
          "x": 585,
          "y": 1.1039696287120437
         },
         {
          "x": 586,
          "y": 1.1038816177834616
         },
         {
          "x": 587,
          "y": 1.1037940058837352
         },
         {
          "x": 588,
          "y": 1.1037067910274911
         },
         {
          "x": 589,
          "y": 1.1036199712405457
         },
         {
          "x": 590,
          "y": 1.1035335445598338
         },
         {
          "x": 591,
          "y": 1.1034475090333358
         },
         {
          "x": 592,
          "y": 1.1033618627200041
         },
         {
          "x": 593,
          "y": 1.1032766036896933
         },
         {
          "x": 594,
          "y": 1.1031917300230876
         },
         {
          "x": 595,
          "y": 1.1031072398116308
         },
         {
          "x": 596,
          "y": 1.1030231311574559
         },
         {
          "x": 597,
          "y": 1.1029394021733168
         },
         {
          "x": 598,
          "y": 1.1028560509825172
         },
         {
          "x": 599,
          "y": 1.1027730757188448
         },
         {
          "x": 600,
          "y": 1.1026904745265005
         },
         {
          "x": 601,
          "y": 1.1026082455600332
         },
         {
          "x": 602,
          "y": 1.1025263869842725
         },
         {
          "x": 603,
          "y": 1.1024448969742622
         },
         {
          "x": 604,
          "y": 1.1023637737151928
         },
         {
          "x": 605,
          "y": 1.1022830154023384
         },
         {
          "x": 606,
          "y": 1.1022026202409922
         },
         {
          "x": 607,
          "y": 1.1021225864463986
         },
         {
          "x": 608,
          "y": 1.1020429122436928
         },
         {
          "x": 609,
          "y": 1.1019635958678364
         },
         {
          "x": 610,
          "y": 1.1018846355635532
         },
         {
          "x": 611,
          "y": 1.101806029585268
         },
         {
          "x": 612,
          "y": 1.1017277761970456
         },
         {
          "x": 613,
          "y": 1.101649873672525
         },
         {
          "x": 614,
          "y": 1.1015723202948646
         },
         {
          "x": 615,
          "y": 1.1014951143566756
         },
         {
          "x": 616,
          "y": 1.1014182541599657
         },
         {
          "x": 617,
          "y": 1.1013417380160773
         },
         {
          "x": 618,
          "y": 1.10126556424563
         },
         {
          "x": 619,
          "y": 1.1011897311784595
         },
         {
          "x": 620,
          "y": 1.1011142371535618
         },
         {
          "x": 621,
          "y": 1.1010390805190324
         },
         {
          "x": 622,
          "y": 1.1009642596320117
         },
         {
          "x": 623,
          "y": 1.1008897728586247
         },
         {
          "x": 624,
          "y": 1.100815618573928
         },
         {
          "x": 625,
          "y": 1.10074179516185
         },
         {
          "x": 626,
          "y": 1.100668301015136
         },
         {
          "x": 627,
          "y": 1.1005951345352953
         },
         {
          "x": 628,
          "y": 1.1005222941325425
         },
         {
          "x": 629,
          "y": 1.1004497782257452
         },
         {
          "x": 630,
          "y": 1.100377585242369
         },
         {
          "x": 631,
          "y": 1.100305713618423
         },
         {
          "x": 632,
          "y": 1.1002341617984082
         },
         {
          "x": 633,
          "y": 1.1001629282352618
         },
         {
          "x": 634,
          "y": 1.1000920113903074
         },
         {
          "x": 635,
          "y": 1.1000214097332002
         },
         {
          "x": 636,
          "y": 1.0999511217418774
         },
         {
          "x": 637,
          "y": 1.099881145902504
         },
         {
          "x": 638,
          "y": 1.099811480709424
         },
         {
          "x": 639,
          "y": 1.099742124665109
         },
         {
          "x": 640,
          "y": 1.0996730762801068
         },
         {
          "x": 641,
          "y": 1.0996043340729922
         },
         {
          "x": 642,
          "y": 1.0995358965703166
         },
         {
          "x": 643,
          "y": 1.0994677623065607
         },
         {
          "x": 644,
          "y": 1.0993999298240829
         },
         {
          "x": 645,
          "y": 1.0993323976730716
         },
         {
          "x": 646,
          "y": 1.0992651644114977
         },
         {
          "x": 647,
          "y": 1.0991982286050659
         },
         {
          "x": 648,
          "y": 1.0991315888271669
         },
         {
          "x": 649,
          "y": 1.0990652436588315
         },
         {
          "x": 650,
          "y": 1.0989991916886817
         },
         {
          "x": 651,
          "y": 1.098933431512886
         },
         {
          "x": 652,
          "y": 1.0988679617351114
         },
         {
          "x": 653,
          "y": 1.098802780966479
         },
         {
          "x": 654,
          "y": 1.098737887825518
         },
         {
          "x": 655,
          "y": 1.0986732809381197
         },
         {
          "x": 656,
          "y": 1.098608958937494
         },
         {
          "x": 657,
          "y": 1.0985449204641229
         },
         {
          "x": 658,
          "y": 1.098481164165718
         },
         {
          "x": 659,
          "y": 1.098417688697175
         },
         {
          "x": 660,
          "y": 1.0983544927205313
         },
         {
          "x": 661,
          "y": 1.0982915749049222
         },
         {
          "x": 662,
          "y": 1.0982289339265365
         },
         {
          "x": 663,
          "y": 1.098166568468577
         },
         {
          "x": 664,
          "y": 1.0981044772212138
         },
         {
          "x": 665,
          "y": 1.098042658881546
         },
         {
          "x": 666,
          "y": 1.0979811121535574
         },
         {
          "x": 667,
          "y": 1.097919835748076
         },
         {
          "x": 668,
          "y": 1.0978588283827322
         },
         {
          "x": 669,
          "y": 1.0977980887819176
         },
         {
          "x": 670,
          "y": 1.097737615676745
         },
         {
          "x": 671,
          "y": 1.0976774078050093
         },
         {
          "x": 672,
          "y": 1.0976174639111438
         },
         {
          "x": 673,
          "y": 1.0975577827461818
         },
         {
          "x": 674,
          "y": 1.09749836306772
         },
         {
          "x": 675,
          "y": 1.0974392036398748
         },
         {
          "x": 676,
          "y": 1.0973803032332459
         },
         {
          "x": 677,
          "y": 1.0973216606248768
         },
         {
          "x": 678,
          "y": 1.0972632745982156
         },
         {
          "x": 679,
          "y": 1.0972051439430788
         },
         {
          "x": 680,
          "y": 1.0971472674556113
         },
         {
          "x": 681,
          "y": 1.0970896439382498
         },
         {
          "x": 682,
          "y": 1.0970322721996841
         },
         {
          "x": 683,
          "y": 1.0969751510548222
         },
         {
          "x": 684,
          "y": 1.0969182793247514
         },
         {
          "x": 685,
          "y": 1.0968616558367017
         },
         {
          "x": 686,
          "y": 1.0968052794240104
         },
         {
          "x": 687,
          "y": 1.0967491489260863
         },
         {
          "x": 688,
          "y": 1.096693263188371
         },
         {
          "x": 689,
          "y": 1.0966376210623072
         },
         {
          "x": 690,
          "y": 1.0965822214052996
         },
         {
          "x": 691,
          "y": 1.0965270630806825
         },
         {
          "x": 692,
          "y": 1.096472144957683
         },
         {
          "x": 693,
          "y": 1.0964174659113877
         },
         {
          "x": 694,
          "y": 1.096363024822706
         },
         {
          "x": 695,
          "y": 1.0963088205783387
         },
         {
          "x": 696,
          "y": 1.096254852070743
         },
         {
          "x": 697,
          "y": 1.096201118198097
         },
         {
          "x": 698,
          "y": 1.0961476178642677
         },
         {
          "x": 699,
          "y": 1.0960943499787787
         },
         {
          "x": 700,
          "y": 1.0960413134567757
         },
         {
          "x": 701,
          "y": 1.0959885072189919
         },
         {
          "x": 702,
          "y": 1.0959359301917198
         },
         {
          "x": 703,
          "y": 1.0958835813067747
         },
         {
          "x": 704,
          "y": 1.0958314595014644
         },
         {
          "x": 705,
          "y": 1.095779563718557
         },
         {
          "x": 706,
          "y": 1.0957278929062488
         },
         {
          "x": 707,
          "y": 1.0956764460181336
         },
         {
          "x": 708,
          "y": 1.0956252220131697
         },
         {
          "x": 709,
          "y": 1.0955742198556495
         },
         {
          "x": 710,
          "y": 1.09552343851517
         },
         {
          "x": 711,
          "y": 1.0954728769665991
         },
         {
          "x": 712,
          "y": 1.0954225341900488
         },
         {
          "x": 713,
          "y": 1.0953724091708419
         },
         {
          "x": 714,
          "y": 1.0953225008994822
         },
         {
          "x": 715,
          "y": 1.095272808371626
         },
         {
          "x": 716,
          "y": 1.095223330588052
         },
         {
          "x": 717,
          "y": 1.0951740665546306
         },
         {
          "x": 718,
          "y": 1.0951250152822956
         },
         {
          "x": 719,
          "y": 1.0950761757870149
         },
         {
          "x": 720,
          "y": 1.0950275470897617
         },
         {
          "x": 721,
          "y": 1.0949791282164856
         },
         {
          "x": 722,
          "y": 1.0949309181980829
         },
         {
          "x": 723,
          "y": 1.094882916070371
         },
         {
          "x": 724,
          "y": 1.0948351208740574
         },
         {
          "x": 725,
          "y": 1.094787531654713
         },
         {
          "x": 726,
          "y": 1.0947401474627452
         },
         {
          "x": 727,
          "y": 1.0946929673533674
         },
         {
          "x": 728,
          "y": 1.0946459903865744
         },
         {
          "x": 729,
          "y": 1.0945992156271147
         },
         {
          "x": 730,
          "y": 1.0945526421444605
         },
         {
          "x": 731,
          "y": 1.094506269012786
         },
         {
          "x": 732,
          "y": 1.0944600953109362
         },
         {
          "x": 733,
          "y": 1.0944141201224016
         },
         {
          "x": 734,
          "y": 1.094368342535293
         },
         {
          "x": 735,
          "y": 1.094322761642314
         },
         {
          "x": 736,
          "y": 1.0942773765407343
         },
         {
          "x": 737,
          "y": 1.0942321863323672
         },
         {
          "x": 738,
          "y": 1.0941871901235394
         },
         {
          "x": 739,
          "y": 1.0941423870250682
         },
         {
          "x": 740,
          "y": 1.0940977761522361
         },
         {
          "x": 741,
          "y": 1.0940533566247648
         },
         {
          "x": 742,
          "y": 1.09400912756679
         },
         {
          "x": 743,
          "y": 1.0939650881068372
         },
         {
          "x": 744,
          "y": 1.0939212373777967
         },
         {
          "x": 745,
          "y": 1.0938775745168985
         },
         {
          "x": 746,
          "y": 1.0938340986656891
         },
         {
          "x": 747,
          "y": 1.093790808970006
         },
         {
          "x": 748,
          "y": 1.0937477045799544
         },
         {
          "x": 749,
          "y": 1.0937047846498833
         },
         {
          "x": 750,
          "y": 1.093662048338361
         },
         {
          "x": 751,
          "y": 1.0936194948081521
         },
         {
          "x": 752,
          "y": 1.093577123226193
         },
         {
          "x": 753,
          "y": 1.0935349327635708
         },
         {
          "x": 754,
          "y": 1.093492922595498
         },
         {
          "x": 755,
          "y": 1.0934510919012892
         },
         {
          "x": 756,
          "y": 1.0934094398643417
         },
         {
          "x": 757,
          "y": 1.0933679656721074
         },
         {
          "x": 758,
          "y": 1.093326668516075
         },
         {
          "x": 759,
          "y": 1.0932855475917451
         },
         {
          "x": 760,
          "y": 1.0932446020986069
         },
         {
          "x": 761,
          "y": 1.0932038312401202
         },
         {
          "x": 762,
          "y": 1.093163234223689
         },
         {
          "x": 763,
          "y": 1.0931228102606407
         },
         {
          "x": 764,
          "y": 1.0930825585662074
         },
         {
          "x": 765,
          "y": 1.0930424783594996
         },
         {
          "x": 766,
          "y": 1.0930025688634872
         },
         {
          "x": 767,
          "y": 1.0929628293049791
         },
         {
          "x": 768,
          "y": 1.0929232589146
         },
         {
          "x": 769,
          "y": 1.09288385692677
         },
         {
          "x": 770,
          "y": 1.0928446225796848
         },
         {
          "x": 771,
          "y": 1.0928055551152926
         },
         {
          "x": 772,
          "y": 1.0927666537792764
         },
         {
          "x": 773,
          "y": 1.0927279178210296
         },
         {
          "x": 774,
          "y": 1.0926893464936394
         },
         {
          "x": 775,
          "y": 1.092650939053865
         },
         {
          "x": 776,
          "y": 1.092612694762116
         },
         {
          "x": 777,
          "y": 1.0925746128824354
         },
         {
          "x": 778,
          "y": 1.0925366926824769
         },
         {
          "x": 779,
          "y": 1.0924989334334863
         },
         {
          "x": 780,
          "y": 1.0924613344102816
         },
         {
          "x": 781,
          "y": 1.0924238948912346
         },
         {
          "x": 782,
          "y": 1.0923866141582494
         },
         {
          "x": 783,
          "y": 1.0923494914967447
         },
         {
          "x": 784,
          "y": 1.0923125261956335
         },
         {
          "x": 785,
          "y": 1.0922757175473061
         },
         {
          "x": 786,
          "y": 1.092239064847608
         },
         {
          "x": 787,
          "y": 1.092202567395824
         },
         {
          "x": 788,
          "y": 1.0921662244946586
         },
         {
          "x": 789,
          "y": 1.0921300354502146
         },
         {
          "x": 790,
          "y": 1.09209399957198
         },
         {
          "x": 791,
          "y": 1.0920581161728065
         },
         {
          "x": 792,
          "y": 1.0920223845688892
         },
         {
          "x": 793,
          "y": 1.0919868040797533
         },
         {
          "x": 794,
          "y": 1.0919513740282327
         },
         {
          "x": 795,
          "y": 1.091916093740452
         },
         {
          "x": 796,
          "y": 1.091880962545811
         },
         {
          "x": 797,
          "y": 1.0918459797769653
         },
         {
          "x": 798,
          "y": 1.091811144769809
         },
         {
          "x": 799,
          "y": 1.0917764568634565
         },
         {
          "x": 800,
          "y": 1.0917419154002272
         },
         {
          "x": 801,
          "y": 1.091707519725627
         },
         {
          "x": 802,
          "y": 1.0916732691883302
         },
         {
          "x": 803,
          "y": 1.0916391631401632
         },
         {
          "x": 804,
          "y": 1.0916052009360884
         },
         {
          "x": 805,
          "y": 1.0915713819341872
         },
         {
          "x": 806,
          "y": 1.0915377054956412
         },
         {
          "x": 807,
          "y": 1.091504170984718
         },
         {
          "x": 808,
          "y": 1.0914707777687542
         },
         {
          "x": 809,
          "y": 1.0914375252181376
         },
         {
          "x": 810,
          "y": 1.091404412706292
         },
         {
          "x": 811,
          "y": 1.0913714396096617
         },
         {
          "x": 812,
          "y": 1.0913386053076921
         },
         {
          "x": 813,
          "y": 1.0913059091828186
         },
         {
          "x": 814,
          "y": 1.0912733506204464
         },
         {
          "x": 815,
          "y": 1.0912409290089367
         },
         {
          "x": 816,
          "y": 1.0912086437395905
         },
         {
          "x": 817,
          "y": 1.0911764942066322
         },
         {
          "x": 818,
          "y": 1.0911444798071963
         },
         {
          "x": 819,
          "y": 1.091112599941309
         },
         {
          "x": 820,
          "y": 1.0910808540118748
         },
         {
          "x": 821,
          "y": 1.091049241424661
         },
         {
          "x": 822,
          "y": 1.091017761588281
         },
         {
          "x": 823,
          "y": 1.0909864139141818
         },
         {
          "x": 824,
          "y": 1.0909551978166265
         },
         {
          "x": 825,
          "y": 1.0909241127126807
         },
         {
          "x": 826,
          "y": 1.090893158022197
         },
         {
          "x": 827,
          "y": 1.0908623331678013
         },
         {
          "x": 828,
          "y": 1.090831637574877
         },
         {
          "x": 829,
          "y": 1.0908010706715516
         },
         {
          "x": 830,
          "y": 1.09077063188868
         },
         {
          "x": 831,
          "y": 1.0907403206598334
         },
         {
          "x": 832,
          "y": 1.0907101364212823
         },
         {
          "x": 833,
          "y": 1.0906800786119826
         },
         {
          "x": 834,
          "y": 1.0906501466735639
         },
         {
          "x": 835,
          "y": 1.0906203400503114
         },
         {
          "x": 836,
          "y": 1.0905906581891558
         },
         {
          "x": 837,
          "y": 1.0905611005396563
         },
         {
          "x": 838,
          "y": 1.0905316665539904
         },
         {
          "x": 839,
          "y": 1.090502355686936
         },
         {
          "x": 840,
          "y": 1.0904731673958594
         },
         {
          "x": 841,
          "y": 1.0904441011407044
         },
         {
          "x": 842,
          "y": 1.090415156383975
         },
         {
          "x": 843,
          "y": 1.0903863325907233
         },
         {
          "x": 844,
          "y": 1.0903576292285366
         },
         {
          "x": 845,
          "y": 1.0903290457675248
         },
         {
          "x": 846,
          "y": 1.0903005816803046
         },
         {
          "x": 847,
          "y": 1.0902722364419912
         },
         {
          "x": 848,
          "y": 1.0902440095301784
         },
         {
          "x": 849,
          "y": 1.0902159004249325
         },
         {
          "x": 850,
          "y": 1.0901879086087747
         },
         {
          "x": 851,
          "y": 1.090160033566672
         },
         {
          "x": 852,
          "y": 1.0901322747860198
         },
         {
          "x": 853,
          "y": 1.0901046317566345
         },
         {
          "x": 854,
          "y": 1.0900771039707373
         },
         {
          "x": 855,
          "y": 1.0900496909229436
         },
         {
          "x": 856,
          "y": 1.090022392110249
         },
         {
          "x": 857,
          "y": 1.0899952070320178
         },
         {
          "x": 858,
          "y": 1.0899681351899717
         },
         {
          "x": 859,
          "y": 1.0899411760881759
         },
         {
          "x": 860,
          "y": 1.0899143292330282
         },
         {
          "x": 861,
          "y": 1.0898875941332458
         },
         {
          "x": 862,
          "y": 1.0898609702998547
         },
         {
          "x": 863,
          "y": 1.0898344572461758
         },
         {
          "x": 864,
          "y": 1.089808054487816
         },
         {
          "x": 865,
          "y": 1.089781761542654
         },
         {
          "x": 866,
          "y": 1.0897555779308286
         },
         {
          "x": 867,
          "y": 1.0897295031747283
         },
         {
          "x": 868,
          "y": 1.0897035367989794
         },
         {
          "x": 869,
          "y": 1.089677678330434
         },
         {
          "x": 870,
          "y": 1.0896519272981593
         },
         {
          "x": 871,
          "y": 1.0896262832334245
         },
         {
          "x": 872,
          "y": 1.089600745669692
         },
         {
          "x": 873,
          "y": 1.0895753141426043
         },
         {
          "x": 874,
          "y": 1.0895499881899733
         },
         {
          "x": 875,
          "y": 1.0895247673517698
         },
         {
          "x": 876,
          "y": 1.089499651170112
         },
         {
          "x": 877,
          "y": 1.0894746391892531
         },
         {
          "x": 878,
          "y": 1.0894497309555728
         },
         {
          "x": 879,
          "y": 1.0894249260175655
         },
         {
          "x": 880,
          "y": 1.0894002239258285
         },
         {
          "x": 881,
          "y": 1.089375624233053
         },
         {
          "x": 882,
          "y": 1.0893511264940114
         },
         {
          "x": 883,
          "y": 1.0893267302655492
         },
         {
          "x": 884,
          "y": 1.089302435106572
         },
         {
          "x": 885,
          "y": 1.0892782405780357
         },
         {
          "x": 886,
          "y": 1.0892541462429375
         },
         {
          "x": 887,
          "y": 1.0892301516663037
         },
         {
          "x": 888,
          "y": 1.0892062564151799
         },
         {
          "x": 889,
          "y": 1.0891824600586217
         },
         {
          "x": 890,
          "y": 1.0891587621676837
         },
         {
          "x": 891,
          "y": 1.0891351623154082
         },
         {
          "x": 892,
          "y": 1.0891116600768167
         },
         {
          "x": 893,
          "y": 1.089088255028901
         },
         {
          "x": 894,
          "y": 1.0890649467506093
         },
         {
          "x": 895,
          "y": 1.0890417348228403
         },
         {
          "x": 896,
          "y": 1.089018618828431
         },
         {
          "x": 897,
          "y": 1.088995598352148
         },
         {
          "x": 898,
          "y": 1.088972672980678
         },
         {
          "x": 899,
          "y": 1.088949842302615
         },
         {
          "x": 900,
          "y": 1.0889271059084553
         },
         {
          "x": 901,
          "y": 1.088904463390586
         },
         {
          "x": 902,
          "y": 1.0888819143432733
         },
         {
          "x": 903,
          "y": 1.088859458362656
         },
         {
          "x": 904,
          "y": 1.0888370950467356
         },
         {
          "x": 905,
          "y": 1.0888148239953652
         },
         {
          "x": 906,
          "y": 1.0887926448102418
         },
         {
          "x": 907,
          "y": 1.0887705570948962
         },
         {
          "x": 908,
          "y": 1.0887485604546847
         },
         {
          "x": 909,
          "y": 1.0887266544967789
         },
         {
          "x": 910,
          "y": 1.088704838830157
         },
         {
          "x": 911,
          "y": 1.0886831130655954
         },
         {
          "x": 912,
          "y": 1.0886614768156577
         },
         {
          "x": 913,
          "y": 1.0886399296946887
         },
         {
          "x": 914,
          "y": 1.088618471318803
         },
         {
          "x": 915,
          "y": 1.088597101305877
         },
         {
          "x": 916,
          "y": 1.0885758192755404
         },
         {
          "x": 917,
          "y": 1.0885546248491673
         },
         {
          "x": 918,
          "y": 1.0885335176498665
         },
         {
          "x": 919,
          "y": 1.0885124973024753
         },
         {
          "x": 920,
          "y": 1.0884915634335468
         },
         {
          "x": 921,
          "y": 1.0884707156713462
         },
         {
          "x": 922,
          "y": 1.0884499536458394
         },
         {
          "x": 923,
          "y": 1.0884292769886832
         },
         {
          "x": 924,
          "y": 1.0884086853332207
         },
         {
          "x": 925,
          "y": 1.0883881783144698
         },
         {
          "x": 926,
          "y": 1.0883677555691162
         },
         {
          "x": 927,
          "y": 1.0883474167355056
         },
         {
          "x": 928,
          "y": 1.0883271614536336
         },
         {
          "x": 929,
          "y": 1.088306989365139
         },
         {
          "x": 930,
          "y": 1.0882869001132955
         },
         {
          "x": 931,
          "y": 1.0882668933430035
         },
         {
          "x": 932,
          "y": 1.0882469687007803
         },
         {
          "x": 933,
          "y": 1.0882271258347564
         },
         {
          "x": 934,
          "y": 1.088207364394663
         },
         {
          "x": 935,
          "y": 1.0881876840318268
         },
         {
          "x": 936,
          "y": 1.0881680843991595
         },
         {
          "x": 937,
          "y": 1.0881485651511533
         },
         {
          "x": 938,
          "y": 1.0881291259438717
         },
         {
          "x": 939,
          "y": 1.0881097664349402
         },
         {
          "x": 940,
          "y": 1.0880904862835399
         },
         {
          "x": 941,
          "y": 1.0880712851504013
         },
         {
          "x": 942,
          "y": 1.0880521626977933
         },
         {
          "x": 943,
          "y": 1.0880331185895191
         },
         {
          "x": 944,
          "y": 1.0880141524909062
         },
         {
          "x": 945,
          "y": 1.0879952640687998
         },
         {
          "x": 946,
          "y": 1.087976452991555
         },
         {
          "x": 947,
          "y": 1.0879577189290304
         },
         {
          "x": 948,
          "y": 1.0879390615525795
         },
         {
          "x": 949,
          "y": 1.0879204805350438
         },
         {
          "x": 950,
          "y": 1.0879019755507449
         },
         {
          "x": 951,
          "y": 1.0878835462754803
         },
         {
          "x": 952,
          "y": 1.0878651923865101
         },
         {
          "x": 953,
          "y": 1.0878469135625557
         },
         {
          "x": 954,
          "y": 1.0878287094837908
         },
         {
          "x": 955,
          "y": 1.0878105798318318
         },
         {
          "x": 956,
          "y": 1.0877925242897353
         },
         {
          "x": 957,
          "y": 1.087774542541986
         },
         {
          "x": 958,
          "y": 1.0877566342744944
         },
         {
          "x": 959,
          "y": 1.0877387991745875
         },
         {
          "x": 960,
          "y": 1.0877210369310004
         },
         {
          "x": 961,
          "y": 1.0877033472338729
         },
         {
          "x": 962,
          "y": 1.0876857297747393
         },
         {
          "x": 963,
          "y": 1.087668184246526
         },
         {
          "x": 964,
          "y": 1.0876507103435389
         },
         {
          "x": 965,
          "y": 1.0876333077614606
         },
         {
          "x": 966,
          "y": 1.0876159761973436
         },
         {
          "x": 967,
          "y": 1.0875987153496025
         },
         {
          "x": 968,
          "y": 1.087581524918007
         },
         {
          "x": 969,
          "y": 1.087564404603677
         },
         {
          "x": 970,
          "y": 1.0875473541090737
         },
         {
          "x": 971,
          "y": 1.087530373137996
         },
         {
          "x": 972,
          "y": 1.0875134613955715
         },
         {
          "x": 973,
          "y": 1.087496618588251
         },
         {
          "x": 974,
          "y": 1.0874798444238032
         },
         {
          "x": 975,
          "y": 1.0874631386113052
         },
         {
          "x": 976,
          "y": 1.08744650086114
         },
         {
          "x": 977,
          "y": 1.0874299308849875
         },
         {
          "x": 978,
          "y": 1.0874134283958192
         },
         {
          "x": 979,
          "y": 1.087396993107892
         },
         {
          "x": 980,
          "y": 1.087380624736741
         },
         {
          "x": 981,
          "y": 1.0873643229991758
         },
         {
          "x": 982,
          "y": 1.087348087613271
         },
         {
          "x": 983,
          "y": 1.0873319182983627
         },
         {
          "x": 984,
          "y": 1.0873158147750417
         },
         {
          "x": 985,
          "y": 1.0872997767651458
         },
         {
          "x": 986,
          "y": 1.087283803991757
         },
         {
          "x": 987,
          "y": 1.087267896179193
         },
         {
          "x": 988,
          "y": 1.0872520530530017
         },
         {
          "x": 989,
          "y": 1.0872362743399562
         },
         {
          "x": 990,
          "y": 1.0872205597680475
         },
         {
          "x": 991,
          "y": 1.0872049090664804
         },
         {
          "x": 992,
          "y": 1.0871893219656654
         },
         {
          "x": 993,
          "y": 1.0871737981972163
         },
         {
          "x": 994,
          "y": 1.08715833749394
         },
         {
          "x": 995,
          "y": 1.087142939589834
         },
         {
          "x": 996,
          "y": 1.087127604220081
         },
         {
          "x": 997,
          "y": 1.087112331121039
         },
         {
          "x": 998,
          "y": 1.087097120030243
         },
         {
          "x": 999,
          "y": 1.0870819706863912
         },
         {
          "x": 1000,
          "y": 1.0870668828293453
         }
        ]
       },
       "encoding": {
        "x": {
         "field": "x",
         "title": null,
         "type": "quantitative"
        },
        "y": {
         "field": "y",
         "title": null,
         "type": "quantitative"
        }
       },
       "mark": "line",
       "title": "Loss",
       "width": 800
      },
      "image/png": "[encoded data removed]",
      "image/svg+xml": "<?xml version=\"1.0\" encoding=\"utf-8\"?>\n<!DOCTYPE svg PUBLIC \"-//W3C//DTD SVG 1.1//EN\" \"http://www.w3.org/Graphics/SVG/1.1/DTD/svg11.dtd\">\n<svg xmlns=\"http://www.w3.org/2000/svg\" xmlns:xlink=\"http://www.w3.org/1999/xlink\" version=\"1.1\" class=\"marks\" width=\"834\" height=\"244\" viewBox=\"0 0 834 244\"><rect width=\"834\" height=\"244\" fill=\"white\"/><g fill=\"none\" stroke-miterlimit=\"10\" transform=\"translate(27,22)\"><g class=\"mark-group role-frame root\" role=\"graphics-object\" aria-roledescription=\"group mark container\"><g transform=\"translate(0,0)\"><path class=\"background\" aria-hidden=\"true\" d=\"M0.5,0.5h800v200h-800Z\" stroke=\"#ddd\"/><g><g class=\"mark-group role-axis\" aria-hidden=\"true\"><g transform=\"translate(0.5,200.5)\"><path class=\"background\" aria-hidden=\"true\" d=\"M0,0h0v0h0Z\" pointer-events=\"none\"/><g><g class=\"mark-rule role-axis-grid\" pointer-events=\"none\"><line transform=\"translate(0,-200)\" x2=\"0\" y2=\"200\" stroke=\"#ddd\" stroke-width=\"1\" opacity=\"1\"/><line transform=\"translate(40,-200)\" x2=\"0\" y2=\"200\" stroke=\"#ddd\" stroke-width=\"1\" opacity=\"1\"/><line transform=\"translate(80,-200)\" x2=\"0\" y2=\"200\" stroke=\"#ddd\" stroke-width=\"1\" opacity=\"1\"/><line transform=\"translate(120,-200)\" x2=\"0\" y2=\"200\" stroke=\"#ddd\" stroke-width=\"1\" opacity=\"1\"/><line transform=\"translate(160,-200)\" x2=\"0\" y2=\"200\" stroke=\"#ddd\" stroke-width=\"1\" opacity=\"1\"/><line transform=\"translate(200,-200)\" x2=\"0\" y2=\"200\" stroke=\"#ddd\" stroke-width=\"1\" opacity=\"1\"/><line transform=\"translate(240,-200)\" x2=\"0\" y2=\"200\" stroke=\"#ddd\" stroke-width=\"1\" opacity=\"1\"/><line transform=\"translate(280,-200)\" x2=\"0\" y2=\"200\" stroke=\"#ddd\" stroke-width=\"1\" opacity=\"1\"/><line transform=\"translate(320,-200)\" x2=\"0\" y2=\"200\" stroke=\"#ddd\" stroke-width=\"1\" opacity=\"1\"/><line transform=\"translate(360,-200)\" x2=\"0\" y2=\"200\" stroke=\"#ddd\" stroke-width=\"1\" opacity=\"1\"/><line transform=\"translate(400,-200)\" x2=\"0\" y2=\"200\" stroke=\"#ddd\" stroke-width=\"1\" opacity=\"1\"/><line transform=\"translate(440,-200)\" x2=\"0\" y2=\"200\" stroke=\"#ddd\" stroke-width=\"1\" opacity=\"1\"/><line transform=\"translate(480,-200)\" x2=\"0\" y2=\"200\" stroke=\"#ddd\" stroke-width=\"1\" opacity=\"1\"/><line transform=\"translate(520,-200)\" x2=\"0\" y2=\"200\" stroke=\"#ddd\" stroke-width=\"1\" opacity=\"1\"/><line transform=\"translate(560,-200)\" x2=\"0\" y2=\"200\" stroke=\"#ddd\" stroke-width=\"1\" opacity=\"1\"/><line transform=\"translate(600,-200)\" x2=\"0\" y2=\"200\" stroke=\"#ddd\" stroke-width=\"1\" opacity=\"1\"/><line transform=\"translate(640,-200)\" x2=\"0\" y2=\"200\" stroke=\"#ddd\" stroke-width=\"1\" opacity=\"1\"/><line transform=\"translate(680,-200)\" x2=\"0\" y2=\"200\" stroke=\"#ddd\" stroke-width=\"1\" opacity=\"1\"/><line transform=\"translate(720,-200)\" x2=\"0\" y2=\"200\" stroke=\"#ddd\" stroke-width=\"1\" opacity=\"1\"/><line transform=\"translate(760,-200)\" x2=\"0\" y2=\"200\" stroke=\"#ddd\" stroke-width=\"1\" opacity=\"1\"/><line transform=\"translate(800,-200)\" x2=\"0\" y2=\"200\" stroke=\"#ddd\" stroke-width=\"1\" opacity=\"1\"/></g></g><path class=\"foreground\" aria-hidden=\"true\" d=\"\" pointer-events=\"none\" display=\"none\"/></g></g><g class=\"mark-group role-axis\" aria-hidden=\"true\"><g transform=\"translate(0.5,0.5)\"><path class=\"background\" aria-hidden=\"true\" d=\"M0,0h0v0h0Z\" pointer-events=\"none\"/><g><g class=\"mark-rule role-axis-grid\" pointer-events=\"none\"><line transform=\"translate(0,200)\" x2=\"800\" y2=\"0\" stroke=\"#ddd\" stroke-width=\"1\" opacity=\"1\"/><line transform=\"translate(0,144)\" x2=\"800\" y2=\"0\" stroke=\"#ddd\" stroke-width=\"1\" opacity=\"1\"/><line transform=\"translate(0,89)\" x2=\"800\" y2=\"0\" stroke=\"#ddd\" stroke-width=\"1\" opacity=\"1\"/><line transform=\"translate(0,33)\" x2=\"800\" y2=\"0\" stroke=\"#ddd\" stroke-width=\"1\" opacity=\"1\"/></g></g><path class=\"foreground\" aria-hidden=\"true\" d=\"\" pointer-events=\"none\" display=\"none\"/></g></g><g class=\"mark-group role-axis\" role=\"graphics-symbol\" aria-roledescription=\"axis\" aria-label=\"X-axis for a linear scale with values from 0 to 1,000\"><g transform=\"translate(0.5,200.5)\"><path class=\"background\" aria-hidden=\"true\" d=\"M0,0h0v0h0Z\" pointer-events=\"none\"/><g><g class=\"mark-rule role-axis-tick\" pointer-events=\"none\"><line transform=\"translate(0,0)\" x2=\"0\" y2=\"5\" stroke=\"#888\" stroke-width=\"1\" opacity=\"1\"/><line transform=\"translate(40,0)\" x2=\"0\" y2=\"5\" stroke=\"#888\" stroke-width=\"1\" opacity=\"1\"/><line transform=\"translate(80,0)\" x2=\"0\" y2=\"5\" stroke=\"#888\" stroke-width=\"1\" opacity=\"1\"/><line transform=\"translate(120,0)\" x2=\"0\" y2=\"5\" stroke=\"#888\" stroke-width=\"1\" opacity=\"1\"/><line transform=\"translate(160,0)\" x2=\"0\" y2=\"5\" stroke=\"#888\" stroke-width=\"1\" opacity=\"1\"/><line transform=\"translate(200,0)\" x2=\"0\" y2=\"5\" stroke=\"#888\" stroke-width=\"1\" opacity=\"1\"/><line transform=\"translate(240,0)\" x2=\"0\" y2=\"5\" stroke=\"#888\" stroke-width=\"1\" opacity=\"1\"/><line transform=\"translate(280,0)\" x2=\"0\" y2=\"5\" stroke=\"#888\" stroke-width=\"1\" opacity=\"1\"/><line transform=\"translate(320,0)\" x2=\"0\" y2=\"5\" stroke=\"#888\" stroke-width=\"1\" opacity=\"1\"/><line transform=\"translate(360,0)\" x2=\"0\" y2=\"5\" stroke=\"#888\" stroke-width=\"1\" opacity=\"1\"/><line transform=\"translate(400,0)\" x2=\"0\" y2=\"5\" stroke=\"#888\" stroke-width=\"1\" opacity=\"1\"/><line transform=\"translate(440,0)\" x2=\"0\" y2=\"5\" stroke=\"#888\" stroke-width=\"1\" opacity=\"1\"/><line transform=\"translate(480,0)\" x2=\"0\" y2=\"5\" stroke=\"#888\" stroke-width=\"1\" opacity=\"1\"/><line transform=\"translate(520,0)\" x2=\"0\" y2=\"5\" stroke=\"#888\" stroke-width=\"1\" opacity=\"1\"/><line transform=\"translate(560,0)\" x2=\"0\" y2=\"5\" stroke=\"#888\" stroke-width=\"1\" opacity=\"1\"/><line transform=\"translate(600,0)\" x2=\"0\" y2=\"5\" stroke=\"#888\" stroke-width=\"1\" opacity=\"1\"/><line transform=\"translate(640,0)\" x2=\"0\" y2=\"5\" stroke=\"#888\" stroke-width=\"1\" opacity=\"1\"/><line transform=\"translate(680,0)\" x2=\"0\" y2=\"5\" stroke=\"#888\" stroke-width=\"1\" opacity=\"1\"/><line transform=\"translate(720,0)\" x2=\"0\" y2=\"5\" stroke=\"#888\" stroke-width=\"1\" opacity=\"1\"/><line transform=\"translate(760,0)\" x2=\"0\" y2=\"5\" stroke=\"#888\" stroke-width=\"1\" opacity=\"1\"/><line transform=\"translate(800,0)\" x2=\"0\" y2=\"5\" stroke=\"#888\" stroke-width=\"1\" opacity=\"1\"/></g><g class=\"mark-text role-axis-label\" pointer-events=\"none\"><text text-anchor=\"start\" transform=\"translate(0,15)\" font-family=\"sans-serif\" font-size=\"10px\" fill=\"#000\" opacity=\"1\">0</text><text text-anchor=\"middle\" transform=\"translate(40,15)\" font-family=\"sans-serif\" font-size=\"10px\" fill=\"#000\" opacity=\"1\">50</text><text text-anchor=\"middle\" transform=\"translate(80,15)\" font-family=\"sans-serif\" font-size=\"10px\" fill=\"#000\" opacity=\"1\">100</text><text text-anchor=\"middle\" transform=\"translate(120,15)\" font-family=\"sans-serif\" font-size=\"10px\" fill=\"#000\" opacity=\"1\">150</text><text text-anchor=\"middle\" transform=\"translate(160,15)\" font-family=\"sans-serif\" font-size=\"10px\" fill=\"#000\" opacity=\"1\">200</text><text text-anchor=\"middle\" transform=\"translate(200,15)\" font-family=\"sans-serif\" font-size=\"10px\" fill=\"#000\" opacity=\"1\">250</text><text text-anchor=\"middle\" transform=\"translate(240,15)\" font-family=\"sans-serif\" font-size=\"10px\" fill=\"#000\" opacity=\"1\">300</text><text text-anchor=\"middle\" transform=\"translate(280,15)\" font-family=\"sans-serif\" font-size=\"10px\" fill=\"#000\" opacity=\"1\">350</text><text text-anchor=\"middle\" transform=\"translate(320,15)\" font-family=\"sans-serif\" font-size=\"10px\" fill=\"#000\" opacity=\"1\">400</text><text text-anchor=\"middle\" transform=\"translate(360,15)\" font-family=\"sans-serif\" font-size=\"10px\" fill=\"#000\" opacity=\"1\">450</text><text text-anchor=\"middle\" transform=\"translate(400,15)\" font-family=\"sans-serif\" font-size=\"10px\" fill=\"#000\" opacity=\"1\">500</text><text text-anchor=\"middle\" transform=\"translate(440.00000000000006,15)\" font-family=\"sans-serif\" font-size=\"10px\" fill=\"#000\" opacity=\"1\">550</text><text text-anchor=\"middle\" transform=\"translate(480,15)\" font-family=\"sans-serif\" font-size=\"10px\" fill=\"#000\" opacity=\"1\">600</text><text text-anchor=\"middle\" transform=\"translate(520,15)\" font-family=\"sans-serif\" font-size=\"10px\" fill=\"#000\" opacity=\"1\">650</text><text text-anchor=\"middle\" transform=\"translate(560,15)\" font-family=\"sans-serif\" font-size=\"10px\" fill=\"#000\" opacity=\"1\">700</text><text text-anchor=\"middle\" transform=\"translate(600,15)\" font-family=\"sans-serif\" font-size=\"10px\" fill=\"#000\" opacity=\"1\">750</text><text text-anchor=\"middle\" transform=\"translate(640,15)\" font-family=\"sans-serif\" font-size=\"10px\" fill=\"#000\" opacity=\"1\">800</text><text text-anchor=\"middle\" transform=\"translate(680,15)\" font-family=\"sans-serif\" font-size=\"10px\" fill=\"#000\" opacity=\"1\">850</text><text text-anchor=\"middle\" transform=\"translate(720,15)\" font-family=\"sans-serif\" font-size=\"10px\" fill=\"#000\" opacity=\"1\">900</text><text text-anchor=\"middle\" transform=\"translate(760,15)\" font-family=\"sans-serif\" font-size=\"10px\" fill=\"#000\" opacity=\"1\">950</text><text text-anchor=\"end\" transform=\"translate(800,15)\" font-family=\"sans-serif\" font-size=\"10px\" fill=\"#000\" opacity=\"1\">1,000</text></g><g class=\"mark-rule role-axis-domain\" pointer-events=\"none\"><line transform=\"translate(0,0)\" x2=\"800\" y2=\"0\" stroke=\"#888\" stroke-width=\"1\" opacity=\"1\"/></g></g><path class=\"foreground\" aria-hidden=\"true\" d=\"\" pointer-events=\"none\" display=\"none\"/></g></g><g class=\"mark-group role-axis\" role=\"graphics-symbol\" aria-roledescription=\"axis\" aria-label=\"Y-axis for a linear scale with values from 0.0 to 1.8\"><g transform=\"translate(0.5,0.5)\"><path class=\"background\" aria-hidden=\"true\" d=\"M0,0h0v0h0Z\" pointer-events=\"none\"/><g><g class=\"mark-rule role-axis-tick\" pointer-events=\"none\"><line transform=\"translate(0,200)\" x2=\"-5\" y2=\"0\" stroke=\"#888\" stroke-width=\"1\" opacity=\"1\"/><line transform=\"translate(0,144)\" x2=\"-5\" y2=\"0\" stroke=\"#888\" stroke-width=\"1\" opacity=\"1\"/><line transform=\"translate(0,89)\" x2=\"-5\" y2=\"0\" stroke=\"#888\" stroke-width=\"1\" opacity=\"1\"/><line transform=\"translate(0,33)\" x2=\"-5\" y2=\"0\" stroke=\"#888\" stroke-width=\"1\" opacity=\"1\"/></g><g class=\"mark-text role-axis-label\" pointer-events=\"none\"><text text-anchor=\"end\" transform=\"translate(-7,203)\" font-family=\"sans-serif\" font-size=\"10px\" fill=\"#000\" opacity=\"1\">0.0</text><text text-anchor=\"end\" transform=\"translate(-7,147.44444444444443)\" font-family=\"sans-serif\" font-size=\"10px\" fill=\"#000\" opacity=\"1\">0.5</text><text text-anchor=\"end\" transform=\"translate(-7,91.88888888888889)\" font-family=\"sans-serif\" font-size=\"10px\" fill=\"#000\" opacity=\"1\">1.0</text><text text-anchor=\"end\" transform=\"translate(-7,36.33333333333335)\" font-family=\"sans-serif\" font-size=\"10px\" fill=\"#000\" opacity=\"1\">1.5</text></g><g class=\"mark-rule role-axis-domain\" pointer-events=\"none\"><line transform=\"translate(0,200)\" x2=\"0\" y2=\"-200\" stroke=\"#888\" stroke-width=\"1\" opacity=\"1\"/></g></g><path class=\"foreground\" aria-hidden=\"true\" d=\"\" pointer-events=\"none\" display=\"none\"/></g></g><g class=\"mark-line role-mark marks\" role=\"graphics-object\" aria-roledescription=\"line mark container\"><path aria-label=\"x: 1; y: 1.78045873483\" role=\"graphics-symbol\" aria-roledescription=\"line mark\" d=\"M0.8,2.1712516858485964L1.6,30.170208461402524L2.4,30.963190026806387L3.2,31.417132106045266L4,31.82517707907415L4.8,32.216463969239186L5.6000000000000005,32.600707294088835L6.4,32.979787168549926L7.199999999999999,33.35420901062554L8,33.724139967438774L8.799999999999999,34.089676336980524L9.6,34.450897858604975L10.4,34.807879433138545L11.200000000000001,35.16069364235794L12,35.5094112710574L12.8,35.854101463107256L13.600000000000001,36.194831783565576L14.399999999999999,36.53166826897956L15.2,36.86467547095737L16,37.19391649855759L16.8,37.519453058800245L17.599999999999998,37.84134549592131L18.4,38.15965282925446L19.2,38.47443278986476L20,38.78574185595882L20.8,39.093635287126126L21.6,39.39816715745636L22.400000000000002,39.699390387573686L23.200000000000003,39.9973567756311L24,40.292117027303085L24.8,40.58372078481454L25.6,40.87221665504303L26.400000000000002,41.157652236726896L27.200000000000003,41.44007414681445L28.000000000000004,41.71952804598411L28.799999999999997,41.99605866336738L29.599999999999998,42.269709820502484L30.4,42.540524454547544L31.2,42.80854464077875L32,43.073811614401L32.800000000000004,43.336365791693595L33.6,43.59624679051595L34.4,43.85349345019512L35.199999999999996,44.10814385081792L36,44.360235331946505L36.8,44.60980451078016L37.6,44.856887299779636L38.4,45.101518923774805L39.2,45.34373393657194L40,45.583566237078465L40.8,45.82104908496074L41.6,46.056215115851764L42.4,46.289096356122684L43.2,46.5197242372335L44,46.748129609677136L44.800000000000004,46.97434275652876L45.6,47.19839340661607L46.400000000000006,47.42031074732007L47.199999999999996,47.640123437020534L48,47.85785961719642L48.8,48.07354692419346L49.6,48.28721250066823L50.4,48.49888300672034L51.2,48.708584630722385L52,48.91634309985611L52.800000000000004,49.12218369036645L53.6,49.326131237539414L54.400000000000006,49.52821014541471L55.2,49.7284443962404L56.00000000000001,49.92685755967747L56.8,50.12347280176277L57.599999999999994,50.31831289363671L58.4,50.51140022004375L59.199999999999996,50.702756787612444L60,50.89240423292119L60.8,51.080363830356724L61.6,51.26665649977158L62.4,51.45130281394621L63.2,51.63432300586106L64,51.81573697578645L64.8,51.995564298192406L65.60000000000001,52.17382422848633L66.4,52.350535709582324L67.2,52.525717378307554L68,52.699387571650114L68.8,52.87156433285261L69.6,53.04226541735717L70.39999999999999,53.21150829860484L71.2,53.379310173693554L72,53.545687968900204L72.8,53.71065834506825L73.6,53.87423770286739L74.4,54.03644218792625L75.2,54.19728769584366L76,54.35678987708057L76.8,54.5149641417368L77.60000000000001,54.671825664215405L78.4,54.82738938777754L79.2,54.9816700289915L80,55.13468208207779L80.80000000000001,55.28643982315409L81.6,55.4369573143823L82.39999999999999,55.58624840802033L83.2,55.73432675038135L84,55.88120578570235L84.8,56.02689875992599L85.6,56.171418724395835L86.4,56.314778539469266L87.2,56.45699087804865L88,56.59806822903468L88.8,56.73802290070182L89.60000000000001,56.87686702399937L90.4,57.01461255577986L91.2,57.15127128195627L92,57.286854820590015L92.80000000000001,57.42137462491152L93.60000000000001,57.55484198627523L94.39999999999999,57.687268037050664L95.19999999999999,57.818663753451126L96,57.949039958300986L96.8,58.07840732374474L97.6,58.20677637389722L98.4,58.3341574874384L99.2,58.46056090015252L100,58.58599670741391L100.8,58.71047486662056L101.6,58.83400519957669L102.4,58.95659739482557L103.2,59.0782610099339L104,59.19900547372865L104.80000000000001,59.31884008848798L105.60000000000001,59.43777403208686L106.4,59.55581636009908L107.2,59.67297600785544L108,59.78926179246129L108.80000000000001,59.904682414772246L109.60000000000001,60.01924646133014L110.4,60.132962406260425L111.20000000000002,60.24583861313071L112.00000000000001,60.35788333677306L112.79999999999998,60.46910472506903L113.6,60.57951082070012L114.39999999999999,60.68910956286289L115.19999999999999,60.79790878895073L115.99999999999999,60.905916236202295L116.8,61.013139543317884L117.6,61.11958625204388L118.39999999999999,61.22526380872677L119.19999999999999,61.33017956583693L120,61.43434078346273L120.8,61.537754630776156L121.6,61.640428187470334L122.39999999999999,61.74236844516909L123.2,61.84358230881026L124,61.944076598002226L124.8,62.043858048355084L125.6,62.14293331278642L126.4,62.241308962802776L127.2,62.33899148975699L128,62.435987306081756L128.8,62.532302746500726L129.6,62.62794406921677L130.4,62.722917457078275L131.20000000000002,62.817229018724L132,62.910884789707076L132.8,63.003890733597665L133.6,63.09625274306639L134.4,63.18797664094775L135.20000000000002,63.279068181283634L136,63.369533050348956L136.8,63.45937686765786L137.6,63.54860518695234L138.39999999999998,63.63722349717318L139.2,63.72523722341328L140,63.812651727853954L140.79999999999998,63.899472310685134L141.6,63.98570421100842L142.4,64.07135260772523L143.2,64.15642262040832L144,64.24091931015874L144.79999999999998,64.32484768044723L145.6,64.4082126779417L146.4,64.49101919331962L147.2,64.57327206206645L148,64.65497606526085L148.8,64.73613593034553L149.6,64.81675633188561L150.4,64.89684189231343L151.2,64.97639718266099L152,65.0554267232798L152.8,65.13393498454877L153.6,65.21192638756949L154.4,65.28940530485056L155.20000000000002,65.36637606097983L156,65.44284293328585L156.8,65.51881015248762L157.6,65.5942819033344L158.4,65.669262325234L159.20000000000002,65.74375551287113L160,65.81776551681575L160.8,65.89129634412068L161.60000000000002,65.96435195891009L162.4,66.03693628295804L163.2,66.10905319625766L164,66.18070653758097L164.79999999999998,66.25190010502966L165.6,66.32263765657693L166.4,66.39292291060082L167.2,66.46275954640844L168,66.53215120475228L168.79999999999998,66.60110148833816L169.6,66.66961396232483L170.4,66.73769215481569L171.2,66.80533955734302L172,66.87255962534438L172.8,66.93935577863088L173.6,67.00573140184936L174.4,67.07168984493596L175.2,67.13723442356383L176,67.20236841958254L176.8,67.26709508145197L177.6,67.33141762466846L178.4,67.39533923218491L179.20000000000002,67.45886305482416L180,67.52199221168618L180.8,67.58472979054882L181.6,67.64707884826248L182.4,67.70904241113888L183.20000000000002,67.77062347533378L184,67.83182500722403L184.8,67.89264994377835L185.60000000000002,67.95310119292357L186.4,68.01318163390448L187.20000000000002,68.07289411763837L188,68.13224146706463L188.79999999999998,68.19122647748885L189.6,68.2498519169219L190.39999999999998,68.30812052641377L191.2,68.36603502038292L192,68.42359808694007L192.79999999999998,68.4808123882079L193.6,68.53768056063565L194.4,68.59420521530907L195.2,68.65038893825619L196,68.70623429074827L196.8,68.76174380959641L197.6,68.81692000744415L198.4,68.87176537305547L199.2,68.92628237159875L200,68.98047344492684L200.8,69.03434101185269L201.6,69.0878874684216L202.4,69.14111518817889L203.2,69.19402652243424L204,69.24662380052231L204.8,69.29890933005929L205.6,69.3508853971959L206.4,69.40255426686741L207.20000000000002,69.45391818303904L208,69.50497936894908L208.8,69.5557400273477L209.60000000000002,69.60620234073289L210.4,69.65636847158298L211.20000000000002,69.70624056258612L212,69.7558207368661L212.8,69.80511109820546L213.60000000000002,69.8541137312656L214.4,69.90283070180321L215.20000000000002,69.95126405688465L216,69.99941582509668L216.8,70.04728801675448L217.60000000000002,70.09488262410721L218.4,70.14220162153985L219.20000000000002,70.18924696577369L220.00000000000003,70.23602059606277L220.8,70.28252443438828L221.60000000000002,70.32876038565057L222.40000000000003,70.37473033785795L223.20000000000002,70.42043616231362L224.00000000000003,70.46587971379934L224.8,70.51106283075754L225.59999999999997,70.55598733547039L226.39999999999998,70.60065503423641L227.2,70.6450677175453L227.99999999999997,70.68922716025003L228.79999999999998,70.7331351217367L229.6,70.77679334609232L230.39999999999998,70.82020356227024L231.2,70.86336748425342L231.99999999999997,70.90628681121581L232.79999999999998,70.9489632276812L233.6,70.99139840368048L234.39999999999998,71.03359399490623L235.2,71.07555164286626L236,71.11727297503406L236.79999999999998,71.15875960499811L237.6,71.20001313260902L238.39999999999998,71.2410351441247L239.2,71.28182721235387L240,71.32239089679733L240.79999999999998,71.36272774378813L241.6,71.40283928662909L242.4,71.44272704572936L243.2,71.4823925287389L244,71.521837230681L244.79999999999998,71.56106263408368L245.6,71.60007020910923L246.4,71.63886141368164L247.2,71.67743769361341L248,71.71580048272983L248.8,71.75395120299225L249.6,71.7918912646197L250.4,71.82962206620893L251.2,71.86714499485308L252,71.90446142625866L252.8,71.94157272486142L253.6,71.97848024394065L254.4,72.01518532573171L255.20000000000002,72.05168930153796L256,72.08799349184065L256.8,72.12409920640785L257.6,72.16000774440158L258.40000000000003,72.19572039448445L259.2,72.23123843492402L260,72.26656313369699L260.8,72.301695748591L261.6,72.33663752730604L262.40000000000003,72.3713897075545L263.2,72.40595351715943L264,72.44033017415256L264.8,72.47452088687044L265.6,72.50852685404968L266.40000000000003,72.54234926492096L267.2,72.5759892993023L268,72.60944812769065L268.8,72.64272691135277L269.6,72.67582680241512L270.40000000000003,72.70874894395219L271.20000000000005,72.74149447007447L272,72.77406450601495L272.8,72.80646016821466L273.6,72.83868256440729L274.40000000000003,72.87073279370284L275.2,72.90261194667022L276,72.93432110541906L276.79999999999995,72.96586134368026L277.59999999999997,72.9972337268859L278.4,73.02843931224831L279.2,73.05947914883775L280,73.09035427765957L280.79999999999995,73.12106573173087L281.59999999999997,73.15161453615498L282.4,73.18200170819682L283.2,73.21222825735603L284,73.24229518543991L284.8,73.27220348663543L285.59999999999997,73.30195414758035L286.4,73.33154814743357L287.2,73.3609864579448L288,73.39027004352323L288.8,73.41939986130568L289.59999999999997,73.44837686122368L290.4,73.4772019860701L291.2,73.50587617156499L292,73.53440034642055L292.8,73.56277543240523L293.6,73.59100234440771L294.4,73.61908199049958L295.2,73.64701527199745L296,73.67480308352485L296.8,73.70244631307261L297.6,73.72994584205948L298.4,73.75730254539101L299.2,73.78451729151942L300,73.8115909425008L300.8,73.83852435405332L301.6,73.8653183756141L302.4,73.89197385039523L303.2,73.91849161544005L304,73.94487250167798L304.8,73.97111733397892L305.6,73.99722693120754L306.4,74.0232021062766L307.2,74.04904366619938L308,74.0747524121425L308.8,74.10032913947717L309.6,74.12577463783062L310.40000000000003,74.15108969113626L311.2,74.17627507768447L312,74.20133157017126L312.8,74.22625993574803L313.6,74.25106093606941L314.40000000000003,74.27573532734189L315.2,74.30028386037063L316,74.32470728060696L316.8,74.34900632819456L317.6,74.37318173801555L318.40000000000003,74.39723423973612L319.20000000000005,74.42116455785126L320,74.44497341172966L320.8,74.46866151565763L321.6,74.49222957888288L322.40000000000003,74.5156783056576L323.20000000000005,74.53900839528123L324,74.56222054214285L324.8,74.58531543576315L325.59999999999997,74.60829376083555L326.4,74.63115619726766L327.2,74.65390342022155L328,74.67653610015404L328.79999999999995,74.69905490285649L329.59999999999997,74.72146048949433L330.4,74.74375351664577L331.2,74.76593463634067L332,74.78800449609844L332.8,74.80996373896609L333.59999999999997,74.83181300355555L334.4,74.85355292408069L335.2,74.87518413039422L336,74.8967072480236L336.8,74.91812289820739L337.59999999999997,74.93943169793064L338.4,74.96063425996023L339.2,74.9817311928795L340,75.00272310112317L340.8,75.0236105850113L341.59999999999997,75.04439424078309L342.4,75.06507466063073L343.2,75.08565243273213L344,75.10612814128423L344.8,75.12650236653515L345.6,75.14677568481684L346.4,75.16694866857654L347.2,75.18702188640877L348,75.20699590308627L348.8,75.22687127959135L349.6,75.24664857314625L350.4,75.26632833724362L351.2,75.28591112167685L352,75.30539747256944L352.8,75.32478793240483L353.6,75.34408304005547L354.4,75.36328333081211L355.2,75.38238933641172L356,75.40140158506678L356.8,75.4203206014927L357.6,75.43914690693605L358.40000000000003,75.457881019202L359.2,75.47652345268176L360,75.49507471837957L360.8,75.51353532393928L361.6,75.53190577367135L362.40000000000003,75.55018656857885L363.2,75.56837820638374L364,75.58648118155227L364.8,75.60449598532092L365.6,75.62242310572165L366.40000000000003,75.64026302760692L367.2,75.6580162326745L368,75.67568319949218L368.8,75.69326440352222L369.6,75.7107603171453L370.40000000000003,75.72817140968465L371.20000000000005,75.74549814742959L372,75.7627409936594L372.8,75.77990040866594L373.6,75.79697684977744L374.40000000000003,75.81397077138077L375.2,75.83088262494451L376,75.847712859041L376.79999999999995,75.86446191936889L377.59999999999997,75.88113024877492L378.4,75.89771828727596L379.2,75.9142264720803L380,75.93065523760971L380.79999999999995,75.94700501551964L381.59999999999997,75.96327623472135L382.4,75.97946932140196L383.2,75.99558469904562L384,76.01162278845352L384.8,76.02758400776469L385.59999999999997,76.04346877247553L386.4,76.05927749546024L387.2,76.07501058699026L388,76.09066845475385L388.8,76.10625150387558L389.59999999999997,76.12176013693559L390.4,76.13719475398833L391.2,76.15255575258178L392,76.16784352777606L392.8,76.18305847216178L393.6,76.19820097587868L394.4,76.21327142663368L395.2,76.22827020971887L396,76.24319770802961L396.8,76.25805430208206L397.6,76.27284037003082L398.4,76.28755628768647L399.2,76.30220242853258L400,76.3167791637431L400.8,76.33128686219915L401.6,76.34572589050592L402.4,76.36009661300922L403.2,76.37439939181228L404,76.38863458679165L404.8,76.40280255561403L405.6,76.41690365375186L406.4,76.43093823449966L407.2,76.4449066489895L408,76.45880924620701L408.8,76.47264637300675L409.6,76.48641837412764L410.40000000000003,76.50012559220815L411.2,76.51376836780184L412,76.52734703939173L412.8,76.5408619434059L413.6,76.55431341423179L414.40000000000003,76.56770178423085L415.2,76.58102738375334L416,76.59429054115252L416.8,76.60749158279884L417.6,76.62063083309438L418.40000000000003,76.63370861448658L419.20000000000005,76.64672524748222L420,76.65968105066132L420.8,76.6725763406909L421.6,76.68541143233809L422.40000000000003,76.69818663848412L423.20000000000005,76.71090227013728L424,76.72355863644637L424.8,76.73615604471362L425.6,76.74869480040793L426.40000000000003,76.76117520717747L427.20000000000005,76.77359756686263L428,76.78596217950884L428.8,76.79826934337872L429.6,76.81051935496508L430.40000000000003,76.82271250900286L431.20000000000005,76.8348490984816L432,76.84692941465754L432.8,76.85895374706587L433.6,76.87092238353208L434.40000000000003,76.88283561018478L435.20000000000005,76.89469371146672L436.00000000000006,76.9064969701466L436.8,76.9182456673309L437.6,76.92994008247504L438.40000000000003,76.94158049339515L439.20000000000005,76.95316717627887L440.00000000000006,76.96470040569703L440.8,76.97618045461438L441.6,76.98760759440096L442.40000000000003,76.99898209484263L443.20000000000005,77.01030422415226L444.00000000000006,77.02157424898036L444.80000000000007,77.03279243442569L445.6,77.04395904404598L446.40000000000003,77.05507433986811L447.20000000000005,77.06613858239902L448.00000000000006,77.07715203063566L448.80000000000007,77.08811494207521L449.6,77.09902757272556L450.4,77.10989017711516L451.19999999999993,77.12070300830301L451.99999999999994,77.1314663178887L452.79999999999995,77.14218035602212L453.59999999999997,77.15284537141338L454.4,77.16346161134224L455.19999999999993,77.17402932166817L455.99999999999994,77.18454874683943L456.79999999999995,77.19502012990263L457.59999999999997,77.20544371251232L458.4,77.21581973494007L459.2,77.22614843608397L459.99999999999994,77.23643005347738L460.79999999999995,77.24666482329849L461.59999999999997,77.25685298037888L462.4,77.26699475821299L463.2,77.27709038896641L463.99999999999994,77.28714010348523L464.79999999999995,77.29714413130444L465.59999999999997,77.30710270065669L466.4,77.31701603848103L467.2,77.32688437043112L468,77.33670792088402L468.79999999999995,77.34648691294872L469.59999999999997,77.35622156847386L470.4,77.36591210805655L471.2,77.37555875105049L472,77.38516171557404L472.79999999999995,77.39472121851824L473.59999999999997,77.40423747555509L474.4,77.4137107011452L475.2,77.42314110854582L476,77.4325289098188L476.79999999999995,77.44187431583825L477.59999999999997,77.45117753629813L478.4,77.4604387797203L479.2,77.4696582534617L480,77.47883616372218L480.79999999999995,77.48797271555186L481.59999999999997,77.49706811285861L482.4,77.50612255841531L483.2,77.51513625386748L484,77.52410939974017L484.8,77.5330421954453L485.59999999999997,77.54193483928904L486.4,77.5507875284786L487.2,77.55960045912929L488,77.56837382627187L488.8,77.57710782385911L489.59999999999997,77.58580264477271L490.4,77.59445848083055L491.2,77.60307552279282L492,77.61165396036938L492.8,77.62019398222604L493.6,77.6286957759914L494.4,77.63715952826334L495.2,77.64558542461562L496,77.65397364960424L496.8,77.66232438677419L497.6,77.67063781866537L498.4,77.67891412681949L499.2,77.68715349178579L500,77.69535609312778L500.8,77.70352210942934L501.6,77.71165171830052L502.4,77.71974509638417L503.2,77.72780241936165L504,77.735823861959L504.8,77.74380959795299L505.6,77.75175980017688L506.4,77.75967464052647L507.2,77.76755428996584L508,77.77539891853331L508.8,77.78320869534696L509.6,77.79098378861067L510.40000000000003,77.79872436561956L511.2,77.80643059276568L512,77.81410263554369L512.8,77.82174065855642L513.6,77.82934482552038L514.4,77.83691529927104L515.2,77.84445224176856L516,77.85195581410316L516.8000000000001,77.85942617650025L517.6,77.866863488326L518.4,77.87426790809258L519.2,77.88163959346318L520,77.8889787012576L520.8000000000001,77.89628538745713L521.6,77.90355980720985L522.4,77.91080211483565L523.2,77.91801246383132L524,77.92519100687561L524.8000000000001,77.93233789583398L525.6,77.93945328176413L526.4,77.94653731492022L527.2,77.95359014475834L528,77.96061191994097L528.8000000000001,77.96760278834198L529.6,77.9745628970515L530.4,77.98149239238032L531.2,77.98839141986514L532,77.99526012427268L532.8000000000001,78.00209864960472L533.6,78.00890713910266L534.4,78.01568573525198L535.2,78.02243457978693L536,78.02915381369499L536.8000000000001,78.0358435772212L537.6,78.04250400987291L538.4000000000001,78.04913525042426L539.2,78.05573743692L540,78.06231070668058L540.8000000000001,78.06885519630602L541.6,78.07537104168037L542.4000000000001,78.08185837797606L543.2,78.0883173396579L544,78.09474806048765L544.8000000000001,78.10115067352781L545.6,78.10752531114622L546.4000000000001,78.11387210501974L547.2,78.12019118613873L548,78.12648268481092L548.8000000000001,78.1327467306655L549.6,78.13898345265709L550.4,78.1451929790699L551.1999999999999,78.15137543752142L552,78.15753095496672L552.8,78.16365965770196L553.5999999999999,78.16976167136855L554.4,78.17583712095693L555.1999999999999,78.18188613081043L556,78.18790882462905L556.8,78.19390532547301L557.5999999999999,78.199875755767L558.4,78.20582023730358L559.1999999999999,78.21173889124682L560,78.21763183813604L560.8,78.2234991978898L561.5999999999999,78.22934108980893L562.4,78.2351576325806L563.1999999999999,78.24094894428173L564,78.24671514238256L564.8,78.25245634375013L565.6,78.25817266465182L566.4,78.26386422075893L567.1999999999999,78.26953112715005L568,78.27517349831446L568.8,78.28079144815565L569.6,78.2863850899946L570.4,78.29195453657312L571.1999999999999,78.29749990005752L572,78.30302129204154L572.8,78.30851882354976L573.6,78.31399260504107L574.4,78.31944274641161L575.1999999999999,78.32486935699833L576,78.33027254558205L576.8,78.33565242039049L577.6,78.3410090891019L578.4,78.34634265884766L579.1999999999999,78.35165323621584L580,78.35694092725409L580.8,78.36220583747276L581.6,78.36744807184807L582.4,78.37266773482507L583.1999999999999,78.3778649303206L584,78.38303976172662L584.8,78.38819233191268L585.6,78.3933227432293L586.4,78.39843109751095L587.2,78.40351749607855L588,78.4085820397429L588.8,78.41362482880729L589.6,78.4186459630703L590.4,78.42364554182896L591.2,78.42862366388133L592,78.43358042752932L592.8,78.43851593058169L593.6,78.44343027035667L594.4,78.44832354368477L595.2,78.45319584691148L596,78.45804727590019L596.8,78.46287792603455L597.6,78.46768789222156L598.4,78.47247726889395L599.2,78.47724615001297L600,78.481994629071L600.8,78.48672279909421L601.6,78.49143075264521L602.4,78.49611858182546L603.2,78.50078637827802L604,78.5054342331901L604.8,78.51006223729537L605.6,78.51467048087697L606.4,78.51925905376945L607.2,78.52382804536167L608,78.52837754459925L608.8,78.53290763998663L609.6,78.53741841959013L610.4,78.54190997103991L611.2,78.54638238153251L612,78.55083573783337L612.8,78.55527012627921L613.6,78.5596856327801L614.4,78.56408234282222L615.2,78.56846034147L616,78.57281971336836L616.8000000000001,78.57716054274526L617.6,78.58148291341374L618.4,78.5857869087745L619.2,78.59007261181785L620,78.59434010512612L620.8000000000001,78.59858947087601L621.6,78.60282079084051L622.4,78.60703414639146L623.2,78.61122961850154L624,78.61540728774649L624.8000000000001,78.61956723430727L625.6,78.62370953797229L626.4,78.62783427813949L627.2,78.63194153381852L628,78.63603138363267L628.8000000000001,78.64010390582135L629.6,78.6441591782418L630.4,78.64819727837127L631.2,78.65221828330948L632,78.65622226978L632.8000000000001,78.66020931413263L633.6,78.66417949234565L634.4,78.66813288002741L635.2,78.67206955241859L636,78.67598958439423L636.8000000000001,78.67989305046545L637.6,78.68378002478164L638.4000000000001,78.68765058113235L639.2,78.69150479294929L640,78.6953427333081L640.8000000000001,78.69916447493036L641.6,78.70297009018554L642.4000000000001,78.70675965109297L643.2,78.71053322932352L644,78.7142908962014L644.8000000000001,78.71803272270654L645.6,78.72175877947578L646.4000000000001,78.72546913680509L647.2,78.72916386465138L648,78.73284303263421L648.8000000000001,78.7365067100376L649.6,78.740154965812L650.4,78.74378786857572L651.1999999999999,78.74740548661707L652,78.75100788789592L652.8,78.7545951400455L653.5999999999999,78.75816731037419L654.4,78.76172446586709L655.1999999999999,78.76526667318791L656,78.76879399868058L656.8,78.77230650837099L657.5999999999999,78.77580426796878L658.4,78.7792873428687L659.1999999999999,78.78275579815262L660,78.78620969859102L660.8,78.7896491086448L661.5999999999999,78.79307409246653L662.4,78.79648471390254L663.1999999999999,78.79988103649427L664,78.80326312348001L664.8,78.80663103779628L665.6,78.80998484207976L666.4,78.81332459866861L667.1999999999999,78.81665036960402L668,78.81996221663208L668.8,78.82326020120492L669.6,78.82654438448265L670.4,78.8298148273344L671.1999999999999,78.83307159034045L672,78.8363147337934L672.8,78.8395443176995L673.6,78.84276040178055L674.4,78.8459630454752L675.1999999999999,78.84915230794039L676,78.85232824805281L676.8,78.8554909244106L677.6,78.8586403953343L678.4,78.86177671886907L679.1999999999999,78.86489995278527L680,78.8680101545806L680.8,78.87110738148091L681.6,78.87419169044225L682.4,78.87726313815173L683.1999999999999,78.8803217810292L684,78.8833676752285L684.8,78.886400876639L685.6,78.8894214408869L686.4,78.89242942333648L687.2,78.89542487909158L688,78.89840786299686L688.8,78.90137842963935L689.6,78.90433663334949L690.4,78.9072825282027L691.2,78.91021616802045L692,78.91313760637179L692.8,78.91604689657461L693.6,78.91894409169686L694.4,78.92182924455786L695.2,78.92470240772955L696,78.92756363353786L696.8,78.93041297406396L697.6,78.93325048114535L698.4,78.93607620637731L699.2,78.93889020111409L700,78.94169251647003L700.8,78.94448320332089L701.6,78.9472623123052L702.4,78.95002989382525L703.2,78.95278599804828L704,78.95553067490795L704.8,78.95826397410521L705.6,78.96098594510985L706.4,78.9636966371612L707.2,78.96639609926976L708,78.96908438021826L708.8,78.97176152856251L709.6,78.97442759263294L710.4,78.97708262053558L711.2,78.97972666015313L712,78.98235975914625L712.8,78.98498196495464L713.6,78.98759332479814L714.4,78.99019388567767L715.2,78.99278369437674L716,78.99536279746219L716.8000000000001,78.99793124128544L717.6,79.00048907198357L718.4,79.00303633548023L719.2,79.00557307748724L720,79.00809934350497L720.8000000000001,79.01061517882377L721.6,79.01312062852519L722.4,79.01561573748266L723.2,79.01810055036272L724,79.02057511162607L724.8000000000001,79.02303946552868L725.6,79.02549365612263L726.4,79.02793772725725L727.2,79.03037172258014L728,79.03279568553812L728.8000000000001,79.0352096593783L729.6,79.03761368714915L730.4,79.04000781170126L731.2,79.04239207568857L732,79.04476652156922L732.8000000000001,79.04713119160662L733.6,79.04948612787031L734.4,79.05183137223706L735.2,79.05416696639162L736,79.05649295182813L736.8000000000001,79.05880936985041L737.6,79.06111626157339L738.4000000000001,79.06341366792408L739.2,79.06570162964215L740,79.06798018728114L740.8000000000001,79.0702493812093L741.6,79.07250925161048L742.4000000000001,79.07475983848515L743.2,79.07700118165124L744,79.07923332074493L744.8000000000001,79.08145629522183L745.6,79.08367014435775L746.4000000000001,79.08587490724928L747.2,79.08807062281522L748,79.09025732979703L748.8000000000001,79.09243506676007L749.6,79.09460387209408L750.4,79.09676378401427L751.1999999999999,79.0989148405622L752,79.10105707960669L752.8,79.10319053884429L753.5999999999999,79.10531525580076L754.4,79.10743126783122L755.1999999999999,79.10953861212153L756,79.11163732568892L756.8,79.11372744538279L757.5999999999999,79.1158090078855L758.4,79.1178820497134L759.1999999999999,79.11994660721737L760,79.12200271658392L760.8,79.12405041383552L761.5999999999999,79.12608973483222L762.4,79.12812071527159L763.1999999999999,79.13014339068991L764,79.13215779646315L764.8,79.1341639678072L765.6,79.13616193977933L766.4,79.13815174727841L767.1999999999999,79.14013342504585L768,79.14210700766662L768.8,79.14407252956967L769.6,79.14603002502896L770.4,79.14797952816379L771.1999999999999,79.14992107294012L772,79.15185469317106L772.8,79.15378042251737L773.6,79.1556982944886L774.4,79.15760834244368L775.1999999999999,79.15951059959146L776,79.1614050989918L776.8,79.16329187355602L777.6,79.16517095604763L778.4,79.16704237908321L779.1999999999999,79.16890617513299L780,79.17076237652165L780.8,79.1726110154289L781.6,79.17445212389028L782.4,79.17628573379787L783.1999999999999,79.17811187690089L784,79.17993058480654L784.8,79.18174188898047L785.6,79.18354582074767L786.4,79.18534241129302L787.2,79.18713169166203L788,79.18891369276157L788.8,79.19068844536035L789.6,79.19245598008966L790.4,79.19421632744425L791.2,79.19596951778264L792,79.19771558132804L792.8,79.19945454816886L793.6,79.20118644825939L794.4,79.20291131142041L795.2,79.20462916734002L796,79.20634004557401L796.8,79.20804397554654L797.6,79.2097409865512L798.4,79.21143110775077L799.2,79.21311436817875L800,79.21479079673941\" stroke=\"#4c78a8\" stroke-width=\"2\"/></g><g class=\"mark-group role-title\"><g transform=\"translate(400,-17)\"><path class=\"background\" aria-hidden=\"true\" d=\"M0,0h0v0h0Z\" pointer-events=\"none\"/><g><g class=\"mark-text role-title-text\" role=\"graphics-symbol\" aria-roledescription=\"title\" aria-label=\"Title text 'Loss'\" pointer-events=\"none\"><text text-anchor=\"middle\" transform=\"translate(0,10)\" font-family=\"sans-serif\" font-size=\"13px\" font-weight=\"bold\" fill=\"#000\" opacity=\"1\">Loss</text></g></g><path class=\"foreground\" aria-hidden=\"true\" d=\"\" pointer-events=\"none\" display=\"none\"/></g></g></g><path class=\"foreground\" aria-hidden=\"true\" d=\"\" display=\"none\"/></g></g></g></svg>\n",
      "text/plain": [
       "@vlplot(\n",
       "    width=800,\n",
       "    title=\"Loss\",\n",
       "    mark=\"line\",\n",
       "    encoding={\n",
       "        x={\n",
       "            type=\"quantitative\",\n",
       "            field=\"x\",\n",
       "            title=nothing\n",
       "        },\n",
       "        y={\n",
       "            type=\"quantitative\",\n",
       "            field=\"y\",\n",
       "            title=nothing\n",
       "        }\n",
       "    },\n",
       "    data={\n",
       "        values=...\n",
       "    }\n",
       ")"
      ]
     },
     "metadata": {},
     "output_type": "display_data"
    }
   ],
   "source": [
    "@vlplot(:line, x = {collect(1:1000), type=\"quantitative\"}, y={losses, type=\"quantitative\"}, width=800, title=\"Loss\")"
   ]
  },
  {
   "cell_type": "markdown",
   "metadata": {},
   "source": [
    "Now, we can do this for all hospitals, and compare the different benchmark models and their prediction errors. \n",
    "\n",
    "For this, we first initialize the parameters `betas` and `lrbetas` for both the increment model and the standard linear regression model estimated via classical maximum likelihood. "
   ]
  },
  {
   "cell_type": "code",
   "execution_count": 37,
   "metadata": {},
   "outputs": [],
   "source": [
    "nhospitals = length(hospital_list)\n",
    "\n",
    "betas = collect([0.0; 0.0; 0.0] for i in 1:nhospitals)\n",
    "lrbetas = collect([0.0; 0.0; 0.0] for i in 1:nhospitals);"
   ]
  },
  {
   "cell_type": "markdown",
   "metadata": {},
   "source": [
    "For each model, we also initialize an array for the predictions from this model for each hospital.  "
   ]
  },
  {
   "cell_type": "code",
   "execution_count": 38,
   "metadata": {},
   "outputs": [],
   "source": [
    "prederrs_mean = Array{Union{Float64, Missing}}(missing, nhospitals)\n",
    "prederrs_modmean = Array{Union{Float64, Missing}}(missing, nhospitals)\n",
    "prederrs_zero = Array{Union{Float64, Missing}}(missing, nhospitals)\n",
    "prederrs_linreg = Array{Union{Float64, Missing}}(missing, nhospitals)\n",
    "prederrs_incrmod = Array{Union{Float64, Missing}}(missing, nhospitals);"
   ]
  },
  {
   "cell_type": "markdown",
   "metadata": {},
   "source": [
    "Now, we optimize our model for all hospitals and compare the predictions to the baseline models."
   ]
  },
  {
   "cell_type": "code",
   "execution_count": 39,
   "metadata": {},
   "outputs": [
    {
     "name": "stdout",
     "output_type": "stream",
     "text": [
      "currently at hospital 20...\n"
     ]
    },
    {
     "name": "stdout",
     "output_type": "stream",
     "text": [
      "currently at hospital 40...\n"
     ]
    },
    {
     "name": "stdout",
     "output_type": "stream",
     "text": [
      "currently at hospital 60...\n"
     ]
    },
    {
     "name": "stdout",
     "output_type": "stream",
     "text": [
      "currently at hospital 80...\n"
     ]
    },
    {
     "name": "stdout",
     "output_type": "stream",
     "text": [
      "currently at hospital 100...\n"
     ]
    },
    {
     "name": "stdout",
     "output_type": "stream",
     "text": [
      "currently at hospital 120...\n"
     ]
    },
    {
     "name": "stdout",
     "output_type": "stream",
     "text": [
      "currently at hospital 140...\n"
     ]
    },
    {
     "name": "stdout",
     "output_type": "stream",
     "text": [
      "currently at hospital 160...\n"
     ]
    },
    {
     "name": "stdout",
     "output_type": "stream",
     "text": [
      "currently at hospital 180...\n"
     ]
    },
    {
     "name": "stdout",
     "output_type": "stream",
     "text": [
      "currently at hospital 200...\n"
     ]
    },
    {
     "name": "stdout",
     "output_type": "stream",
     "text": [
      "currently at hospital 220...\n"
     ]
    },
    {
     "name": "stdout",
     "output_type": "stream",
     "text": [
      "currently at hospital 240...\n"
     ]
    },
    {
     "name": "stdout",
     "output_type": "stream",
     "text": [
      "currently at hospital 260...\n"
     ]
    },
    {
     "name": "stdout",
     "output_type": "stream",
     "text": [
      "currently at hospital 280...\n"
     ]
    },
    {
     "name": "stdout",
     "output_type": "stream",
     "text": [
      "currently at hospital 300...\n"
     ]
    },
    {
     "name": "stdout",
     "output_type": "stream",
     "text": [
      "currently at hospital 320...\n"
     ]
    },
    {
     "name": "stdout",
     "output_type": "stream",
     "text": [
      "currently at hospital 340...\n"
     ]
    },
    {
     "name": "stdout",
     "output_type": "stream",
     "text": [
      "currently at hospital 360...\n"
     ]
    },
    {
     "name": "stdout",
     "output_type": "stream",
     "text": [
      "currently at hospital 380...\n"
     ]
    },
    {
     "name": "stdout",
     "output_type": "stream",
     "text": [
      "currently at hospital 400...\n"
     ]
    },
    {
     "name": "stdout",
     "output_type": "stream",
     "text": [
      "currently at hospital 420...\n"
     ]
    },
    {
     "name": "stdout",
     "output_type": "stream",
     "text": [
      "currently at hospital 440...\n"
     ]
    },
    {
     "name": "stdout",
     "output_type": "stream",
     "text": [
      "currently at hospital 460...\n"
     ]
    },
    {
     "name": "stdout",
     "output_type": "stream",
     "text": [
      "currently at hospital 480...\n"
     ]
    },
    {
     "name": "stdout",
     "output_type": "stream",
     "text": [
      "currently at hospital 500...\n"
     ]
    },
    {
     "name": "stdout",
     "output_type": "stream",
     "text": [
      "currently at hospital 520...\n"
     ]
    },
    {
     "name": "stdout",
     "output_type": "stream",
     "text": [
      "currently at hospital 540...\n"
     ]
    },
    {
     "name": "stdout",
     "output_type": "stream",
     "text": [
      "currently at hospital 560...\n"
     ]
    },
    {
     "name": "stdout",
     "output_type": "stream",
     "text": [
      "currently at hospital 580...\n"
     ]
    },
    {
     "name": "stdout",
     "output_type": "stream",
     "text": [
      "currently at hospital 600...\n"
     ]
    },
    {
     "name": "stdout",
     "output_type": "stream",
     "text": [
      "currently at hospital 620...\n"
     ]
    },
    {
     "name": "stdout",
     "output_type": "stream",
     "text": [
      "currently at hospital 640...\n"
     ]
    },
    {
     "name": "stdout",
     "output_type": "stream",
     "text": [
      "currently at hospital 660...\n"
     ]
    },
    {
     "name": "stdout",
     "output_type": "stream",
     "text": [
      "currently at hospital 680...\n"
     ]
    },
    {
     "name": "stdout",
     "output_type": "stream",
     "text": [
      "currently at hospital 700...\n"
     ]
    },
    {
     "name": "stdout",
     "output_type": "stream",
     "text": [
      "currently at hospital 720...\n"
     ]
    },
    {
     "name": "stdout",
     "output_type": "stream",
     "text": [
      "currently at hospital 740...\n"
     ]
    },
    {
     "name": "stdout",
     "output_type": "stream",
     "text": [
      "currently at hospital 760...\n"
     ]
    },
    {
     "name": "stdout",
     "output_type": "stream",
     "text": [
      "currently at hospital 780...\n"
     ]
    },
    {
     "name": "stdout",
     "output_type": "stream",
     "text": [
      "currently at hospital 800...\n"
     ]
    },
    {
     "name": "stdout",
     "output_type": "stream",
     "text": [
      "currently at hospital 820...\n"
     ]
    },
    {
     "name": "stdout",
     "output_type": "stream",
     "text": [
      "currently at hospital 840...\n"
     ]
    },
    {
     "name": "stdout",
     "output_type": "stream",
     "text": [
      "currently at hospital 860...\n"
     ]
    },
    {
     "name": "stdout",
     "output_type": "stream",
     "text": [
      "currently at hospital 880...\n"
     ]
    },
    {
     "name": "stdout",
     "output_type": "stream",
     "text": [
      "currently at hospital 900...\n"
     ]
    },
    {
     "name": "stdout",
     "output_type": "stream",
     "text": [
      "currently at hospital 920...\n"
     ]
    },
    {
     "name": "stdout",
     "output_type": "stream",
     "text": [
      "currently at hospital 940...\n"
     ]
    },
    {
     "name": "stdout",
     "output_type": "stream",
     "text": [
      "currently at hospital 960...\n"
     ]
    },
    {
     "name": "stdout",
     "output_type": "stream",
     "text": [
      "currently at hospital 980...\n"
     ]
    },
    {
     "name": "stdout",
     "output_type": "stream",
     "text": [
      "currently at hospital 1000...\n"
     ]
    },
    {
     "name": "stdout",
     "output_type": "stream",
     "text": [
      "currently at hospital 1020...\n"
     ]
    },
    {
     "name": "stdout",
     "output_type": "stream",
     "text": [
      "currently at hospital 1040...\n"
     ]
    },
    {
     "name": "stdout",
     "output_type": "stream",
     "text": [
      "currently at hospital 1060...\n"
     ]
    },
    {
     "name": "stdout",
     "output_type": "stream",
     "text": [
      "currently at hospital 1080...\n"
     ]
    },
    {
     "name": "stdout",
     "output_type": "stream",
     "text": [
      "currently at hospital 1100...\n"
     ]
    },
    {
     "name": "stdout",
     "output_type": "stream",
     "text": [
      "currently at hospital 1120...\n"
     ]
    },
    {
     "name": "stdout",
     "output_type": "stream",
     "text": [
      "currently at hospital 1140...\n"
     ]
    },
    {
     "name": "stdout",
     "output_type": "stream",
     "text": [
      "currently at hospital 1160...\n"
     ]
    },
    {
     "name": "stdout",
     "output_type": "stream",
     "text": [
      "currently at hospital 1180...\n"
     ]
    },
    {
     "name": "stdout",
     "output_type": "stream",
     "text": [
      "currently at hospital 1200...\n"
     ]
    },
    {
     "name": "stdout",
     "output_type": "stream",
     "text": [
      "currently at hospital 1220...\n"
     ]
    },
    {
     "name": "stdout",
     "output_type": "stream",
     "text": [
      "currently at hospital 1240...\n"
     ]
    },
    {
     "name": "stdout",
     "output_type": "stream",
     "text": [
      "currently at hospital 1260...\n"
     ]
    },
    {
     "name": "stdout",
     "output_type": "stream",
     "text": [
      "currently at hospital 1280...\n",
      " 77.075455 seconds (1.21 G allocations: 59.196 GiB, 15.16% gc time, 0.11% compilation time)\n"
     ]
    }
   ],
   "source": [
    "@time for i = 1:nhospitals\n",
    "    # get the covariates and info about missing reports\n",
    "    y, z, r = hospital_list[i][1:end-1,:currentcases], hospital_list[i][1:end-1,:incidences], hospital_list[i][1:end-1,:reported]\n",
    "    last_currentcases, lastreported = hospital_list[i][end,:currentcases], hospital_list[i][end,:reported]\n",
    "\n",
    "    # run the gradient descent via automatic differentiation/differentiable programming\n",
    "    beta = betas[i]\n",
    "    for epoch=1:150\n",
    "        curgrad = gradient(arg -> loss(y, z, r, arg), beta)\n",
    "        beta .-= [0.001, 0.01, 0.001] .* curgrad[1]\n",
    "    end\n",
    "    betas[i] = beta\n",
    "\n",
    "    # calculate last increment based on the held-out final time point \n",
    "    lastincr = last_currentcases - y[end]\n",
    "\n",
    "    # calculate the prediction of the fitted models for this last increment\n",
    "    incrmod_pred = beta[1] + beta[2] * y[end] + beta[3] * z[end]\n",
    "\n",
    "    # calculate the prediction of the mean and modified mean models\n",
    "    mean_pred = mean(diff(y))\n",
    "    modmean_pred = y[end] == 0.0 ? 0.0 : mean_pred\n",
    "\n",
    "    # coarse heuristic: if the fit goes wrong, use the mean model prediction as fallback\n",
    "    if isnan(incrmod_pred) || any(abs.(beta) .> 10)\n",
    "        incrmod_pred = mean_pred\n",
    "    end\n",
    "\n",
    "    # fit standard linear regression model using the last-observation-carried-forward imputation in the :currentcases\n",
    "    slrdf = DataFrame(dy = diff(y), y = y[2:end], z = z[2:end])\n",
    "    ols = lm(@formula(dy ~ y + z), slrdf) # standard estimation using maximum likelihood\n",
    "    lrbeta = coef(ols) \n",
    "    lrbetas[i] = lrbeta\n",
    "    # calculate prediction of the standard linear regression model for the last increment \n",
    "    linreg_pred = lrbeta[1] + lrbeta[2] * y[end] + lrbeta[3] * z[end]\n",
    "\n",
    "    # include in the prediction error array only if the value at the last time point has actually been reported\n",
    "    if lastreported \n",
    "        prederrs_mean[i] = (lastincr - mean_pred)^2\n",
    "        prederrs_modmean[i] = (lastincr - modmean_pred)^2\n",
    "        prederrs_zero[i] = (lastincr - 0)^2\n",
    "        prederrs_linreg[i] = (lastincr - linreg_pred)^2\n",
    "        prederrs_incrmod[i] = (lastincr - incrmod_pred)^2\n",
    "    end\n",
    "    if i%40 == 0\n",
    "        println(\"currently at hospital $i...\")\n",
    "    end\n",
    "end"
   ]
  },
  {
   "cell_type": "markdown",
   "metadata": {},
   "source": [
    "We can now combine the prediction errors for all models in a dataframe and calculate summary statistics. "
   ]
  },
  {
   "cell_type": "code",
   "execution_count": 40,
   "metadata": {},
   "outputs": [
    {
     "data": {
      "text/html": [
       "<table class=\"data-frame\"><thead><tr><th></th><th>Model</th><th>SSE</th><th>MSE</th><th>FirstQuartile</th><th>Median</th><th>ThirdQuartile</th><th>Maximum</th></tr><tr><th></th><th>String</th><th>Float64</th><th>Float64</th><th>Float64</th><th>Float64</th><th>Float64</th><th>Float64</th></tr></thead><tbody><p>5 rows × 7 columns</p><tr><th>1</th><td>meanmodel</td><td>89.2388</td><td>0.072</td><td>0.0</td><td>0.0</td><td>0.002</td><td>9.0</td></tr><tr><th>2</th><td>modmeanmodel</td><td>84.3421</td><td>0.069</td><td>0.0</td><td>0.0</td><td>0.0</td><td>9.0</td></tr><tr><th>3</th><td>zeromodel</td><td>86.0</td><td>0.07</td><td>0.0</td><td>0.0</td><td>0.0</td><td>9.0</td></tr><tr><th>4</th><td>linregmodel</td><td>181.068</td><td>0.147</td><td>0.0</td><td>0.001</td><td>0.015</td><td>30.227</td></tr><tr><th>5</th><td>incrmodel</td><td>74.7457</td><td>0.061</td><td>0.0</td><td>0.0</td><td>0.001</td><td>6.079</td></tr></tbody></table>"
      ],
      "text/latex": [
       "\\begin{tabular}{r|ccccccc}\n",
       "\t& Model & SSE & MSE & FirstQuartile & Median & ThirdQuartile & Maximum\\\\\n",
       "\t\\hline\n",
       "\t& String & Float64 & Float64 & Float64 & Float64 & Float64 & Float64\\\\\n",
       "\t\\hline\n",
       "\t1 & meanmodel & 89.2388 & 0.072 & 0.0 & 0.0 & 0.002 & 9.0 \\\\\n",
       "\t2 & modmeanmodel & 84.3421 & 0.069 & 0.0 & 0.0 & 0.0 & 9.0 \\\\\n",
       "\t3 & zeromodel & 86.0 & 0.07 & 0.0 & 0.0 & 0.0 & 9.0 \\\\\n",
       "\t4 & linregmodel & 181.068 & 0.147 & 0.0 & 0.001 & 0.015 & 30.227 \\\\\n",
       "\t5 & incrmodel & 74.7457 & 0.061 & 0.0 & 0.0 & 0.001 & 6.079 \\\\\n",
       "\\end{tabular}\n"
      ],
      "text/plain": [
       "\u001b[1m5×7 DataFrame\u001b[0m\n",
       "\u001b[1m Row \u001b[0m│\u001b[1m Model        \u001b[0m\u001b[1m SSE      \u001b[0m\u001b[1m MSE     \u001b[0m\u001b[1m FirstQuartile \u001b[0m\u001b[1m Median  \u001b[0m\u001b[1m ThirdQuartile \u001b[0m\u001b[1m\u001b[0m ⋯\n",
       "\u001b[1m     \u001b[0m│\u001b[90m String       \u001b[0m\u001b[90m Float64  \u001b[0m\u001b[90m Float64 \u001b[0m\u001b[90m Float64       \u001b[0m\u001b[90m Float64 \u001b[0m\u001b[90m Float64       \u001b[0m\u001b[90m\u001b[0m ⋯\n",
       "─────┼──────────────────────────────────────────────────────────────────────────\n",
       "   1 │ meanmodel      89.2388    0.072            0.0    0.0            0.002  ⋯\n",
       "   2 │ modmeanmodel   84.3421    0.069            0.0    0.0            0.0\n",
       "   3 │ zeromodel      86.0       0.07             0.0    0.0            0.0\n",
       "   4 │ linregmodel   181.068     0.147            0.0    0.001          0.015\n",
       "   5 │ incrmodel      74.7457    0.061            0.0    0.0            0.001  ⋯\n",
       "\u001b[36m                                                                1 column omitted\u001b[0m"
      ]
     },
     "metadata": {},
     "output_type": "display_data"
    }
   ],
   "source": [
    "nonmissinginds = findall(x -> !ismissing(x), prederrs_mean)\n",
    "prederrs_df = DataFrame(hospitals = nonmissinginds,\n",
    "                meanmodel = Float64.(prederrs_mean[nonmissinginds]),\n",
    "                modmeanmodel = Float64.(prederrs_modmean[nonmissinginds]),\n",
    "                zeromodel = Float64.(prederrs_zero[nonmissinginds]),\n",
    "                linregmodel = Float64.(prederrs_linreg[nonmissinginds]),\n",
    "                incrmodel = Float64.(prederrs_incrmod[nonmissinginds])\n",
    ")\n",
    "models = names(prederrs_df[!,2:end])\n",
    "summed_squared_errors = sum.(eachcol(prederrs_df[!,2:end]))\n",
    "mses = round.(sum.(eachcol(prederrs_df[!,2:end]))./(nrow(prederrs_df)), digits=3)\n",
    "medians = round.(median.(eachcol(prederrs_df[!,2:end])), digits=3)\n",
    "firstquartile = round.(quantile.(eachcol(prederrs_df[!,2:end]), 0.25), digits=3)\n",
    "thirdquartile = round.(quantile.(eachcol(prederrs_df[!,2:end]), 0.75), digits=3)\n",
    "maxvals = round.(maximum.(eachcol(prederrs_df[!,2:end])), digits=3)\n",
    "summary_df = DataFrame(Model = models, \n",
    "                    SSE = summed_squared_errors, MSE = mses, \n",
    "                    FirstQuartile = firstquartile,\n",
    "                    Median = medians, \n",
    "                    ThirdQuartile = thirdquartile,\n",
    "                    Maximum = maxvals\n",
    ")"
   ]
  },
  {
   "cell_type": "markdown",
   "metadata": {},
   "source": [
    "## Recovering censored values "
   ]
  },
  {
   "cell_type": "markdown",
   "metadata": {},
   "source": [
    "First, we need to find all hospitals with complete reporting: "
   ]
  },
  {
   "cell_type": "code",
   "execution_count": 41,
   "metadata": {},
   "outputs": [
    {
     "data": {
      "text/plain": [
       "463-element Vector{Int64}:\n",
       "    2\n",
       "    5\n",
       "   13\n",
       "   17\n",
       "   19\n",
       "   20\n",
       "   23\n",
       "   26\n",
       "   27\n",
       "   34\n",
       "    ⋮\n",
       " 1257\n",
       " 1259\n",
       " 1260\n",
       " 1265\n",
       " 1268\n",
       " 1269\n",
       " 1272\n",
       " 1275\n",
       " 1279"
      ]
     },
     "metadata": {},
     "output_type": "display_data"
    }
   ],
   "source": [
    "allreported_inds = findall(i -> sum(hospital_list[i][!,:notreported])== 0, 1:nhospitals)"
   ]
  },
  {
   "cell_type": "markdown",
   "metadata": {},
   "source": [
    "Now, we can randomly censor different fractions of reports, fir all prediction models, and look at the corresponding prediction. \n",
    "\n",
    "We load some convenience functions for that first: "
   ]
  },
  {
   "cell_type": "code",
   "execution_count": 42,
   "metadata": {},
   "outputs": [
    {
     "data": {
      "text/plain": [
       "fitmodels_lov (generic function with 1 method)"
      ]
     },
     "metadata": {},
     "output_type": "display_data"
    }
   ],
   "source": [
    "include(string(@__DIR__, \"/../src/evaluate.jl\"))\n",
    "include(string(@__DIR__, \"/../src/lov.jl\"))"
   ]
  },
  {
   "cell_type": "code",
   "execution_count": 43,
   "metadata": {},
   "outputs": [
    {
     "name": "stderr",
     "output_type": "stream",
     "text": [
      "┌ Info: Starting scenario with 0.1 percent random censoring\n",
      "└ @ Main /Users/imbi-mac-102/Desktop/TalkReisensburg/DifferentiableProgrammingForStatisticalModeling-main/notebooks/DifferentiableProgrammingDemo.ipynb:7\n",
      "┌ Info: currently at hospital 45...\n",
      "└ @ Main /Users/imbi-mac-102/Desktop/TalkReisensburg/DifferentiableProgrammingForStatisticalModeling-main/notebooks/DifferentiableProgrammingDemo.ipynb:44\n"
     ]
    },
    {
     "name": "stderr",
     "output_type": "stream",
     "text": [
      "┌ Info: currently at hospital 123...\n",
      "└ @ Main /Users/imbi-mac-102/Desktop/TalkReisensburg/DifferentiableProgrammingForStatisticalModeling-main/notebooks/DifferentiableProgrammingDemo.ipynb:44\n",
      "┌ Info: currently at hospital 164...\n",
      "└ @ Main /Users/imbi-mac-102/Desktop/TalkReisensburg/DifferentiableProgrammingForStatisticalModeling-main/notebooks/DifferentiableProgrammingDemo.ipynb:44\n"
     ]
    },
    {
     "ename": "InterruptException",
     "evalue": "InterruptException:",
     "output_type": "error",
     "traceback": [
      "InterruptException:\n",
      "\n",
      "Stacktrace:\n",
      "  [1] Pullback\n",
      "    @ ~/Desktop/TalkReisensburg/DifferentiableProgrammingForStatisticalModeling-main/notebooks/DifferentiableProgrammingDemo.ipynb:22 [inlined]\n",
      "  [2] (::typeof(∂(loss)))(Δ::Float64)\n",
      "    @ Zygote ~/.julia/packages/Zygote/zowrf/src/compiler/interface2.jl:0\n",
      "  [3] Pullback\n",
      "    @ ~/Desktop/TalkReisensburg/DifferentiableProgrammingForStatisticalModeling-main/src/lov.jl:8 [inlined]\n",
      "  [4] (::typeof(∂(λ)))(Δ::Float64)\n",
      "    @ Zygote ~/.julia/packages/Zygote/zowrf/src/compiler/interface2.jl:0\n",
      "  [5] #41\n",
      "    @ ~/.julia/packages/Zygote/zowrf/src/compiler/interface.jl:41 [inlined]\n",
      "  [6] gradient\n",
      "    @ ~/.julia/packages/Zygote/zowrf/src/compiler/interface.jl:59 [inlined]\n",
      "  [7] fit_incr_model_lov(y::Vector{Float64}, z::Vector{Float64}, r::BitVector, predtraj_mean::Vector{Float64})\n",
      "    @ Main ~/Desktop/TalkReisensburg/DifferentiableProgrammingForStatisticalModeling-main/src/lov.jl:8\n",
      "  [8] fitmodels_lov(hospital_list::Vector{Any}, i::Int64, nreps::Int64, mod_r::var\"#44#45\"{Float64})\n",
      "    @ Main ~/Desktop/TalkReisensburg/DifferentiableProgrammingForStatisticalModeling-main/src/lov.jl:113\n",
      "  [9] top-level scope\n",
      "    @ ~/Desktop/TalkReisensburg/DifferentiableProgrammingForStatisticalModeling-main/notebooks/DifferentiableProgrammingDemo.ipynb:33\n",
      " [10] eval\n",
      "    @ ./boot.jl:360 [inlined]\n",
      " [11] include_string(mapexpr::typeof(REPL.softscope), mod::Module, code::String, filename::String)\n",
      "    @ Base ./loading.jl:1116\n",
      " [12] #invokelatest#2\n",
      "    @ ./essentials.jl:708 [inlined]\n",
      " [13] invokelatest\n",
      "    @ ./essentials.jl:706 [inlined]\n",
      " [14] (::VSCodeServer.var\"#160#161\"{VSCodeServer.NotebookRunCellArguments, String})()\n",
      "    @ VSCodeServer ~/.vscode/extensions/julialang.language-julia-1.6.24/scripts/packages/VSCodeServer/src/serve_notebook.jl:19\n",
      " [15] withpath(f::VSCodeServer.var\"#160#161\"{VSCodeServer.NotebookRunCellArguments, String}, path::String)\n",
      "    @ VSCodeServer ~/.vscode/extensions/julialang.language-julia-1.6.24/scripts/packages/VSCodeServer/src/repl.jl:184\n",
      " [16] notebook_runcell_request(conn::VSCodeServer.JSONRPC.JSONRPCEndpoint{Base.PipeEndpoint, Base.PipeEndpoint}, params::VSCodeServer.NotebookRunCellArguments)\n",
      "    @ VSCodeServer ~/.vscode/extensions/julialang.language-julia-1.6.24/scripts/packages/VSCodeServer/src/serve_notebook.jl:13\n",
      " [17] dispatch_msg(x::VSCodeServer.JSONRPC.JSONRPCEndpoint{Base.PipeEndpoint, Base.PipeEndpoint}, dispatcher::VSCodeServer.JSONRPC.MsgDispatcher, msg::Dict{String, Any})\n",
      "    @ VSCodeServer.JSONRPC ~/.vscode/extensions/julialang.language-julia-1.6.24/scripts/packages/JSONRPC/src/typed.jl:67\n",
      " [18] serve_notebook(pipename::String, outputchannel_logger::Base.CoreLogging.SimpleLogger; crashreporting_pipename::String)\n",
      "    @ VSCodeServer ~/.vscode/extensions/julialang.language-julia-1.6.24/scripts/packages/VSCodeServer/src/serve_notebook.jl:136\n",
      " [19] top-level scope\n",
      "    @ ~/.vscode/extensions/julialang.language-julia-1.6.24/scripts/notebook/notebook.jl:32\n",
      " [20] include(mod::Module, _path::String)\n",
      "    @ Base ./Base.jl:386\n",
      " [21] exec_options(opts::Base.JLOptions)\n",
      "    @ Base ./client.jl:285\n",
      " [22] _start()\n",
      "    @ Base ./client.jl:485"
     ]
    }
   ],
   "source": [
    "# initialize array to save prediction errors\n",
    "prederrs_df_all = []\n",
    "\n",
    "# fit prediction models (all local coefficients) \n",
    "for frac_missing in [0.1, 0.25, 0.5, 0.75] \n",
    "\n",
    "    @info \"Starting scenario with $(frac_missing) percent random censoring\"\n",
    "\n",
    "    betas = collect([0.0; 0.0; 0.0] for ind in 1:length(allreported_inds));\n",
    "    lrbetas = collect([0.0; 0.0; 0.0] for ind in 1:length(allreported_inds));\n",
    "\n",
    "    prederrs_mean = []\n",
    "    prederrs_modmean = []\n",
    "    prederrs_zero = []\n",
    "    prederrs_lr = []\n",
    "    prederrs_incr = []\n",
    "\n",
    "    Random.seed!(42);\n",
    "    nreps = 100\n",
    "\n",
    "    for ind in 1:length(allreported_inds)\n",
    "        i = allreported_inds[ind]\n",
    "        true_y, z, r = hospital_list[i][:,:currentcases], hospital_list[i][:,:incidences], hospital_list[i][:,:reported]\n",
    "        \n",
    "        prederr_incr = 0.0\n",
    "        prederr_lr = 0.0\n",
    "        prederr_zero = 0.0\n",
    "        prederr_mean = 0.0\n",
    "        prederr_modmean = 0.0\n",
    "        \n",
    "        mod_r = modify_r_wrapper(frac_missing)\n",
    "\n",
    "        prederr_mean, prederr_modmean, prederr_zero, prederr_lr, prederr_incr, betas_reps, lrbetas_reps = fitmodels_lov(hospital_list, i, nreps, mod_r)\n",
    "\n",
    "        betas[ind] = [mean(collect(betas_reps[rep][1] for rep in 1:nreps)); mean(collect(betas_reps[rep][2] for rep in 1:nreps)); mean(collect(betas_reps[rep][3] for rep in 1:nreps))]\n",
    "        lrbetas[ind] = [mean(collect(lrbetas_reps[rep][1] for rep in 1:nreps)); mean(collect(lrbetas_reps[rep][2] for rep in 1:nreps)); mean(collect(lrbetas_reps[rep][3] for rep in 1:nreps))]\n",
    "        \n",
    "        push!(prederrs_mean, prederr_mean/nreps)\n",
    "        push!(prederrs_modmean, prederr_modmean/nreps)\n",
    "        push!(prederrs_zero, prederr_zero/nreps)\n",
    "        push!(prederrs_lr, prederr_lr/nreps)\n",
    "        push!(prederrs_incr, prederr_incr/nreps)\n",
    "        if ind % 20 == 0\n",
    "            @info \"currently at hospital $i...\"\n",
    "        end\n",
    "    end\n",
    "\n",
    "    prederrs_df = create_prederrs_df(prederrs_mean, prederrs_modmean, prederrs_zero, prederrs_lr, prederrs_incr)\n",
    "    push!(prederrs_df_all, prederrs_df)\n",
    "end"
   ]
  },
  {
   "cell_type": "markdown",
   "metadata": {},
   "source": [
    "To save some time, this has been pre-run and the output saved, we will load it now to proceed: "
   ]
  },
  {
   "cell_type": "code",
   "execution_count": 44,
   "metadata": {},
   "outputs": [
    {
     "data": {
      "text/plain": [
       "4-element Vector{Any}:\n",
       " \u001b[1m463×6 DataFrame\u001b[0m\n",
       "\u001b[1m Row \u001b[0m│\u001b[1m hospitals \u001b[0m\u001b[1m meanmodel  \u001b[0m\u001b[1m modmeanmodel \u001b[0m\u001b[1m zeromodel  \u001b[0m\u001b[1m linregmodel \u001b[0m\u001b[1m incrmodel\u001b[0m ⋯\n",
       "\u001b[1m     \u001b[0m│\u001b[90m Int64     \u001b[0m\u001b[90m Float64    \u001b[0m\u001b[90m Float64      \u001b[0m\u001b[90m Float64    \u001b[0m\u001b[90m Float64     \u001b[0m\u001b[90m Float64  \u001b[0m ⋯\n",
       "─────┼──────────────────────────────────────────────────────────────────────────\n",
       "   1 │         1  0.00505596    0.00509359  0.00507246   0.00642406  0.0045795 ⋯\n",
       "   2 │         2  0.0           0.0         0.0          0.0         0.0\n",
       "   3 │         3  0.00432713    0.00427389  0.00434783   0.00549594  0.0039592\n",
       "   4 │         4  0.0853478     0.0829677   0.0873913    0.13319     0.0778724\n",
       "   5 │         5  0.0           0.0         0.0          0.0         0.0       ⋯\n",
       "   6 │         6  0.0242986     0.0240558   0.0243478    0.0333819   0.0219075\n",
       "   7 │         7  0.00275362    0.00275362  0.00275362   0.00440538  0.0025207\n",
       "   8 │         8  0.00652174    0.00652174  0.00652174   0.00837991  0.0056166\n",
       "  ⋮  │     ⋮          ⋮            ⋮            ⋮            ⋮           ⋮     ⋱\n",
       " 457 │       457  0.0           0.0         0.0          0.0         0.0       ⋯\n",
       " 458 │       458  0.00985507    0.00985507  0.00985507   0.0192475   0.0077648\n",
       " 459 │       459  0.0146405     0.014346    0.0150725    0.0164315   0.0120592\n",
       " 460 │       460  0.00363491    0.00357378  0.00376812   0.0043083   0.0031657\n",
       " 461 │       461  0.15953       0.15953     0.164058     0.157873    0.15953   ⋯\n",
       " 462 │       462  0.988654      0.988654    1.01         1.14172     0.988654\n",
       " 463 │       463  0.401014      0.398594    0.401594     0.475712    0.357558\n",
       "\u001b[36m                                                   1 column and 448 rows omitted\u001b[0m\n",
       " \u001b[1m463×6 DataFrame\u001b[0m\n",
       "\u001b[1m Row \u001b[0m│\u001b[1m hospitals \u001b[0m\u001b[1m meanmodel  \u001b[0m\u001b[1m modmeanmodel \u001b[0m\u001b[1m zeromodel  \u001b[0m\u001b[1m linregmodel \u001b[0m\u001b[1m incrmodel\u001b[0m ⋯\n",
       "\u001b[1m     \u001b[0m│\u001b[90m Int64     \u001b[0m\u001b[90m Float64    \u001b[0m\u001b[90m Float64      \u001b[0m\u001b[90m Float64    \u001b[0m\u001b[90m Float64     \u001b[0m\u001b[90m Float64  \u001b[0m ⋯\n",
       "─────┼──────────────────────────────────────────────────────────────────────────\n",
       "   1 │         1  0.0139291     0.0140299   0.014058      0.0176249  0.0128932 ⋯\n",
       "   2 │         2  0.0           0.0         0.0           0.0        0.0\n",
       "   3 │         3  0.0132086     0.0130774   0.0133333     0.0179457  0.0112232\n",
       "   4 │         4  0.223819      0.217213    0.228841      0.362785   0.200704\n",
       "   5 │         5  0.0           0.0         0.0           0.0        0.0       ⋯\n",
       "   6 │         6  0.0639142     0.0632183   0.0642029     0.101296   0.0552855\n",
       "   7 │         7  0.0073913     0.0073913   0.0073913     0.0139639  0.0063850\n",
       "   8 │         8  0.0152174     0.0152174   0.0152174     0.0210889  0.0130656\n",
       "  ⋮  │     ⋮          ⋮            ⋮            ⋮            ⋮           ⋮     ⋱\n",
       " 457 │       457  0.0           0.0         0.0           0.0        0.0       ⋯\n",
       " 458 │       458  0.0224638     0.0224638   0.0224638     0.0393363  0.0178586\n",
       " 459 │       459  0.0422899     0.041402    0.0434783     0.0485862  0.0340484\n",
       " 460 │       460  0.00921771    0.00906831  0.00956522    0.0117759  0.0080725\n",
       " 461 │       461  0.422751      0.422751    0.441014      0.410352   0.422751  ⋯\n",
       " 462 │       462  2.67833       2.67833     2.71174       3.07161    2.67833\n",
       " 463 │       463  0.910947      0.904108    0.915072      1.08371    0.970949\n",
       "\u001b[36m                                                   1 column and 448 rows omitted\u001b[0m\n",
       " \u001b[1m463×6 DataFrame\u001b[0m\n",
       "\u001b[1m Row \u001b[0m│\u001b[1m hospitals \u001b[0m\u001b[1m meanmodel \u001b[0m\u001b[1m modmeanmodel \u001b[0m\u001b[1m zeromodel \u001b[0m\u001b[1m linregmodel \u001b[0m\u001b[1m incrmodel \u001b[0m\n",
       "\u001b[1m     \u001b[0m│\u001b[90m Int64     \u001b[0m\u001b[90m Float64   \u001b[0m\u001b[90m Float64      \u001b[0m\u001b[90m Float64   \u001b[0m\u001b[90m Float64     \u001b[0m\u001b[90m Float64   \u001b[0m\n",
       "─────┼───────────────────────────────────────────────────────────────────────\n",
       "   1 │         1  0.0388253     0.039164   0.0391304    0.057147   0.0338759\n",
       "   2 │         2  0.0           0.0        0.0          0.0        0.0\n",
       "   3 │         3  0.0271492     0.0268732  0.0273913    0.0421352  0.0214583\n",
       "   4 │         4  0.597388      0.582087   0.614783     1.1844     0.461517\n",
       "   5 │         5  0.0           0.0        0.0          0.0        0.0\n",
       "   6 │         6  0.175192      0.173315   0.175942     0.363944   0.139794\n",
       "   7 │         7  0.0142029     0.0142029  0.0142029    0.0698474  0.0115923\n",
       "   8 │         8  0.0414493     0.0414493  0.0414493    0.0611954  0.0311803\n",
       "  ⋮  │     ⋮          ⋮           ⋮            ⋮           ⋮           ⋮\n",
       " 457 │       457  0.0           0.0        0.0          0.0        0.0\n",
       " 458 │       458  0.0527536     0.0527536  0.0527536    0.148333   0.0347428\n",
       " 459 │       459  0.143011      0.140196   0.147826     0.194353   0.0939199\n",
       " 460 │       460  0.0302392     0.0299345  0.0315942    0.0447842  0.0216628\n",
       " 461 │       461  1.14783       1.14783    1.20246      1.10984    1.14783\n",
       " 462 │       462  6.28541       6.28541    6.41014      7.60222    6.28541\n",
       " 463 │       463  1.94337       1.92982    1.97217      2.40456    2.06001\n",
       "\u001b[36m                                                             448 rows omitted\u001b[0m\n",
       " \u001b[1m463×6 DataFrame\u001b[0m\n",
       "\u001b[1m Row \u001b[0m│\u001b[1m hospitals \u001b[0m\u001b[1m meanmodel  \u001b[0m\u001b[1m modmeanmodel \u001b[0m\u001b[1m zeromodel  \u001b[0m\u001b[1m linregmodel \u001b[0m\u001b[1m incrmodel\u001b[0m ⋯\n",
       "\u001b[1m     \u001b[0m│\u001b[90m Int64     \u001b[0m\u001b[90m Float64    \u001b[0m\u001b[90m Float64      \u001b[0m\u001b[90m Float64    \u001b[0m\u001b[90m Float64     \u001b[0m\u001b[90m Float64  \u001b[0m ⋯\n",
       "─────┼──────────────────────────────────────────────────────────────────────────\n",
       "   1 │         1   0.0967619     0.0982285   0.0984058     0.16454    0.072167 ⋯\n",
       "   2 │         2   0.0           0.0         0.0           0.0        0.0\n",
       "   3 │         3   0.0676604     0.067261    0.0686957     0.122486   0.043170\n",
       "   4 │         4   1.42378       1.40049     1.4729        6.41145    0.989568\n",
       "   5 │         5   0.0           0.0         0.0           0.0        0.0      ⋯\n",
       "   6 │         6   0.381511      0.377795    0.384348      2.73146    0.268469\n",
       "   7 │         7   0.0227536     0.0227536   0.0227536   186.729      0.016276\n",
       "   8 │         8   0.103913      0.103913    0.103913    189.656      0.05066\n",
       "  ⋮  │     ⋮          ⋮            ⋮            ⋮            ⋮           ⋮     ⋱\n",
       " 457 │       457   0.0           0.0         0.0           0.0        0.0      ⋯\n",
       " 458 │       458   0.12087       0.12087     0.12087       3.66226    0.072037\n",
       " 459 │       459   0.463448      0.456027    0.479855     12.7924     0.189709\n",
       " 460 │       460   0.0897909     0.0893548   0.093913      0.148471   0.043060\n",
       " 461 │       461   3.48841       3.48841     3.7058        3.24718    3.48841  ⋯\n",
       " 462 │       462  11.6228       11.6228     11.931        13.8381    11.6228\n",
       " 463 │       463   3.9572        3.93368     4.04087       5.33555    3.9572\n",
       "\u001b[36m                                                   1 column and 448 rows omitted\u001b[0m"
      ]
     },
     "metadata": {},
     "output_type": "display_data"
    }
   ],
   "source": [
    "prederrs_dict = load(string(@__DIR__, \"/../results/randomcensoring_prederrs.jld2\"))\n",
    "prederrs_df_all = prederrs_dict[\"all_prederrs_dfs\"]"
   ]
  },
  {
   "cell_type": "markdown",
   "metadata": {},
   "source": [
    "From that, we can create a dataframe of summary statistics: "
   ]
  },
  {
   "cell_type": "code",
   "execution_count": 45,
   "metadata": {},
   "outputs": [
    {
     "data": {
      "text/html": [
       "<table class=\"data-frame\"><thead><tr><th></th><th>Scenario</th><th>Model</th><th>MSE</th><th>FirstQuartile</th><th>Median</th><th>ThirdQuartile</th><th>Maximum</th></tr><tr><th></th><th>String</th><th>String</th><th>Float64</th><th>Float64</th><th>Float64</th><th>Float64</th><th>Float64</th></tr></thead><tbody><p>20 rows × 7 columns</p><tr><th>1</th><td>1</td><td>Mean model</td><td>0.042</td><td>0.002</td><td>0.011</td><td>0.035</td><td>2.821</td></tr><tr><th>2</th><td>1</td><td>Modified mean model</td><td>0.042</td><td>0.002</td><td>0.011</td><td>0.035</td><td>2.821</td></tr><tr><th>3</th><td>1</td><td>Zero model</td><td>0.043</td><td>0.002</td><td>0.011</td><td>0.035</td><td>2.848</td></tr><tr><th>4</th><td>1</td><td>Linear regression</td><td>0.06</td><td>0.003</td><td>0.015</td><td>0.049</td><td>3.949</td></tr><tr><th>5</th><td>1</td><td>Increment model</td><td>0.043</td><td>0.002</td><td>0.009</td><td>0.03</td><td>2.821</td></tr><tr><th>6</th><td>2</td><td>Mean model</td><td>0.116</td><td>0.006</td><td>0.031</td><td>0.097</td><td>6.55</td></tr><tr><th>7</th><td>2</td><td>Modified mean model</td><td>0.115</td><td>0.006</td><td>0.03</td><td>0.094</td><td>6.55</td></tr><tr><th>8</th><td>2</td><td>Zero model</td><td>0.117</td><td>0.006</td><td>0.032</td><td>0.098</td><td>6.578</td></tr><tr><th>9</th><td>2</td><td>Linear regression</td><td>0.179</td><td>0.007</td><td>0.046</td><td>0.144</td><td>10.034</td></tr><tr><th>10</th><td>2</td><td>Increment model</td><td>0.13</td><td>0.004</td><td>0.024</td><td>0.085</td><td>6.55</td></tr><tr><th>11</th><td>3</td><td>Mean model</td><td>0.334</td><td>0.016</td><td>0.088</td><td>0.274</td><td>19.565</td></tr><tr><th>12</th><td>3</td><td>Modified mean model</td><td>0.333</td><td>0.016</td><td>0.087</td><td>0.273</td><td>19.565</td></tr><tr><th>13</th><td>3</td><td>Zero model</td><td>0.341</td><td>0.016</td><td>0.089</td><td>0.281</td><td>19.785</td></tr><tr><th>14</th><td>3</td><td>Linear regression</td><td>1.009</td><td>0.027</td><td>0.179</td><td>0.549</td><td>122.046</td></tr><tr><th>15</th><td>3</td><td>Increment model</td><td>0.315</td><td>0.011</td><td>0.062</td><td>0.219</td><td>19.565</td></tr><tr><th>16</th><td>4</td><td>Mean model</td><td>0.825</td><td>0.039</td><td>0.205</td><td>0.631</td><td>45.217</td></tr><tr><th>17</th><td>4</td><td>Modified mean model</td><td>0.823</td><td>0.039</td><td>0.205</td><td>0.63</td><td>45.217</td></tr><tr><th>18</th><td>4</td><td>Zero model</td><td>0.846</td><td>0.04</td><td>0.209</td><td>0.654</td><td>45.929</td></tr><tr><th>19</th><td>4</td><td>Linear regression</td><td>24582.4</td><td>0.156</td><td>1.499</td><td>7.024</td><td>6.87331e6</td></tr><tr><th>20</th><td>4</td><td>Increment model</td><td>0.766</td><td>0.017</td><td>0.129</td><td>0.474</td><td>45.217</td></tr></tbody></table>"
      ],
      "text/latex": [
       "\\begin{tabular}{r|ccccccc}\n",
       "\t& Scenario & Model & MSE & FirstQuartile & Median & ThirdQuartile & Maximum\\\\\n",
       "\t\\hline\n",
       "\t& String & String & Float64 & Float64 & Float64 & Float64 & Float64\\\\\n",
       "\t\\hline\n",
       "\t1 & 1 & Mean model & 0.042 & 0.002 & 0.011 & 0.035 & 2.821 \\\\\n",
       "\t2 & 1 & Modified mean model & 0.042 & 0.002 & 0.011 & 0.035 & 2.821 \\\\\n",
       "\t3 & 1 & Zero model & 0.043 & 0.002 & 0.011 & 0.035 & 2.848 \\\\\n",
       "\t4 & 1 & Linear regression & 0.06 & 0.003 & 0.015 & 0.049 & 3.949 \\\\\n",
       "\t5 & 1 & Increment model & 0.043 & 0.002 & 0.009 & 0.03 & 2.821 \\\\\n",
       "\t6 & 2 & Mean model & 0.116 & 0.006 & 0.031 & 0.097 & 6.55 \\\\\n",
       "\t7 & 2 & Modified mean model & 0.115 & 0.006 & 0.03 & 0.094 & 6.55 \\\\\n",
       "\t8 & 2 & Zero model & 0.117 & 0.006 & 0.032 & 0.098 & 6.578 \\\\\n",
       "\t9 & 2 & Linear regression & 0.179 & 0.007 & 0.046 & 0.144 & 10.034 \\\\\n",
       "\t10 & 2 & Increment model & 0.13 & 0.004 & 0.024 & 0.085 & 6.55 \\\\\n",
       "\t11 & 3 & Mean model & 0.334 & 0.016 & 0.088 & 0.274 & 19.565 \\\\\n",
       "\t12 & 3 & Modified mean model & 0.333 & 0.016 & 0.087 & 0.273 & 19.565 \\\\\n",
       "\t13 & 3 & Zero model & 0.341 & 0.016 & 0.089 & 0.281 & 19.785 \\\\\n",
       "\t14 & 3 & Linear regression & 1.009 & 0.027 & 0.179 & 0.549 & 122.046 \\\\\n",
       "\t15 & 3 & Increment model & 0.315 & 0.011 & 0.062 & 0.219 & 19.565 \\\\\n",
       "\t16 & 4 & Mean model & 0.825 & 0.039 & 0.205 & 0.631 & 45.217 \\\\\n",
       "\t17 & 4 & Modified mean model & 0.823 & 0.039 & 0.205 & 0.63 & 45.217 \\\\\n",
       "\t18 & 4 & Zero model & 0.846 & 0.04 & 0.209 & 0.654 & 45.929 \\\\\n",
       "\t19 & 4 & Linear regression & 24582.4 & 0.156 & 1.499 & 7.024 & 6.87331e6 \\\\\n",
       "\t20 & 4 & Increment model & 0.766 & 0.017 & 0.129 & 0.474 & 45.217 \\\\\n",
       "\\end{tabular}\n"
      ],
      "text/plain": [
       "\u001b[1m20×7 DataFrame\u001b[0m\n",
       "\u001b[1m Row \u001b[0m│\u001b[1m Scenario \u001b[0m\u001b[1m Model               \u001b[0m\u001b[1m MSE       \u001b[0m\u001b[1m FirstQuartile \u001b[0m\u001b[1m Median  \u001b[0m\u001b[1m Third\u001b[0m ⋯\n",
       "\u001b[1m     \u001b[0m│\u001b[90m String   \u001b[0m\u001b[90m String              \u001b[0m\u001b[90m Float64   \u001b[0m\u001b[90m Float64       \u001b[0m\u001b[90m Float64 \u001b[0m\u001b[90m Float\u001b[0m ⋯\n",
       "─────┼──────────────────────────────────────────────────────────────────────────\n",
       "   1 │ 1         Mean model               0.042          0.002    0.011        ⋯\n",
       "   2 │ 1         Modified mean model      0.042          0.002    0.011\n",
       "   3 │ 1         Zero model               0.043          0.002    0.011\n",
       "   4 │ 1         Linear regression        0.06           0.003    0.015\n",
       "   5 │ 1         Increment model          0.043          0.002    0.009        ⋯\n",
       "   6 │ 2         Mean model               0.116          0.006    0.031\n",
       "   7 │ 2         Modified mean model      0.115          0.006    0.03\n",
       "   8 │ 2         Zero model               0.117          0.006    0.032\n",
       "  ⋮  │    ⋮               ⋮               ⋮            ⋮           ⋮           ⋱\n",
       "  14 │ 3         Linear regression        1.009          0.027    0.179        ⋯\n",
       "  15 │ 3         Increment model          0.315          0.011    0.062\n",
       "  16 │ 4         Mean model               0.825          0.039    0.205\n",
       "  17 │ 4         Modified mean model      0.823          0.039    0.205\n",
       "  18 │ 4         Zero model               0.846          0.04     0.209        ⋯\n",
       "  19 │ 4         Linear regression    24582.4            0.156    1.499\n",
       "  20 │ 4         Increment model          0.766          0.017    0.129\n",
       "\u001b[36m                                                    2 columns and 5 rows omitted\u001b[0m"
      ]
     },
     "metadata": {},
     "output_type": "display_data"
    }
   ],
   "source": [
    "nmodels = 5\n",
    "nscenarios= 4\n",
    "mses = []\n",
    "medians = []\n",
    "firstquartiles = []\n",
    "thirdquartiles = []\n",
    "maximums = []\n",
    "for i in 1:nscenarios \n",
    "    cur_pred_df = prederrs_df_all[i]\n",
    "    push!(mses, round.(sum.(eachcol(cur_pred_df[!,2:end]))/nrow(cur_pred_df), digits = 3))\n",
    "    push!(medians,round.(median.(eachcol(cur_pred_df[!,2:end])), digits = 3))\n",
    "    push!(firstquartiles, round.(quantile.(eachcol(cur_pred_df[!,2:end]), 0.25), digits = 3))\n",
    "    push!(thirdquartiles, round.(quantile.(eachcol(cur_pred_df[!,2:end]), 0.75), digits = 3))\n",
    "    push!(maximums, round.(maximum.(eachcol(cur_pred_df[!,2:end])), digits=3))\n",
    "end\n",
    "\n",
    "summary_df = DataFrame(Scenario = repeat([\"$(i)\" for i in 1:nscenarios], inner=nmodels),\n",
    "                    Model = repeat([\"Mean model\", \"Modified mean model\", \"Zero model\", \"Linear regression\", \"Increment model\"], nscenarios),\n",
    "                    MSE = cat(mses..., dims=1),\n",
    "                    FirstQuartile = cat(firstquartiles..., dims=1),\n",
    "                    Median = cat(medians..., dims=1),\n",
    "                    ThirdQuartile = cat(thirdquartiles..., dims=1),\n",
    "                    Maximum = cat(maximums..., dims=1)\n",
    ")"
   ]
  },
  {
   "cell_type": "markdown",
   "metadata": {},
   "source": [
    "## Comparing loss function optima\n",
    "\n",
    "Finally, let's look at the different optima of the loss function for the classical maximun likelihood estimation based on the missing values imputed by last-observation-carried-forward, vs. the flexibel loss function bridging gaps of missing reports. \n",
    "\n",
    "First, we define the loss function for the LOCF + linear regression model "
   ]
  },
  {
   "cell_type": "code",
   "execution_count": 46,
   "metadata": {},
   "outputs": [
    {
     "data": {
      "text/plain": [
       "loss_locflinreg (generic function with 1 method)"
      ]
     },
     "metadata": {},
     "output_type": "display_data"
    }
   ],
   "source": [
    "function loss_locflinreg(dy, y, z, beta)\n",
    "    dy_hat = beta[1] .+ y .* beta[2] .+ z .* beta[3]\n",
    "    val = sum((dy_hat .- dy).^2)/length(y)\n",
    "    return val \n",
    "end "
   ]
  },
  {
   "cell_type": "markdown",
   "metadata": {},
   "source": [
    "Now, we look at one exemplary hospital, and compare the loss values. \n",
    "\n",
    "First, we fit the increment model: "
   ]
  },
  {
   "cell_type": "code",
   "execution_count": 67,
   "metadata": {},
   "outputs": [
    {
     "data": {
      "text/plain": [
       "0.0"
      ]
     },
     "metadata": {},
     "output_type": "display_data"
    }
   ],
   "source": [
    "i=124\n",
    "\n",
    "y, z, r = hospital_list[i][1:end-1,:currentcases], hospital_list[i][1:end-1,:incidences], hospital_list[i][1:end-1,:reported]\n",
    "last_currentcases, lastreported = hospital_list[i][end,:currentcases], hospital_list[i][end,:reported]\n",
    "lastincr = last_currentcases - y[end]"
   ]
  },
  {
   "cell_type": "code",
   "execution_count": 69,
   "metadata": {},
   "outputs": [
    {
     "name": "stderr",
     "output_type": "stream",
     "text": [
      "┌ Info: optimal beta:\n",
      "│   beta = [0.009673814357481405, -0.19765998134203303, 0.19940676708379262]\n",
      "└ @ Main /Users/imbi-mac-102/Desktop/TalkReisensburg/DifferentiableProgrammingForStatisticalModeling-main/notebooks/DifferentiableProgrammingDemo.ipynb:7\n",
      "┌ Info: Model prediction:\n",
      "│   incrmod_pred = 0.0013505583615094907\n",
      "└ @ Main /Users/imbi-mac-102/Desktop/TalkReisensburg/DifferentiableProgrammingForStatisticalModeling-main/notebooks/DifferentiableProgrammingDemo.ipynb:10\n"
     ]
    }
   ],
   "source": [
    "beta = [0.0, 0.0, 0.0]\n",
    "\n",
    "for epoch=1:150\n",
    "    curgrad = gradient(arg -> loss(y, z, r, arg), beta)\n",
    "    beta .-= [0.001, 0.01, 0.001] .* curgrad[1]\n",
    "end\n",
    "@info \"optimal beta:\" beta\n",
    "\n",
    "incrmod_pred = beta[1] + beta[2] * y[end] + beta[3] * z[end]\n",
    "@info \"Model prediction:\" incrmod_pred"
   ]
  },
  {
   "cell_type": "markdown",
   "metadata": {},
   "source": [
    "Let's look at the baseline predictions first: "
   ]
  },
  {
   "cell_type": "code",
   "execution_count": 70,
   "metadata": {},
   "outputs": [
    {
     "name": "stderr",
     "output_type": "stream",
     "text": [
      "┌ Info: mean_pred:\n",
      "│   mean_pred = -0.17647058823529413\n",
      "└ @ Main /Users/imbi-mac-102/Desktop/TalkReisensburg/DifferentiableProgrammingForStatisticalModeling-main/notebooks/DifferentiableProgrammingDemo.ipynb:4\n",
      "┌ Info: modified mean pred:\n",
      "│   modmean_pred = -0.17647058823529413\n",
      "└ @ Main /Users/imbi-mac-102/Desktop/TalkReisensburg/DifferentiableProgrammingForStatisticalModeling-main/notebooks/DifferentiableProgrammingDemo.ipynb:5\n"
     ]
    }
   ],
   "source": [
    "mean_pred = mean(diff(y))\n",
    "modmean_pred = y[end] == 0.0 ? 0.0 : mean_pred\n",
    "\n",
    "@info \"mean_pred:\" mean_pred\n",
    "@info \"modified mean pred:\" modmean_pred"
   ]
  },
  {
   "cell_type": "markdown",
   "metadata": {},
   "source": [
    "Now, let's compare the linear regression prediction. "
   ]
  },
  {
   "cell_type": "code",
   "execution_count": 71,
   "metadata": {},
   "outputs": [
    {
     "name": "stderr",
     "output_type": "stream",
     "text": [
      "┌ Info: beta from LOCF + linear regression:\n",
      "│   lrbeta = [-0.13840695572446282, -0.011359847548439458, 0.0040478295996681]\n",
      "└ @ Main /Users/imbi-mac-102/Desktop/TalkReisensburg/DifferentiableProgrammingForStatisticalModeling-main/notebooks/DifferentiableProgrammingDemo.ipynb:6\n",
      "┌ Info: LOCF + linear regression prediction:\n",
      "│   linreg_pred = -0.14592338906801744\n",
      "└ @ Main /Users/imbi-mac-102/Desktop/TalkReisensburg/DifferentiableProgrammingForStatisticalModeling-main/notebooks/DifferentiableProgrammingDemo.ipynb:7\n"
     ]
    }
   ],
   "source": [
    "slrdf = DataFrame(dy = diff(y), y = y[2:end], z = z[2:end])\n",
    "ols = lm(@formula(dy ~ y + z), slrdf)\n",
    "lrbeta = coef(ols)\n",
    "linreg_pred = lrbeta[1] + lrbeta[2] * y[end] + lrbeta[3] * z[end]\n",
    "\n",
    "@info \"beta from LOCF + linear regression:\" lrbeta\n",
    "@info \"LOCF + linear regression prediction:\" linreg_pred"
   ]
  },
  {
   "cell_type": "markdown",
   "metadata": {},
   "source": [
    "Finally, we can compare the loss function values at the optimal coefficients:"
   ]
  },
  {
   "cell_type": "code",
   "execution_count": 72,
   "metadata": {},
   "outputs": [
    {
     "name": "stderr",
     "output_type": "stream",
     "text": [
      "┌ Info: loss from LOCF + linear regression:\n",
      "│   loss_lr = 0.37951482642455703\n",
      "└ @ Main /Users/imbi-mac-102/Desktop/TalkReisensburg/DifferentiableProgrammingForStatisticalModeling-main/notebooks/DifferentiableProgrammingDemo.ipynb:2\n",
      "┌ Info: loss from increment model:\n",
      "│   loss_incr = 0.32782053612611106\n",
      "└ @ Main /Users/imbi-mac-102/Desktop/TalkReisensburg/DifferentiableProgrammingForStatisticalModeling-main/notebooks/DifferentiableProgrammingDemo.ipynb:4\n"
     ]
    }
   ],
   "source": [
    "loss_lr = loss_locflinreg(diff(y), y[2:end], z[2:end], lrbeta)\n",
    "@info \"loss from LOCF + linear regression:\" loss_lr\n",
    "loss_incr = loss(y, z, r, beta)\n",
    "@info \"loss from increment model:\" loss_incr"
   ]
  }
 ],
 "metadata": {
  "kernelspec": {
   "display_name": "Julia 1.6.3",
   "language": "julia",
   "name": "julia-1.6"
  },
  "language_info": {
   "file_extension": ".jl",
   "mimetype": "application/julia",
   "name": "julia",
   "version": "1.6.3"
  },
  "orig_nbformat": 4,
  "vscode": {
   "interpreter": {
    "hash": "ccda9644f942f1f0caf61f7ada456fd370b14ed90501cf7ebcd0777bc80e6b68"
   }
  }
 },
 "nbformat": 4,
 "nbformat_minor": 2
}
